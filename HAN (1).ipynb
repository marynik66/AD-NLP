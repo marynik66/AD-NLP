{
  "nbformat": 4,
  "nbformat_minor": 0,
  "metadata": {
    "colab": {
      "name": "HAN.ipynb",
      "provenance": [],
      "collapsed_sections": []
    },
    "kernelspec": {
      "name": "python3",
      "display_name": "Python 3"
    }
  },
  "cells": [
    {
      "cell_type": "code",
      "metadata": {
        "id": "c5NH5if8HMYU",
        "colab_type": "code",
        "colab": {
          "base_uri": "https://localhost:8080/",
          "height": 102
        },
        "outputId": "bab7e1a7-c9a9-4549-9932-dd79507c2777"
      },
      "source": [
        "!git clone https://github.com/charlesdong1991/interpretable-han-for-document-classification-with-keras.git"
      ],
      "execution_count": null,
      "outputs": [
        {
          "output_type": "stream",
          "text": [
            "Cloning into 'interpretable-han-for-document-classification-with-keras'...\n",
            "remote: Enumerating objects: 141, done.\u001b[K\n",
            "remote: Total 141 (delta 0), reused 0 (delta 0), pack-reused 141\u001b[K\n",
            "Receiving objects: 100% (141/141), 119.87 KiB | 3.33 MiB/s, done.\n",
            "Resolving deltas: 100% (69/69), done.\n"
          ],
          "name": "stdout"
        }
      ]
    },
    {
      "cell_type": "code",
      "metadata": {
        "id": "3xCoMfjnxrHi",
        "colab_type": "code",
        "colab": {
          "base_uri": "https://localhost:8080/",
          "height": 85
        },
        "outputId": "65c81a7f-bc33-49a7-eab8-03d0148cb139"
      },
      "source": [
        "!git clone https://github.com/jiesutd/Text-Attention-Heatmap-Visualization.git"
      ],
      "execution_count": null,
      "outputs": [
        {
          "output_type": "stream",
          "text": [
            "Cloning into 'Text-Attention-Heatmap-Visualization'...\n",
            "remote: Enumerating objects: 40, done.\u001b[K\n",
            "Unpacking objects:   2% (1/40)   \rUnpacking objects:   5% (2/40)   \rUnpacking objects:   7% (3/40)   \rUnpacking objects:  10% (4/40)   \rUnpacking objects:  12% (5/40)   \rUnpacking objects:  15% (6/40)   \rUnpacking objects:  17% (7/40)   \rUnpacking objects:  20% (8/40)   \rUnpacking objects:  22% (9/40)   \rUnpacking objects:  25% (10/40)   \rUnpacking objects:  27% (11/40)   \rUnpacking objects:  30% (12/40)   \rUnpacking objects:  32% (13/40)   \rUnpacking objects:  35% (14/40)   \rUnpacking objects:  37% (15/40)   \rremote: Total 40 (delta 0), reused 0 (delta 0), pack-reused 40\u001b[K\n",
            "Unpacking objects:  40% (16/40)   \rUnpacking objects:  42% (17/40)   \rUnpacking objects:  45% (18/40)   \rUnpacking objects:  47% (19/40)   \rUnpacking objects:  50% (20/40)   \rUnpacking objects:  52% (21/40)   \rUnpacking objects:  55% (22/40)   \rUnpacking objects:  57% (23/40)   \rUnpacking objects:  60% (24/40)   \rUnpacking objects:  62% (25/40)   \rUnpacking objects:  65% (26/40)   \rUnpacking objects:  67% (27/40)   \rUnpacking objects:  70% (28/40)   \rUnpacking objects:  72% (29/40)   \rUnpacking objects:  75% (30/40)   \rUnpacking objects:  77% (31/40)   \rUnpacking objects:  80% (32/40)   \rUnpacking objects:  82% (33/40)   \rUnpacking objects:  85% (34/40)   \rUnpacking objects:  87% (35/40)   \rUnpacking objects:  90% (36/40)   \rUnpacking objects:  92% (37/40)   \rUnpacking objects:  95% (38/40)   \rUnpacking objects:  97% (39/40)   \rUnpacking objects: 100% (40/40)   \rUnpacking objects: 100% (40/40), done.\n"
          ],
          "name": "stdout"
        }
      ]
    },
    {
      "cell_type": "code",
      "metadata": {
        "id": "2HAJ569z0b_P",
        "colab_type": "code",
        "colab": {
          "base_uri": "https://localhost:8080/",
          "height": 122
        },
        "outputId": "01385551-9b4c-4203-c245-fcb455cf3f7c"
      },
      "source": [
        "from google.colab import drive\n",
        "drive.mount('/content/drive')"
      ],
      "execution_count": null,
      "outputs": [
        {
          "output_type": "stream",
          "text": [
            "Go to this URL in a browser: https://accounts.google.com/o/oauth2/auth?client_id=947318989803-6bn6qk8qdgf4n4g3pfee6491hc0brc4i.apps.googleusercontent.com&redirect_uri=urn%3aietf%3awg%3aoauth%3a2.0%3aoob&response_type=code&scope=email%20https%3a%2f%2fwww.googleapis.com%2fauth%2fdocs.test%20https%3a%2f%2fwww.googleapis.com%2fauth%2fdrive%20https%3a%2f%2fwww.googleapis.com%2fauth%2fdrive.photos.readonly%20https%3a%2f%2fwww.googleapis.com%2fauth%2fpeopleapi.readonly\n",
            "\n",
            "Enter your authorization code:\n",
            "··········\n",
            "Mounted at /content/drive\n"
          ],
          "name": "stdout"
        }
      ]
    },
    {
      "cell_type": "code",
      "metadata": {
        "id": "MumxqnvsfxKS",
        "colab_type": "code",
        "colab": {
          "base_uri": "https://localhost:8080/",
          "height": 34
        },
        "outputId": "ee272658-55f8-426b-a43a-0abfaaaa49dc"
      },
      "source": [
        "cd /content/interpretable-han-for-document-classification-with-keras"
      ],
      "execution_count": null,
      "outputs": [
        {
          "output_type": "stream",
          "text": [
            "/content/interpretable-han-for-document-classification-with-keras\n"
          ],
          "name": "stdout"
        }
      ]
    },
    {
      "cell_type": "code",
      "metadata": {
        "id": "Z7CC1CQSJoFw",
        "colab_type": "code",
        "colab": {
          "base_uri": "https://localhost:8080/",
          "height": 1000
        },
        "outputId": "c6908eb8-aca9-4431-d74a-db14913777af"
      },
      "source": [
        "!python setup.py install"
      ],
      "execution_count": null,
      "outputs": [
        {
          "output_type": "stream",
          "text": [
            "running install\n",
            "running bdist_egg\n",
            "running egg_info\n",
            "creating hierachical_attention_network_for_document_classification.egg-info\n",
            "writing hierachical_attention_network_for_document_classification.egg-info/PKG-INFO\n",
            "writing dependency_links to hierachical_attention_network_for_document_classification.egg-info/dependency_links.txt\n",
            "writing requirements to hierachical_attention_network_for_document_classification.egg-info/requires.txt\n",
            "writing top-level names to hierachical_attention_network_for_document_classification.egg-info/top_level.txt\n",
            "writing manifest file 'hierachical_attention_network_for_document_classification.egg-info/SOURCES.txt'\n",
            "writing manifest file 'hierachical_attention_network_for_document_classification.egg-info/SOURCES.txt'\n",
            "installing library code to build/bdist.linux-x86_64/egg\n",
            "running install_lib\n",
            "running build_py\n",
            "creating build\n",
            "creating build/lib\n",
            "creating build/lib/han\n",
            "copying han/__init__.py -> build/lib/han\n",
            "copying han/model.py -> build/lib/han\n",
            "copying han/utils.py -> build/lib/han\n",
            "copying han/attention.py -> build/lib/han\n",
            "creating build/bdist.linux-x86_64\n",
            "creating build/bdist.linux-x86_64/egg\n",
            "creating build/bdist.linux-x86_64/egg/han\n",
            "copying build/lib/han/__init__.py -> build/bdist.linux-x86_64/egg/han\n",
            "copying build/lib/han/model.py -> build/bdist.linux-x86_64/egg/han\n",
            "copying build/lib/han/utils.py -> build/bdist.linux-x86_64/egg/han\n",
            "copying build/lib/han/attention.py -> build/bdist.linux-x86_64/egg/han\n",
            "byte-compiling build/bdist.linux-x86_64/egg/han/__init__.py to __init__.cpython-36.pyc\n",
            "byte-compiling build/bdist.linux-x86_64/egg/han/model.py to model.cpython-36.pyc\n",
            "byte-compiling build/bdist.linux-x86_64/egg/han/utils.py to utils.cpython-36.pyc\n",
            "byte-compiling build/bdist.linux-x86_64/egg/han/attention.py to attention.cpython-36.pyc\n",
            "creating build/bdist.linux-x86_64/egg/EGG-INFO\n",
            "copying hierachical_attention_network_for_document_classification.egg-info/PKG-INFO -> build/bdist.linux-x86_64/egg/EGG-INFO\n",
            "copying hierachical_attention_network_for_document_classification.egg-info/SOURCES.txt -> build/bdist.linux-x86_64/egg/EGG-INFO\n",
            "copying hierachical_attention_network_for_document_classification.egg-info/dependency_links.txt -> build/bdist.linux-x86_64/egg/EGG-INFO\n",
            "copying hierachical_attention_network_for_document_classification.egg-info/requires.txt -> build/bdist.linux-x86_64/egg/EGG-INFO\n",
            "copying hierachical_attention_network_for_document_classification.egg-info/top_level.txt -> build/bdist.linux-x86_64/egg/EGG-INFO\n",
            "zip_safe flag not set; analyzing archive contents...\n",
            "creating dist\n",
            "creating 'dist/hierachical_attention_network_for_document_classification-0.1.0-py3.6.egg' and adding 'build/bdist.linux-x86_64/egg' to it\n",
            "removing 'build/bdist.linux-x86_64/egg' (and everything under it)\n",
            "Processing hierachical_attention_network_for_document_classification-0.1.0-py3.6.egg\n",
            "Copying hierachical_attention_network_for_document_classification-0.1.0-py3.6.egg to /usr/local/lib/python3.6/dist-packages\n",
            "Adding hierachical-attention-network-for-document-classification 0.1.0 to easy-install.pth file\n",
            "\n",
            "Installed /usr/local/lib/python3.6/dist-packages/hierachical_attention_network_for_document_classification-0.1.0-py3.6.egg\n",
            "Processing dependencies for hierachical-attention-network-for-document-classification==0.1.0\n",
            "Searching for pandas==1.0.5\n",
            "Best match: pandas 1.0.5\n",
            "Adding pandas 1.0.5 to easy-install.pth file\n",
            "\n",
            "Using /usr/local/lib/python3.6/dist-packages\n",
            "Searching for Keras==2.4.3\n",
            "Best match: Keras 2.4.3\n",
            "Adding Keras 2.4.3 to easy-install.pth file\n",
            "\n",
            "Using /usr/local/lib/python3.6/dist-packages\n",
            "Searching for pytz==2018.9\n",
            "Best match: pytz 2018.9\n",
            "Adding pytz 2018.9 to easy-install.pth file\n",
            "\n",
            "Using /usr/local/lib/python3.6/dist-packages\n",
            "Searching for numpy==1.18.5\n",
            "Best match: numpy 1.18.5\n",
            "Adding numpy 1.18.5 to easy-install.pth file\n",
            "Installing f2py script to /usr/local/bin\n",
            "Installing f2py3 script to /usr/local/bin\n",
            "Installing f2py3.6 script to /usr/local/bin\n",
            "\n",
            "Using /usr/local/lib/python3.6/dist-packages\n",
            "Searching for python-dateutil==2.8.1\n",
            "Best match: python-dateutil 2.8.1\n",
            "Adding python-dateutil 2.8.1 to easy-install.pth file\n",
            "\n",
            "Using /usr/local/lib/python3.6/dist-packages\n",
            "Searching for PyYAML==3.13\n",
            "Best match: PyYAML 3.13\n",
            "Adding PyYAML 3.13 to easy-install.pth file\n",
            "\n",
            "Using /usr/local/lib/python3.6/dist-packages\n",
            "Searching for scipy==1.4.1\n",
            "Best match: scipy 1.4.1\n",
            "Adding scipy 1.4.1 to easy-install.pth file\n",
            "\n",
            "Using /usr/local/lib/python3.6/dist-packages\n",
            "Searching for h5py==2.10.0\n",
            "Best match: h5py 2.10.0\n",
            "Adding h5py 2.10.0 to easy-install.pth file\n",
            "\n",
            "Using /usr/local/lib/python3.6/dist-packages\n",
            "Searching for six==1.15.0\n",
            "Best match: six 1.15.0\n",
            "Adding six 1.15.0 to easy-install.pth file\n",
            "\n",
            "Using /usr/local/lib/python3.6/dist-packages\n",
            "Finished processing dependencies for hierachical-attention-network-for-document-classification==0.1.0\n"
          ],
          "name": "stdout"
        }
      ]
    },
    {
      "cell_type": "code",
      "metadata": {
        "id": "u1nGval-gC_Y",
        "colab_type": "code",
        "colab": {}
      },
      "source": [
        "import sys\n",
        "sys.path.insert(0,'content/interpretable-han-for-document-classification-with-keras')\n",
        "#from han.model import HAN\n",
        "\n"
      ],
      "execution_count": null,
      "outputs": []
    },
    {
      "cell_type": "code",
      "metadata": {
        "id": "kbKHzMgwFtZb",
        "colab_type": "code",
        "colab": {
          "base_uri": "https://localhost:8080/",
          "height": 102
        },
        "outputId": "0e692ce9-d6ac-45ec-d5aa-36261c3a1fe7"
      },
      "source": [
        "\"\"\"\n",
        "This example applies the HAN classifier to Kaggle's IMDB\n",
        "review dataset. The goal is to predict whether a review is\n",
        "positive (5 star rating >=3) or negative (otherwise)\n",
        "\"\"\"\n",
        "\n",
        "import re\n",
        "import numpy as np\n",
        "import pandas as pd\n",
        "import logging\n",
        "import sys\n",
        "from keras.preprocessing.text import Tokenizer\n",
        "from keras.preprocessing.sequence import pad_sequences\n",
        "from keras.callbacks import ModelCheckpoint\n",
        "from keras.utils import to_categorical\n",
        "from nltk.tokenize import sent_tokenize\n",
        "from sklearn.model_selection import train_test_split\n",
        "from han.model import HAN\n",
        "import nltk\n",
        "nltk.download('punkt')\n",
        "\n",
        "# Create a logger to provide info on the state of the\n",
        "# script\n",
        "stdout = logging.StreamHandler(sys.stdout)\n",
        "stdout.setFormatter(logging.Formatter(\n",
        "    '%(asctime)s - %(name)s - %(levelname)s - %(message)s'\n",
        "))\n",
        "logger = logging.getLogger('default')\n",
        "logger.setLevel(logging.INFO)\n",
        "logger.addHandler(stdout)\n",
        "\n",
        "\n",
        "#max_doc_length = 30\n",
        "#max_doc_num = 5\n",
        "max_sent_length = 100\n",
        "max_sent_num = 25\n",
        "MAX_VOC_SIZE = 20000\n",
        "GLOVE_DIM = 200\n",
        "TEST_SPLIT = 0.1\n",
        "\n",
        "\n",
        "#####################################################\n",
        "# Pre processing                                    #\n",
        "#####################################################\n",
        "logger.info(\"Pre-processsing data.\")\n",
        "\n",
        "# Load Kaggle's IMDB example data\n",
        "#data = pd.read_csv('/Users/maryam/Desktop/keras-han-for-docla/labeledTrainData.tsv', sep='\\t')\n",
        "#data = pd.read_csv('/content/labeledTrainData.tsv', sep='\\t')\n",
        "data = pd.read_csv('/content/Total.csv', encoding='latin1')\n",
        "\n",
        "\n",
        "\"\"\"\n",
        "# Do some basic cleaning of the review text\n",
        "def remove_quotations(text):\n",
        "    \n",
        "    #Remove quotations and slashes from the dataset.\n",
        "    \n",
        "    text = re.sub(r\"\\\\\", \"\", text)\n",
        "    text = re.sub(r\"\\'\", \"\", text)\n",
        "    text = re.sub(r\"\\\"\", \"\", text)\n",
        "    return text\n",
        "\n",
        "\n",
        "def remove_html(text):\n",
        "    \n",
        "    #Very, very raw parser to remove HTML tags from\n",
        "    #texts.\n",
        "   \n",
        "    tags_regex = re.compile(r'<.*?>')\n",
        "    return tags_regex.sub('', text)\n",
        "\n",
        "\n",
        "data['review'] = data['review'].apply(remove_quotations)\n",
        "data['review'] = data['review'].apply(remove_html)\n",
        "data['review'] = data['review'].apply(lambda x: x.strip().lower())\n",
        "\"\"\"\n",
        "# Get the data and the sentiment\n",
        "reviews = data['review'].values\n",
        "#reviews = data.iloc[:,1:6].values\n",
        "target = data['sentiment'].values\n",
        "#del data\n",
        "\n",
        "\n",
        "#####################################################\n",
        "# Tokenization                                      #\n",
        "#####################################################\n",
        "logger.info(\"Tokenization.\")\n",
        "\n",
        "# Build a Keras Tokenizer that can encode every token\n",
        "word_tokenizer = Tokenizer(num_words=MAX_VOC_SIZE)\n",
        "word_tokenizer.fit_on_texts(reviews)\n",
        "\n",
        "# Construct the input matrix. This should be a nd-array of\n",
        "# shape (n_samples, max_sent_num, max_sent_length).\n",
        "# We zero-pad this matrix (this does not influence\n",
        "# any predictions due to the attention mechanism.\n",
        "\n",
        "\n",
        "X = np.zeros((len(reviews), max_sent_num, max_sent_length), dtype='int32')\n",
        "#X = np.zeros((len(data), max_doc_num , max_sent_num, max_sent_length), dtype='int32')\n",
        "\n",
        "\n",
        "\n",
        "for i, review in enumerate(reviews):\n",
        "    sentences = sent_tokenize(review)\n",
        "    tokenized_sentences = word_tokenizer.texts_to_sequences(\n",
        "        sentences\n",
        "    )\n",
        "    tokenized_sentences = pad_sequences(\n",
        "        tokenized_sentences, maxlen=max_sent_length\n",
        "    )\n",
        "\n",
        "    pad_size = max_sent_num - tokenized_sentences.shape[0]\n",
        "\n",
        "    if pad_size < 0:\n",
        "        tokenized_sentences = tokenized_sentences[0:max_sent_num]\n",
        "    else:\n",
        "        tokenized_sentences = np.pad(\n",
        "            tokenized_sentences, ((0,pad_size),(0,0)),\n",
        "            mode='constant', constant_values=0\n",
        "        )\n",
        "\n",
        "    # Store this observation as the i-th observation in\n",
        "    # the data matrix\n",
        "    X[i] = tokenized_sentences[None, ...]\n",
        "\n",
        "# Transform the labels into a format Keras can handle\n",
        "y = to_categorical(target)\n",
        "\n",
        "# We make a train/test split\n",
        "X_train, X_test, y_train, y_test = train_test_split(X, y, test_size=TEST_SPLIT)\n",
        "\n",
        "\n",
        "#####################################################\n",
        "# Word Embeddings                                   #\n",
        "#####################################################\n",
        "logger.info(\n",
        "    \"Creating embedding matrix using pre-trained GloVe vectors.\"\n",
        ")\n",
        "\n",
        "# Now, we need to build the embedding matrix. For this we use\n",
        "# a pretrained (on the wikipedia corpus) 100-dimensional GloVe\n",
        "# model.\n",
        "\n",
        "# Load the embeddings from a file\n",
        "embeddings = {}\n",
        "with open('/content/drive/My Drive/glove/glove.6B.%dd.txt' % GLOVE_DIM, encoding='utf-8') as file:\n",
        "    for line in file:\n",
        "        values = line.split()\n",
        "        word = values[0]\n",
        "        coefs = np.asarray(values[1:], dtype='float32')\n",
        "\n",
        "        embeddings[word] = coefs\n",
        "\n",
        "# Initialize a matrix to hold the word embeddings\n",
        "embedding_matrix = np.random.random(\n",
        "    (len(word_tokenizer.word_index) + 1, GLOVE_DIM)\n",
        ")\n",
        "\n",
        "# Let the padded indices map to zero-vectors. This will\n",
        "# prevent the padding from influencing the results\n",
        "embedding_matrix[0] = 0\n",
        "\n",
        "# Loop though all the words in the word_index and where possible\n",
        "# replace the random initalization with the GloVe vector.\n",
        "for word, index in word_tokenizer.word_index.items():\n",
        "    embedding_vector = embeddings.get(word)\n",
        "    if embedding_vector is not None:\n",
        "        embedding_matrix[index] = embedding_vector\n",
        "\n"
      ],
      "execution_count": null,
      "outputs": [
        {
          "output_type": "stream",
          "text": [
            "[nltk_data] Downloading package punkt to /root/nltk_data...\n",
            "[nltk_data]   Unzipping tokenizers/punkt.zip.\n",
            "2020-08-04 14:36:48,645 - default - INFO - Pre-processsing data.\n",
            "2020-08-04 14:36:48,669 - default - INFO - Tokenization.\n",
            "2020-08-04 14:36:48,858 - default - INFO - Creating embedding matrix using pre-trained GloVe vectors.\n"
          ],
          "name": "stdout"
        }
      ]
    },
    {
      "cell_type": "code",
      "metadata": {
        "id": "FQ0iJ0VobhHU",
        "colab_type": "code",
        "colab": {}
      },
      "source": [
        "tokenized_sentences = word_tokenizer.texts_to_sequences(\n",
        "        sentences\n",
        "    )"
      ],
      "execution_count": null,
      "outputs": []
    },
    {
      "cell_type": "code",
      "metadata": {
        "id": "YGfz0TeJbkgX",
        "colab_type": "code",
        "colab": {}
      },
      "source": [
        "tokenized_sentences1 = pad_sequences(\n",
        "        tokenized_sentences, maxlen=max_sent_length\n",
        "    )"
      ],
      "execution_count": null,
      "outputs": []
    },
    {
      "cell_type": "code",
      "metadata": {
        "id": "41sZFOz7bm_0",
        "colab_type": "code",
        "colab": {
          "base_uri": "https://localhost:8080/",
          "height": 34
        },
        "outputId": "40ef9624-5864-4ce4-bd90-9cee466aaaa8"
      },
      "source": [
        "tokenized_sentences[0]"
      ],
      "execution_count": null,
      "outputs": [
        {
          "output_type": "execute_result",
          "data": {
            "text/plain": [
              "[1, 189, 3, 1, 40, 1, 33, 3, 83, 6, 61, 1, 20]"
            ]
          },
          "metadata": {
            "tags": []
          },
          "execution_count": 100
        }
      ]
    },
    {
      "cell_type": "code",
      "metadata": {
        "id": "vj36rfQ7bv4T",
        "colab_type": "code",
        "colab": {
          "base_uri": "https://localhost:8080/",
          "height": 153
        },
        "outputId": "be6f575e-57e8-4b40-a437-3f5ebe52eb74"
      },
      "source": [
        "tokenized_sentences1[0]"
      ],
      "execution_count": null,
      "outputs": [
        {
          "output_type": "execute_result",
          "data": {
            "text/plain": [
              "array([  0,   0,   0,   0,   0,   0,   0,   0,   0,   0,   0,   0,   0,\n",
              "         0,   0,   0,   0,   0,   0,   0,   0,   0,   0,   0,   0,   0,\n",
              "         0,   0,   0,   0,   0,   0,   0,   0,   0,   0,   0,   0,   0,\n",
              "         0,   0,   0,   0,   0,   0,   0,   0,   0,   0,   0,   0,   0,\n",
              "         0,   0,   0,   0,   0,   0,   0,   0,   0,   0,   0,   0,   0,\n",
              "         0,   0,   0,   0,   0,   0,   0,   0,   0,   0,   0,   0,   0,\n",
              "         0,   0,   0,   0,   0,   0,   0,   0,   0,   1, 189,   3,   1,\n",
              "        40,   1,  33,   3,  83,   6,  61,   1,  20], dtype=int32)"
            ]
          },
          "metadata": {
            "tags": []
          },
          "execution_count": 101
        }
      ]
    },
    {
      "cell_type": "code",
      "metadata": {
        "id": "Gm_UIQ3kb6Gq",
        "colab_type": "code",
        "colab": {
          "base_uri": "https://localhost:8080/",
          "height": 34
        },
        "outputId": "846d7324-e7e8-40bf-ac24-9a7cefb62d02"
      },
      "source": [
        "X[1].shape"
      ],
      "execution_count": null,
      "outputs": [
        {
          "output_type": "execute_result",
          "data": {
            "text/plain": [
              "(25, 100)"
            ]
          },
          "metadata": {
            "tags": []
          },
          "execution_count": 104
        }
      ]
    },
    {
      "cell_type": "code",
      "metadata": {
        "id": "Y7sgugkj9hWw",
        "colab_type": "code",
        "colab": {}
      },
      "source": [
        "word_index = word_tokenizer.word_index"
      ],
      "execution_count": null,
      "outputs": []
    },
    {
      "cell_type": "code",
      "metadata": {
        "id": "6TaprvOY967g",
        "colab_type": "code",
        "colab": {
          "base_uri": "https://localhost:8080/",
          "height": 34
        },
        "outputId": "085ae5a7-6246-46bd-a31a-2ab8b5a21492"
      },
      "source": [
        "from han.attention import Attention"
      ],
      "execution_count": null,
      "outputs": [
        {
          "output_type": "stream",
          "text": [
            "Using TensorFlow backend.\n"
          ],
          "name": "stderr"
        }
      ]
    },
    {
      "cell_type": "code",
      "metadata": {
        "id": "NbjutIHmFpTH",
        "colab_type": "code",
        "colab": {}
      },
      "source": [
        "import pandas as pd\n",
        "from keras.models import Model\n",
        "from keras.layers import Input, Embedding, Dense, GRU, Bidirectional, TimeDistributed, Lambda\n",
        "from keras.callbacks import ModelCheckpoint\n",
        "\n",
        "from han.attention import Attention\n",
        "\n",
        "DENSE_SIZE = 100\n",
        "\n",
        "\n",
        "class HAN(Model):\n",
        "    def __init__(self, embedding_matrix, max_doc_length=30, max_sent_length=100,\n",
        "                 max_sent_num=10, max_doc_num=5, word_embed_dim=100, sent_embed_dim=100, doc_embed_dim=300):\n",
        "        \"\"\"Implementation of Hierarchical Attention Networks for document classification.\n",
        "\n",
        "        Args:\n",
        "            embedding_matrix: embedding matrix used to represent words.\n",
        "            max_sent_length: int, maximum number of words per sentence, default is 100.\n",
        "            max_sent_num: int, maximum number of sentences accepted, default is 10.\n",
        "            word_embed_dim: int, dimension of word encoder, default is 100.\n",
        "            sent_embed_dim: int, dimension of sentence encoder, default is 100.\n",
        "        \n",
        "            ************************************\n",
        "            max_doc_length: int, maximum number of sentences per document, default is 30. ???????\n",
        "            max_doc_num: int, maximum number of documents per patient, default is 5.\n",
        "            doc_embed_dim: int, dimension of document encoder, default is 300.  \n",
        "            \n",
        "        \"\"\"\n",
        "        self.embedding_matrix = embedding_matrix\n",
        "        self.max_sent_length = max_sent_length\n",
        "        self.max_sent_num = max_sent_num\n",
        "        self.word_embed_dim = word_embed_dim\n",
        "        self.sent_embed_dim = sent_embed_dim\n",
        "        \n",
        "        self.max_doc_length= max_doc_length\n",
        "        self.max_doc_num=max_doc_num\n",
        "        self.doc_embed_dim=doc_embed_dim\n",
        "\n",
        "        super(HAN, self).__init__(name='han')\n",
        "        #self.build_model()\n",
        "\n",
        "    def build_word_encoder(self):\n",
        "        \"\"\"Build word encoder.\n",
        "\n",
        "        The function starts with a Input tensor layer, and go through\n",
        "        Embedding layer and then Bidirectional GRU layer and\n",
        "        TimeDistributed layer and ends with Attention.\n",
        "\n",
        "        Returns:\n",
        "            Model, a model layer wraps sent_input and word attention.\n",
        "        \"\"\"\n",
        "        sent_input = Input(shape=(self.max_sent_length,), dtype='float32')\n",
        "        embedded_sent = Embedding(\n",
        "            self.embedding_matrix.shape[0], self.embedding_matrix.shape[1],\n",
        "            weights=[self.embedding_matrix], input_length=self.max_sent_length,\n",
        "            trainable=False\n",
        "        )(sent_input)\n",
        "\n",
        "        # For Bidirectional, devide by 2\n",
        "        encoded_sent = Bidirectional(\n",
        "            GRU(int(self.word_embed_dim / 2), return_sequences=True)\n",
        "        )(embedded_sent)\n",
        "        # TODO: check if dense is still needed in timedistributed\n",
        "        dense_sent = TimeDistributed(Dense(DENSE_SIZE))(encoded_sent)\n",
        "\n",
        "        word_att = Attention(name='word_attention')(dense_sent)\n",
        "\n",
        "        return Model(sent_input, word_att)"
      ],
      "execution_count": null,
      "outputs": []
    },
    {
      "cell_type": "code",
      "metadata": {
        "id": "xSMbkhrUGDaG",
        "colab_type": "code",
        "colab": {
          "base_uri": "https://localhost:8080/",
          "height": 207
        },
        "outputId": "8f27b688-0ee3-4708-8e58-b6090bf146e0"
      },
      "source": [
        "model = HAN(embedding_matrix, max_sent_length=100, max_sent_num=25, max_doc_num=5, word_embed_dim=100, sent_embed_dim=100, doc_embed_dim=300)\n"
      ],
      "execution_count": null,
      "outputs": [
        {
          "output_type": "stream",
          "text": [
            "W0820 20:15:09.860084 139865516341120 deprecation_wrapper.py:119] From /usr/local/lib/python3.6/dist-packages/keras/backend/tensorflow_backend.py:74: The name tf.get_default_graph is deprecated. Please use tf.compat.v1.get_default_graph instead.\n",
            "\n",
            "W0820 20:15:09.906810 139865516341120 deprecation_wrapper.py:119] From /usr/local/lib/python3.6/dist-packages/keras/backend/tensorflow_backend.py:517: The name tf.placeholder is deprecated. Please use tf.compat.v1.placeholder instead.\n",
            "\n",
            "W0820 20:15:09.914981 139865516341120 deprecation_wrapper.py:119] From /usr/local/lib/python3.6/dist-packages/keras/backend/tensorflow_backend.py:4138: The name tf.random_uniform is deprecated. Please use tf.random.uniform instead.\n",
            "\n",
            "W0820 20:15:09.926078 139865516341120 deprecation_wrapper.py:119] From /usr/local/lib/python3.6/dist-packages/keras/backend/tensorflow_backend.py:174: The name tf.get_default_session is deprecated. Please use tf.compat.v1.get_default_session instead.\n",
            "\n",
            "W0820 20:15:09.927987 139865516341120 deprecation_wrapper.py:119] From /usr/local/lib/python3.6/dist-packages/keras/backend/tensorflow_backend.py:181: The name tf.ConfigProto is deprecated. Please use tf.compat.v1.ConfigProto instead.\n",
            "\n"
          ],
          "name": "stderr"
        }
      ]
    },
    {
      "cell_type": "code",
      "metadata": {
        "id": "22X4u91vHX1a",
        "colab_type": "code",
        "colab": {
          "base_uri": "https://localhost:8080/",
          "height": 34
        },
        "outputId": "e69a16a8-ec30-4ba2-a728-003af5b03a18"
      },
      "source": [
        "embedding_matrix.shape[0]"
      ],
      "execution_count": null,
      "outputs": [
        {
          "output_type": "execute_result",
          "data": {
            "text/plain": [
              "1373"
            ]
          },
          "metadata": {
            "tags": []
          },
          "execution_count": 11
        }
      ]
    },
    {
      "cell_type": "code",
      "metadata": {
        "id": "HTS6Y9jHa51W",
        "colab_type": "code",
        "colab": {}
      },
      "source": [
        "word_embed_dim=100\n",
        "sent_embed_dim=100"
      ],
      "execution_count": null,
      "outputs": []
    },
    {
      "cell_type": "code",
      "metadata": {
        "id": "bdDNoD7OSMy4",
        "colab_type": "code",
        "colab": {}
      },
      "source": [
        "sent_input = Input(shape=(max_sent_length,), dtype='float32')\n",
        "embedded_sent = Embedding(\n",
        "            embedding_matrix.shape[0], embedding_matrix.shape[1],\n",
        "            weights=[embedding_matrix], input_shape=(None,5,100,100),\n",
        "            trainable=False\n",
        "        )(sent_input)"
      ],
      "execution_count": null,
      "outputs": []
    },
    {
      "cell_type": "code",
      "metadata": {
        "id": "x53GJb5JaVOV",
        "colab_type": "code",
        "colab": {}
      },
      "source": [
        "#x = TimeDistributed(Embedding(max_doc_num, word_embed_dim)(sent_input ))\n",
        "encoded_sent = Bidirectional(\n",
        "            GRU(int(word_embed_dim / 2), return_sequences=True, input_shape=(None,5,100,100))\n",
        "        )(embedded_sent)\n",
        "        # TODO: check if dense is still needed in timedistributed\n",
        "#dense_sent = TimeDistributed(Dense(DENSE_SIZE))(encoded_sent)\n",
        "#word_att = Attention(name='word_attention')(dense_sent)\n",
        "\n",
        "        "
      ],
      "execution_count": null,
      "outputs": []
    },
    {
      "cell_type": "code",
      "metadata": {
        "id": "G6xXcFsrGIBA",
        "colab_type": "code",
        "colab": {}
      },
      "source": [
        "dense_text = TimeDistributed(Dense(DENSE_SIZE))(encoded_sent)\n",
        "sent_att = Attention(name='sent_attention')(dense_text)"
      ],
      "execution_count": null,
      "outputs": []
    },
    {
      "cell_type": "code",
      "metadata": {
        "id": "J5trJBWdHF44",
        "colab_type": "code",
        "colab": {}
      },
      "source": [
        "encoded_text = Bidirectional(\n",
        "            GRU(int(self.sent_embed_dim / 2), return_sequences=True)\n",
        "        )(sent_encoder)\n",
        "dense_text = TimeDistributed(Dense(DENSE_SIZE))(encoded_text)\n",
        "doc_att = Attention(name='sent_attention')(dense_text)"
      ],
      "execution_count": null,
      "outputs": []
    },
    {
      "cell_type": "code",
      "metadata": {
        "id": "jjDhFqHUG39Y",
        "colab_type": "code",
        "colab": {
          "base_uri": "https://localhost:8080/",
          "height": 34
        },
        "outputId": "4dd067d5-bc6b-457e-a497-b97abf1891e6"
      },
      "source": [
        "HAN."
      ],
      "execution_count": null,
      "outputs": [
        {
          "output_type": "execute_result",
          "data": {
            "text/plain": [
              "<tf.Tensor 'sent_attention/Sum:0' shape=(?, 100) dtype=float32>"
            ]
          },
          "metadata": {
            "tags": []
          },
          "execution_count": 43
        }
      ]
    },
    {
      "cell_type": "code",
      "metadata": {
        "id": "D3c9EvvXWOu3",
        "colab_type": "code",
        "colab": {
          "base_uri": "https://localhost:8080/",
          "height": 232
        },
        "outputId": "2e3f82a3-b001-46a3-8690-34e9d96243c2"
      },
      "source": [
        "text_input = Input(shape=(max_doc_num, max_sent_num, max_sent_length))\n",
        "        # encode sentences into a single vector per sentence\n",
        "model_word = HAN.build_word_encoder()\n",
        "        # time distribute word model to accept text input\n",
        "sent_encoder = TimeDistributed(model_word)(text_input)\n",
        "\n",
        "#sent_att = build_sent_encoder(sent_encoder)\n",
        "        \n",
        "        "
      ],
      "execution_count": null,
      "outputs": [
        {
          "output_type": "error",
          "ename": "NameError",
          "evalue": "ignored",
          "traceback": [
            "\u001b[0;31m---------------------------------------------------------------------------\u001b[0m",
            "\u001b[0;31mNameError\u001b[0m                                 Traceback (most recent call last)",
            "\u001b[0;32m<ipython-input-21-f4332a2bd406>\u001b[0m in \u001b[0;36m<module>\u001b[0;34m()\u001b[0m\n\u001b[1;32m      1\u001b[0m \u001b[0mtext_input\u001b[0m \u001b[0;34m=\u001b[0m \u001b[0mInput\u001b[0m\u001b[0;34m(\u001b[0m\u001b[0mshape\u001b[0m\u001b[0;34m=\u001b[0m\u001b[0;34m(\u001b[0m\u001b[0mmax_doc_num\u001b[0m\u001b[0;34m,\u001b[0m \u001b[0mmax_sent_num\u001b[0m\u001b[0;34m,\u001b[0m \u001b[0mmax_sent_length\u001b[0m\u001b[0;34m)\u001b[0m\u001b[0;34m)\u001b[0m\u001b[0;34m\u001b[0m\u001b[0;34m\u001b[0m\u001b[0m\n\u001b[1;32m      2\u001b[0m         \u001b[0;31m# encode sentences into a single vector per sentence\u001b[0m\u001b[0;34m\u001b[0m\u001b[0;34m\u001b[0m\u001b[0;34m\u001b[0m\u001b[0m\n\u001b[0;32m----> 3\u001b[0;31m \u001b[0mmodel_word\u001b[0m \u001b[0;34m=\u001b[0m \u001b[0mHAN\u001b[0m\u001b[0;34m.\u001b[0m\u001b[0mbuild_word_encoder\u001b[0m\u001b[0;34m(\u001b[0m\u001b[0mself\u001b[0m\u001b[0;34m)\u001b[0m\u001b[0;34m\u001b[0m\u001b[0;34m\u001b[0m\u001b[0m\n\u001b[0m\u001b[1;32m      4\u001b[0m         \u001b[0;31m# time distribute word model to accept text input\u001b[0m\u001b[0;34m\u001b[0m\u001b[0;34m\u001b[0m\u001b[0;34m\u001b[0m\u001b[0m\n\u001b[1;32m      5\u001b[0m \u001b[0msent_encoder\u001b[0m \u001b[0;34m=\u001b[0m \u001b[0mTimeDistributed\u001b[0m\u001b[0;34m(\u001b[0m\u001b[0mmodel_word\u001b[0m\u001b[0;34m)\u001b[0m\u001b[0;34m(\u001b[0m\u001b[0mtext_input\u001b[0m\u001b[0;34m)\u001b[0m\u001b[0;34m\u001b[0m\u001b[0;34m\u001b[0m\u001b[0m\n",
            "\u001b[0;31mNameError\u001b[0m: name 'self' is not defined"
          ]
        }
      ]
    },
    {
      "cell_type": "code",
      "metadata": {
        "id": "TwFgSS3_E2ro",
        "colab_type": "code",
        "colab": {
          "base_uri": "https://localhost:8080/",
          "height": 34
        },
        "outputId": "b2874885-2d5c-486a-d4d8-1c85d6aaa804"
      },
      "source": [
        "encoded_sent.shape"
      ],
      "execution_count": null,
      "outputs": [
        {
          "output_type": "execute_result",
          "data": {
            "text/plain": [
              "TensorShape([Dimension(None), Dimension(None), Dimension(100)])"
            ]
          },
          "metadata": {
            "tags": []
          },
          "execution_count": 40
        }
      ]
    },
    {
      "cell_type": "code",
      "metadata": {
        "id": "i_EhzlQY9V3c",
        "colab_type": "code",
        "colab": {
          "base_uri": "https://localhost:8080/",
          "height": 34
        },
        "outputId": "d9b83466-66bf-45e2-f8eb-43b53419698b"
      },
      "source": [
        "embedded_sent"
      ],
      "execution_count": null,
      "outputs": [
        {
          "output_type": "execute_result",
          "data": {
            "text/plain": [
              "<tf.Tensor 'embedding_5/embedding_lookup/Identity:0' shape=(?, 5, 100, 100) dtype=float32>"
            ]
          },
          "metadata": {
            "tags": []
          },
          "execution_count": 21
        }
      ]
    },
    {
      "cell_type": "code",
      "metadata": {
        "id": "c0DV5H6rlf1O",
        "colab_type": "code",
        "colab": {
          "base_uri": "https://localhost:8080/",
          "height": 34
        },
        "outputId": "a8f14150-f3ab-4597-fb6f-fe21268772ae"
      },
      "source": [
        "embedded_sent.shape"
      ],
      "execution_count": null,
      "outputs": [
        {
          "output_type": "execute_result",
          "data": {
            "text/plain": [
              "TensorShape([Dimension(None), Dimension(5), Dimension(100), Dimension(100)])"
            ]
          },
          "metadata": {
            "tags": []
          },
          "execution_count": 66
        }
      ]
    },
    {
      "cell_type": "code",
      "metadata": {
        "id": "YjQvr8JFf1C1",
        "colab_type": "code",
        "colab": {}
      },
      "source": [
        "encoded_text = Bidirectional(\n",
        "            GRU(int(sent_embed_dim / 2), return_sequences=True)\n",
        "        )(sent_encoder)\n",
        "dense_text = TimeDistributed(Dense(DENSE_SIZE))(encoded_text)\n",
        "sent_att = Attention(name='sent_attention')(dense_text)\n",
        "      "
      ],
      "execution_count": null,
      "outputs": []
    },
    {
      "cell_type": "code",
      "metadata": {
        "id": "jg3fl0NcIZbz",
        "colab_type": "code",
        "colab": {
          "base_uri": "https://localhost:8080/",
          "height": 34
        },
        "outputId": "ecb5e875-5b28-4f3e-826f-e510ba17553c"
      },
      "source": [
        "embedded_sent.shape"
      ],
      "execution_count": null,
      "outputs": [
        {
          "output_type": "execute_result",
          "data": {
            "text/plain": [
              "TensorShape([Dimension(None), Dimension(5), Dimension(30), Dimension(100), Dimension(100)])"
            ]
          },
          "metadata": {
            "tags": []
          },
          "execution_count": 45
        }
      ]
    },
    {
      "cell_type": "code",
      "metadata": {
        "id": "IX6Ol2FFfLmB",
        "colab_type": "code",
        "colab": {
          "base_uri": "https://localhost:8080/",
          "height": 34
        },
        "outputId": "dd8fce32-6a6d-4976-8b80-39abd75331c3"
      },
      "source": [
        "word_att"
      ],
      "execution_count": null,
      "outputs": [
        {
          "output_type": "execute_result",
          "data": {
            "text/plain": [
              "<tf.Tensor 'word_attention_1/Sum:0' shape=(?, 100) dtype=float32>"
            ]
          },
          "metadata": {
            "tags": []
          },
          "execution_count": 55
        }
      ]
    },
    {
      "cell_type": "code",
      "metadata": {
        "id": "tZvGmR8JOsFm",
        "colab_type": "code",
        "colab": {}
      },
      "source": [
        "df=data.iloc[:,1:6]\n",
        "reviews = data.iloc[:,1:6].values\n",
        "target = data['sentiment'].values\n",
        "\n",
        "df['concat'] = pd.Series(df.fillna('').values.tolist()).map(lambda x: ''.join(map(str,x)))\n",
        "#del data"
      ],
      "execution_count": null,
      "outputs": []
    },
    {
      "cell_type": "code",
      "metadata": {
        "id": "KYwryBaccfTP",
        "colab_type": "code",
        "colab": {
          "base_uri": "https://localhost:8080/",
          "height": 300
        },
        "outputId": "a5e67b29-95f3-45ad-903b-8c70e1e522dc"
      },
      "source": [
        "from han.Maryam_HAN import HAN"
      ],
      "execution_count": null,
      "outputs": [
        {
          "output_type": "error",
          "ename": "ModuleNotFoundError",
          "evalue": "ignored",
          "traceback": [
            "\u001b[0;31m---------------------------------------------------------------------------\u001b[0m",
            "\u001b[0;31mModuleNotFoundError\u001b[0m                       Traceback (most recent call last)",
            "\u001b[0;32m<ipython-input-10-360b5bacda2a>\u001b[0m in \u001b[0;36m<module>\u001b[0;34m()\u001b[0m\n\u001b[0;32m----> 1\u001b[0;31m \u001b[0;32mfrom\u001b[0m \u001b[0mhan\u001b[0m\u001b[0;34m.\u001b[0m\u001b[0mMaryam_HAN\u001b[0m \u001b[0;32mimport\u001b[0m \u001b[0mHAN\u001b[0m\u001b[0;34m\u001b[0m\u001b[0;34m\u001b[0m\u001b[0m\n\u001b[0m",
            "\u001b[0;31mModuleNotFoundError\u001b[0m: No module named 'han.Maryam_HAN'",
            "",
            "\u001b[0;31m---------------------------------------------------------------------------\u001b[0;32m\nNOTE: If your import is failing due to a missing package, you can\nmanually install dependencies using either !pip or !apt.\n\nTo view examples of installing some common dependencies, click the\n\"Open Examples\" button below.\n\u001b[0;31m---------------------------------------------------------------------------\u001b[0m\n"
          ]
        }
      ]
    },
    {
      "cell_type": "code",
      "metadata": {
        "id": "hmjDeHsA3gbB",
        "colab_type": "code",
        "colab": {
          "base_uri": "https://localhost:8080/",
          "height": 439
        },
        "outputId": "8ad11354-a3fb-4ab6-c61c-e787fb2f5807"
      },
      "source": [
        "from han.selfattention_HAN import HAN"
      ],
      "execution_count": null,
      "outputs": [
        {
          "output_type": "error",
          "ename": "ModuleNotFoundError",
          "evalue": "ignored",
          "traceback": [
            "\u001b[0;31m---------------------------------------------------------------------------\u001b[0m",
            "\u001b[0;31mModuleNotFoundError\u001b[0m                       Traceback (most recent call last)",
            "\u001b[0;32m<ipython-input-5-4e959d145d48>\u001b[0m in \u001b[0;36m<module>\u001b[0;34m()\u001b[0m\n\u001b[0;32m----> 1\u001b[0;31m \u001b[0;32mfrom\u001b[0m \u001b[0mhan\u001b[0m\u001b[0;34m.\u001b[0m\u001b[0mselfattention_HAN\u001b[0m \u001b[0;32mimport\u001b[0m \u001b[0mHAN\u001b[0m\u001b[0;34m\u001b[0m\u001b[0;34m\u001b[0m\u001b[0m\n\u001b[0m",
            "\u001b[0;32m/content/interpretable-han-for-document-classification-with-keras/han/selfattention_HAN.py\u001b[0m in \u001b[0;36m<module>\u001b[0;34m()\u001b[0m\n\u001b[1;32m      8\u001b[0m \u001b[0;32mfrom\u001b[0m \u001b[0mkeras\u001b[0m\u001b[0;34m.\u001b[0m\u001b[0mlayers\u001b[0m \u001b[0;32mimport\u001b[0m \u001b[0mInput\u001b[0m\u001b[0;34m,\u001b[0m \u001b[0mEmbedding\u001b[0m\u001b[0;34m,\u001b[0m \u001b[0mDense\u001b[0m\u001b[0;34m,\u001b[0m \u001b[0mGRU\u001b[0m\u001b[0;34m,\u001b[0m \u001b[0mBidirectional\u001b[0m\u001b[0;34m,\u001b[0m \u001b[0mTimeDistributed\u001b[0m\u001b[0;34m,\u001b[0m \u001b[0mLambda\u001b[0m\u001b[0;34m\u001b[0m\u001b[0;34m\u001b[0m\u001b[0m\n\u001b[1;32m      9\u001b[0m \u001b[0;32mfrom\u001b[0m \u001b[0mkeras\u001b[0m\u001b[0;34m.\u001b[0m\u001b[0mcallbacks\u001b[0m \u001b[0;32mimport\u001b[0m \u001b[0mModelCheckpoint\u001b[0m\u001b[0;34m\u001b[0m\u001b[0;34m\u001b[0m\u001b[0m\n\u001b[0;32m---> 10\u001b[0;31m \u001b[0;32mfrom\u001b[0m \u001b[0mkeras_self_attention\u001b[0m \u001b[0;32mimport\u001b[0m \u001b[0mSeqSelfAttention\u001b[0m\u001b[0;34m\u001b[0m\u001b[0;34m\u001b[0m\u001b[0m\n\u001b[0m\u001b[1;32m     11\u001b[0m \u001b[0;34m\u001b[0m\u001b[0m\n\u001b[1;32m     12\u001b[0m \u001b[0;32mfrom\u001b[0m \u001b[0;34m.\u001b[0m\u001b[0mattention\u001b[0m \u001b[0;32mimport\u001b[0m \u001b[0mAttention\u001b[0m\u001b[0;34m\u001b[0m\u001b[0;34m\u001b[0m\u001b[0m\n",
            "\u001b[0;31mModuleNotFoundError\u001b[0m: No module named 'keras_self_attention'",
            "",
            "\u001b[0;31m---------------------------------------------------------------------------\u001b[0;32m\nNOTE: If your import is failing due to a missing package, you can\nmanually install dependencies using either !pip or !apt.\n\nTo view examples of installing some common dependencies, click the\n\"Open Examples\" button below.\n\u001b[0;31m---------------------------------------------------------------------------\u001b[0m\n"
          ]
        }
      ]
    },
    {
      "cell_type": "code",
      "metadata": {
        "id": "ThkIBuP54Gt7",
        "colab_type": "code",
        "colab": {
          "base_uri": "https://localhost:8080/",
          "height": 377
        },
        "outputId": "a22e28f0-e87d-4924-eeeb-de0488b711f3"
      },
      "source": [
        "\"\"\"\n",
        "This code is for 3 level Hierarchichal Attention model\n",
        "\"\"\"\n",
        "\n",
        "import re\n",
        "import numpy as np\n",
        "import pandas as pd\n",
        "import logging\n",
        "import sys\n",
        "from keras.preprocessing.text import Tokenizer\n",
        "from keras.preprocessing.sequence import pad_sequences\n",
        "from keras.callbacks import ModelCheckpoint\n",
        "from keras.utils import to_categorical\n",
        "from nltk.tokenize import sent_tokenize\n",
        "from sklearn.model_selection import train_test_split\n",
        "#from han.Maryam_HAN import HAN\n",
        "!pip install keras-self-attention\n",
        "#from han.just_selfattention import HAN\n",
        "from han.selfattention_HAN_3 import HAN\n",
        "from keras_self_attention import SeqSelfAttention\n",
        "import nltk\n",
        "nltk.download('punkt')\n",
        "\n",
        "# Create a logger to provide info on the state of the\n",
        "# script\n",
        "stdout = logging.StreamHandler(sys.stdout)\n",
        "stdout.setFormatter(logging.Formatter(\n",
        "    '%(asctime)s - %(name)s - %(levelname)s - %(message)s'\n",
        "))\n",
        "logger = logging.getLogger('default')\n",
        "logger.setLevel(logging.INFO)\n",
        "logger.addHandler(stdout)\n",
        "\n",
        "\n",
        "max_doc_num = 5\n",
        "max_sent_length = 100\n",
        "max_sent_num = 25\n",
        "MAX_VOC_SIZE = 20000\n",
        "GLOVE_DIM = 200\n",
        "TEST_SPLIT = 0.1\n",
        "\n",
        "Special_value=0\n",
        "\n",
        "\n",
        "#####################################################\n",
        "# Pre processing                                    #\n",
        "#####################################################\n",
        "logger.info(\"Pre-processsing data.\")\n",
        "\n",
        "# Load Kaggle's IMDB example data\n",
        "#data = pd.read_csv('/Users/maryam/Desktop/keras-han-for-docla/labeledTrainData.tsv', sep='\\t')\n",
        "#data = pd.read_csv('/content/labeledTrainData.tsv', sep='\\t')\n",
        "#data = pd.read_csv('/content/Total_Alzheimer_Longitudinal_Augmented_Balanced.csv', encoding='latin1')\n",
        "data = pd.read_csv('/content/Total_Alzheimer_Longitudinal_Balanced_Revised.csv', encoding='latin1')\n",
        "\n",
        "\n",
        "'''\n",
        "# Do some basic cleaning of the review text\n",
        "def remove_quotations(text):\n",
        "    \n",
        "    #Remove quotations and slashes from the dataset.\n",
        "    \n",
        "    text = re.sub(r\"\\\\\", \"\", text)\n",
        "    text = re.sub(r\"\\'\", \"\", text)\n",
        "    text = re.sub(r\"\\\"\", \"\", text)\n",
        "    return text\n",
        "\n",
        "\n",
        "def remove_html(text):\n",
        "    \n",
        "    #Very, very raw parser to remove HTML tags from\n",
        "    #texts.\n",
        "   \n",
        "    tags_regex = re.compile(r'<.*?>')\n",
        "    return tags_regex.sub('', text)\n",
        "\n",
        "\n",
        "data['review1'] = data['review1'].apply(remove_quotations)\n",
        "data['review1'] = data['review1'].apply(remove_html)\n",
        "data['review1'] = data['review1'].apply(lambda x: x.strip().lower())\n",
        "'''\n",
        "# Get the data and the sentiment\n",
        "#reviews = data['review'].values\n",
        "df=data.iloc[:,1:max_doc_num+1]\n",
        "reviews = data.iloc[:,1:max_doc_num+1].values\n",
        "target = data['sentiment'].values\n",
        "\n",
        "df['concat'] = pd.Series(df.fillna('').values.tolist()).map(lambda x: ''.join(map(str,x)))\n",
        "#del data\n",
        "\n",
        "\n",
        "#####################################################\n",
        "# Tokenization                                      #\n",
        "#####################################################\n",
        "logger.info(\"Tokenization.\")\n",
        "\n",
        "# Build a Keras Tokenizer that can encode every token\n",
        "word_tokenizer = Tokenizer(num_words=MAX_VOC_SIZE)\n",
        "word_tokenizer.fit_on_texts(df['concat'])\n",
        "\n",
        "# Construct the input matrix. This should be a nd-array of\n",
        "# shape (n_samples, max_sent_num, max_sent_length).\n",
        "# We zero-pad this matrix (this does not influence\n",
        "# any predictions due to the attention mechanism.\n",
        "\n",
        "\n",
        "#X = np.zeros((len(reviews), max_sent_num, max_sent_length), dtype='int32')\n",
        "X = np.zeros((len(data), max_doc_num , max_sent_num, max_sent_length), dtype='int32')\n",
        "\n",
        "\n",
        "\n",
        "for i, review in enumerate(reviews):\n",
        "  for j in range(len(review)):\n",
        "      if not pd.isnull(reviews[i,j]):\n",
        "        #word_tokenizer.fit_on_texts(review[j])\n",
        "        sentences = sent_tokenize(reviews[i,j])\n",
        "        tokenized_sentences = word_tokenizer.texts_to_sequences(\n",
        "          sentences\n",
        "        )\n",
        "        tokenized_sentences = pad_sequences(\n",
        "            tokenized_sentences, maxlen=max_sent_length\n",
        "        )\n",
        "\n",
        "        pad_size = max_sent_num - tokenized_sentences.shape[0]\n",
        "\n",
        "        if pad_size < 0:\n",
        "            tokenized_sentences = tokenized_sentences[0:max_sent_num]\n",
        "        else:\n",
        "            tokenized_sentences = np.pad(\n",
        "                tokenized_sentences, ((0,pad_size),(0,0)),\n",
        "                mode='constant', constant_values= Special_value\n",
        "            )\n",
        "      \n",
        "        X[i,j] = tokenized_sentences[None, ...]\n",
        "      else:\n",
        "        #X[i,j].fill(np.nan)\n",
        "        X[i,j]=np.nan\n",
        "      \n",
        "\n",
        "# Transform the labels into a format Keras can handle\n",
        "y = to_categorical(target)\n",
        "\n",
        "# We make a train/test split\n",
        "#X_train, X_test, y_train, y_test = train_test_split(X, y, test_size=TEST_SPLIT)\n",
        "#X_train, X_test, y_train, y_test= train_test_split(X, y, test_size=TEST_SPLIT, random_state=0, stratify=y)\n",
        "\n",
        "\n",
        "#####################################################\n",
        "# Word Embeddings                                   #\n",
        "#####################################################\n",
        "logger.info(\n",
        "    \"Creating embedding matrix using pre-trained GloVe vectors.\"\n",
        ")\n",
        "\n",
        "# Now, we need to build the embedding matrix. For this we use\n",
        "# a pretrained (on the wikipedia corpus) 100-dimensional GloVe\n",
        "# model.\n",
        "\n",
        "# Load the embeddings from a file\n",
        "embeddings = {}\n",
        "with open('/content/drive/My Drive/glove/glove.6B.%dd.txt' % GLOVE_DIM, encoding='utf-8') as file:\n",
        "    for line in file:\n",
        "        values = line.split()\n",
        "        word = values[0]\n",
        "        coefs = np.asarray(values[1:], dtype='float32')\n",
        "\n",
        "        embeddings[word] = coefs\n",
        "\n",
        "# Initialize a matrix to hold the word embeddings\n",
        "embedding_matrix = np.random.random(\n",
        "    (len(word_tokenizer.word_index) + 1, GLOVE_DIM)\n",
        ")\n",
        "\n",
        "# Let the padded indices map to zero-vectors. This will\n",
        "# prevent the padding from influencing the results\n",
        "embedding_matrix[0] = 0\n",
        "\n",
        "# Loop though all the words in the word_index and where possible\n",
        "# replace the random initalization with the GloVe vector.\n",
        "for word, index in word_tokenizer.word_index.items():\n",
        "    embedding_vector = embeddings.get(word)\n",
        "    if embedding_vector is not None:\n",
        "        embedding_matrix[index] = embedding_vector\n",
        "\n"
      ],
      "execution_count": null,
      "outputs": [
        {
          "output_type": "stream",
          "text": [
            "Collecting keras-self-attention\n",
            "  Downloading https://files.pythonhosted.org/packages/39/0d/b8ab8469ae55cea199574f4d2c30da4656d310a833a67bb422ad8a056bf0/keras-self-attention-0.47.0.tar.gz\n",
            "Requirement already satisfied: numpy in /usr/local/lib/python3.6/dist-packages (from keras-self-attention) (1.18.5)\n",
            "Requirement already satisfied: Keras in /usr/local/lib/python3.6/dist-packages (from keras-self-attention) (2.4.3)\n",
            "Requirement already satisfied: h5py in /usr/local/lib/python3.6/dist-packages (from Keras->keras-self-attention) (2.10.0)\n",
            "Requirement already satisfied: pyyaml in /usr/local/lib/python3.6/dist-packages (from Keras->keras-self-attention) (3.13)\n",
            "Requirement already satisfied: scipy>=0.14 in /usr/local/lib/python3.6/dist-packages (from Keras->keras-self-attention) (1.4.1)\n",
            "Requirement already satisfied: six in /usr/local/lib/python3.6/dist-packages (from h5py->Keras->keras-self-attention) (1.15.0)\n",
            "Building wheels for collected packages: keras-self-attention\n",
            "  Building wheel for keras-self-attention (setup.py) ... \u001b[?25l\u001b[?25hdone\n",
            "  Created wheel for keras-self-attention: filename=keras_self_attention-0.47.0-cp36-none-any.whl size=17289 sha256=d8e571e9691fe8f90f5431e4e3dff317b000dec9366eb9b456b575707c841d56\n",
            "  Stored in directory: /root/.cache/pip/wheels/70/87/01/76c703d5401b65e323927c1fdc665f3fb143282ff67d71e859\n",
            "Successfully built keras-self-attention\n",
            "Installing collected packages: keras-self-attention\n",
            "Successfully installed keras-self-attention-0.47.0\n",
            "[nltk_data] Downloading package punkt to /root/nltk_data...\n",
            "[nltk_data]   Unzipping tokenizers/punkt.zip.\n",
            "2020-08-04 14:55:40,525 - default - INFO - Pre-processsing data.\n",
            "2020-08-04 14:55:40,573 - default - INFO - Tokenization.\n",
            "2020-08-04 14:55:40,948 - default - INFO - Creating embedding matrix using pre-trained GloVe vectors.\n"
          ],
          "name": "stdout"
        }
      ]
    },
    {
      "cell_type": "code",
      "metadata": {
        "id": "c6AjzDktniLs",
        "colab_type": "code",
        "colab": {
          "base_uri": "https://localhost:8080/",
          "height": 34
        },
        "outputId": "334c27d6-d011-481d-fa0c-479ca8f65bc2"
      },
      "source": [
        "embedding_matrix.shape"
      ],
      "execution_count": null,
      "outputs": [
        {
          "output_type": "execute_result",
          "data": {
            "text/plain": [
              "(2255, 100)"
            ]
          },
          "metadata": {
            "tags": []
          },
          "execution_count": 8
        }
      ]
    },
    {
      "cell_type": "code",
      "metadata": {
        "id": "Y4Y9odkJnrlN",
        "colab_type": "code",
        "colab": {
          "base_uri": "https://localhost:8080/",
          "height": 34
        },
        "outputId": "f2607c85-a970-4e0a-8e9c-2ae6d128a9a9"
      },
      "source": [
        "X.shape"
      ],
      "execution_count": null,
      "outputs": [
        {
          "output_type": "execute_result",
          "data": {
            "text/plain": [
              "(198, 5, 25, 100)"
            ]
          },
          "metadata": {
            "tags": []
          },
          "execution_count": 9
        }
      ]
    },
    {
      "cell_type": "code",
      "metadata": {
        "id": "agGztsHgvRHE",
        "colab_type": "code",
        "colab": {}
      },
      "source": [
        "import pandas as pd\n",
        "data = pd.read_csv('/content/Total_Alzheimer_Longitudinal_balanced.csv', encoding='latin1')"
      ],
      "execution_count": null,
      "outputs": []
    },
    {
      "cell_type": "code",
      "metadata": {
        "id": "BqShEmFoveBd",
        "colab_type": "code",
        "colab": {}
      },
      "source": [
        "df=data.iloc[:,1:5+1]"
      ],
      "execution_count": null,
      "outputs": []
    },
    {
      "cell_type": "code",
      "metadata": {
        "id": "nqw59EFtyc7Z",
        "colab_type": "code",
        "colab": {}
      },
      "source": [
        "y_train"
      ],
      "execution_count": null,
      "outputs": []
    },
    {
      "cell_type": "code",
      "metadata": {
        "id": "zIhkXJXI6Wnz",
        "colab_type": "code",
        "colab": {}
      },
      "source": [
        "import numpy as np\n",
        "z=pd.DataFrame(np.zeros(df.shape))\n",
        "for i in range(len(df)):\n",
        "  for j in range(5):\n",
        "    if not pd.isnull(df.iloc[i,j]):\n",
        "      z.iloc[i,j]=1\n",
        "    else:\n",
        "      z.iloc[i,j]=0\n"
      ],
      "execution_count": null,
      "outputs": []
    },
    {
      "cell_type": "code",
      "metadata": {
        "id": "2cKb3zNkekSi",
        "colab_type": "code",
        "colab": {}
      },
      "source": [
        "f = f.drop(f.columns[[0]], axis=1)"
      ],
      "execution_count": null,
      "outputs": []
    },
    {
      "cell_type": "code",
      "metadata": {
        "id": "C6WuO8yuvxL0",
        "colab_type": "code",
        "colab": {}
      },
      "source": [
        "f=pd.read_csv('/content/NEW_doc_attention_bach_10_epoch_20.csv')"
      ],
      "execution_count": null,
      "outputs": []
    },
    {
      "cell_type": "code",
      "metadata": {
        "id": "wLZnWdiuwfYC",
        "colab_type": "code",
        "colab": {}
      },
      "source": [
        "for i in range(198):\n",
        "  for j in range(5):\n",
        "    if z.iloc[i,j]==0:\n",
        "      f.iloc[i,j]=np.nan"
      ],
      "execution_count": null,
      "outputs": []
    },
    {
      "cell_type": "code",
      "metadata": {
        "id": "nwcuC89FzzpX",
        "colab_type": "code",
        "colab": {}
      },
      "source": [
        "y"
      ],
      "execution_count": null,
      "outputs": []
    },
    {
      "cell_type": "code",
      "metadata": {
        "id": "aFQkrgi5z3ly",
        "colab_type": "code",
        "colab": {}
      },
      "source": [
        ""
      ],
      "execution_count": null,
      "outputs": []
    },
    {
      "cell_type": "code",
      "metadata": {
        "id": "MkAkqP1IyH85",
        "colab_type": "code",
        "colab": {
          "base_uri": "https://localhost:8080/",
          "height": 34
        },
        "outputId": "21071d37-cd2f-4fde-d605-d8d183e79f7e"
      },
      "source": [
        "f.shape"
      ],
      "execution_count": null,
      "outputs": [
        {
          "output_type": "execute_result",
          "data": {
            "text/plain": [
              "(198, 6)"
            ]
          },
          "metadata": {
            "tags": []
          },
          "execution_count": 24
        }
      ]
    },
    {
      "cell_type": "code",
      "metadata": {
        "id": "mL9paxmpxGNG",
        "colab_type": "code",
        "colab": {}
      },
      "source": [
        "f.to_csv('/content/new4.csv')"
      ],
      "execution_count": null,
      "outputs": []
    },
    {
      "cell_type": "code",
      "metadata": {
        "id": "Wcy6-VS3fH7p",
        "colab_type": "code",
        "colab": {}
      },
      "source": [
        "zz=z.iloc[0:99,:].sum(axis=0)\n",
        "zzz=z.iloc[99:198,:].sum(axis=0)\n",
        "#df['g']=df.iloc[:,[0,1]].sum(axis=1)"
      ],
      "execution_count": null,
      "outputs": []
    },
    {
      "cell_type": "code",
      "metadata": {
        "id": "lNYsTaqug9e6",
        "colab_type": "code",
        "colab": {
          "base_uri": "https://localhost:8080/",
          "height": 119
        },
        "outputId": "6f0e8d25-83e5-4cd0-b86b-a8a869590ab5"
      },
      "source": [
        "zz"
      ],
      "execution_count": null,
      "outputs": [
        {
          "output_type": "execute_result",
          "data": {
            "text/plain": [
              "0    99.0\n",
              "1    60.0\n",
              "2    24.0\n",
              "3    11.0\n",
              "4     3.0\n",
              "dtype: float64"
            ]
          },
          "metadata": {
            "tags": []
          },
          "execution_count": 92
        }
      ]
    },
    {
      "cell_type": "code",
      "metadata": {
        "id": "Dc2nCtcDhkF0",
        "colab_type": "code",
        "colab": {
          "base_uri": "https://localhost:8080/",
          "height": 119
        },
        "outputId": "966e554d-b3d0-4f5a-d3a6-82f69056a34d"
      },
      "source": [
        "zzz"
      ],
      "execution_count": null,
      "outputs": [
        {
          "output_type": "execute_result",
          "data": {
            "text/plain": [
              "0    99.0\n",
              "1    74.0\n",
              "2    45.0\n",
              "3    17.0\n",
              "4     8.0\n",
              "dtype: float64"
            ]
          },
          "metadata": {
            "tags": []
          },
          "execution_count": 93
        }
      ]
    },
    {
      "cell_type": "code",
      "metadata": {
        "id": "8KyVAW5jUOMv",
        "colab_type": "code",
        "colab": {}
      },
      "source": [
        "tokenized_sentences = word_tokenizer.texts_to_sequences(\n",
        "          sentences\n",
        "        )"
      ],
      "execution_count": null,
      "outputs": []
    },
    {
      "cell_type": "code",
      "metadata": {
        "id": "mkJ_b5qqZq4W",
        "colab_type": "code",
        "colab": {
          "base_uri": "https://localhost:8080/",
          "height": 34
        },
        "outputId": "e6ba49f7-1b98-4873-db7c-31b9f7b6d59a"
      },
      "source": [
        "tokenized_sentences[1]"
      ],
      "execution_count": null,
      "outputs": [
        {
          "output_type": "execute_result",
          "data": {
            "text/plain": [
              "[2, 1, 20, 1, 1, 1371, 10, 2, 1, 20, 3, 67, 22, 2, 270, 1, 52]"
            ]
          },
          "metadata": {
            "tags": []
          },
          "execution_count": 91
        }
      ]
    },
    {
      "cell_type": "code",
      "metadata": {
        "id": "Jyy7uW7PZglw",
        "colab_type": "code",
        "colab": {}
      },
      "source": [
        "tokenized_sentences1 = pad_sequences(\n",
        "            tokenized_sentences, maxlen=max_sent_length\n",
        "        )"
      ],
      "execution_count": null,
      "outputs": []
    },
    {
      "cell_type": "code",
      "metadata": {
        "id": "ZKUfW_szZi9b",
        "colab_type": "code",
        "colab": {
          "base_uri": "https://localhost:8080/",
          "height": 187
        },
        "outputId": "5532f65c-c5ae-4e3e-843c-abeb79b40545"
      },
      "source": [
        "tokenized_sentences1[1]"
      ],
      "execution_count": null,
      "outputs": [
        {
          "output_type": "execute_result",
          "data": {
            "text/plain": [
              "array([   0,    0,    0,    0,    0,    0,    0,    0,    0,    0,    0,\n",
              "          0,    0,    0,    0,    0,    0,    0,    0,    0,    0,    0,\n",
              "          0,    0,    0,    0,    0,    0,    0,    0,    0,    0,    0,\n",
              "          0,    0,    0,    0,    0,    0,    0,    0,    0,    0,    0,\n",
              "          0,    0,    0,    0,    0,    0,    0,    0,    0,    0,    0,\n",
              "          0,    0,    0,    0,    0,    0,    0,    0,    0,    0,    0,\n",
              "          0,    0,    0,    0,    0,    0,    0,    0,    0,    0,    0,\n",
              "          0,    0,    0,    0,    0,    0,    2,    1,   20,    1,    1,\n",
              "       1371,   10,    2,    1,   20,    3,   67,   22,    2,  270,    1,\n",
              "         52], dtype=int32)"
            ]
          },
          "metadata": {
            "tags": []
          },
          "execution_count": 92
        }
      ]
    },
    {
      "cell_type": "code",
      "metadata": {
        "id": "zJ-TVZdmX0b9",
        "colab_type": "code",
        "colab": {
          "base_uri": "https://localhost:8080/",
          "height": 34
        },
        "outputId": "16c913c7-562b-47f5-f5fa-cbb0ac2e1f2a"
      },
      "source": [
        "len(tokenized_sentences[1])"
      ],
      "execution_count": null,
      "outputs": [
        {
          "output_type": "execute_result",
          "data": {
            "text/plain": [
              "17"
            ]
          },
          "metadata": {
            "tags": []
          },
          "execution_count": 84
        }
      ]
    },
    {
      "cell_type": "code",
      "metadata": {
        "id": "N81gHsNdYC6O",
        "colab_type": "code",
        "colab": {
          "base_uri": "https://localhost:8080/",
          "height": 136
        },
        "outputId": "52cce691-72b6-47cc-a3c8-71b70dc71ccf"
      },
      "source": [
        "X[0]"
      ],
      "execution_count": null,
      "outputs": [
        {
          "output_type": "execute_result",
          "data": {
            "text/plain": [
              "array([[[  0,   0,   0, ...,   0,   0, 160],\n",
              "        [  0,   0,   0, ...,   5,  11,  14],\n",
              "        [  0,   0,   0, ...,  30, 241,  30],\n",
              "        ...,\n",
              "        [  0,   0,   0, ...,   0,   0,   0],\n",
              "        [  0,   0,   0, ...,   0,   0,   0],\n",
              "        [  0,   0,   0, ...,   0,   0,   0]]], dtype=int32)"
            ]
          },
          "metadata": {
            "tags": []
          },
          "execution_count": 111
        }
      ]
    },
    {
      "cell_type": "code",
      "metadata": {
        "id": "plvT8UK-AyAN",
        "colab_type": "code",
        "colab": {
          "base_uri": "https://localhost:8080/",
          "height": 34
        },
        "outputId": "3368422c-3701-4709-990e-1cb7d64200e5"
      },
      "source": [
        "reviews.shape"
      ],
      "execution_count": null,
      "outputs": [
        {
          "output_type": "execute_result",
          "data": {
            "text/plain": [
              "(198, 5)"
            ]
          },
          "metadata": {
            "tags": []
          },
          "execution_count": 74
        }
      ]
    },
    {
      "cell_type": "code",
      "metadata": {
        "id": "YpGPFnj_PsKM",
        "colab_type": "code",
        "colab": {
          "base_uri": "https://localhost:8080/",
          "height": 34
        },
        "outputId": "4e3a137b-4846-4857-eb2b-4fdbbf4a4d8b"
      },
      "source": [
        "X.shape"
      ],
      "execution_count": null,
      "outputs": [
        {
          "output_type": "execute_result",
          "data": {
            "text/plain": [
              "(198, 5, 25, 100)"
            ]
          },
          "metadata": {
            "tags": []
          },
          "execution_count": 75
        }
      ]
    },
    {
      "cell_type": "code",
      "metadata": {
        "id": "afPKoVKOBZka",
        "colab_type": "code",
        "colab": {
          "base_uri": "https://localhost:8080/",
          "height": 34
        },
        "outputId": "240d2abb-7ddf-4856-df9b-267d771453ed"
      },
      "source": [
        "sentences[0]"
      ],
      "execution_count": null,
      "outputs": [
        {
          "output_type": "execute_result",
          "data": {
            "text/plain": [
              "'\\t\\t<the woman is> [//] the [/] &um the mother is washing [//] &uh drying the dishes .'"
            ]
          },
          "metadata": {
            "tags": []
          },
          "execution_count": 72
        }
      ]
    },
    {
      "cell_type": "code",
      "metadata": {
        "id": "IqgVtS7tCXTs",
        "colab_type": "code",
        "colab": {
          "base_uri": "https://localhost:8080/",
          "height": 34
        },
        "outputId": "a9bbe187-ceed-410e-f106-ddd917923150"
      },
      "source": [
        "tokenized_sentences[1]"
      ],
      "execution_count": null,
      "outputs": [
        {
          "output_type": "execute_result",
          "data": {
            "text/plain": [
              "[2, 1, 21, 1, 1, 1371, 10, 2, 1, 21, 3, 66, 22, 2, 272, 1, 52]"
            ]
          },
          "metadata": {
            "tags": []
          },
          "execution_count": 70
        }
      ]
    },
    {
      "cell_type": "code",
      "metadata": {
        "id": "Udoqz9aeCdqB",
        "colab_type": "code",
        "colab": {}
      },
      "source": [
        "tokenized_sentences = word_tokenizer.texts_to_sequences(\n",
        "          sentences\n",
        "        )"
      ],
      "execution_count": null,
      "outputs": []
    },
    {
      "cell_type": "code",
      "metadata": {
        "id": "C6Vj12gT0bNU",
        "colab_type": "code",
        "colab": {
          "base_uri": "https://localhost:8080/",
          "height": 153
        },
        "outputId": "a41dd49c-5c51-4f2d-a726-cc751a71f183"
      },
      "source": [
        "X[8,0,0]"
      ],
      "execution_count": null,
      "outputs": [
        {
          "output_type": "execute_result",
          "data": {
            "text/plain": [
              "array([  0,   0,   0,   0,   0,   0,   0,   0,   0,   0,   0,   0,   0,\n",
              "         0,   0,   0,   0,   0,   0,   0,   0,   0,   0,   0,   0,   0,\n",
              "         0,   0,   0,   0,   0,   0,   0,   0,   0,   0,   0,   0,   0,\n",
              "         0,   0,   0,   0,   0,   0,   0,   0,   0,   0,   0,   0,   0,\n",
              "         0,   0,   0,   0,   0,   0,   0,   0,   0,   0,   0,   0,   0,\n",
              "         0,   0,   0,   0,   0,   0,   0,   0,   0,   0,   0,   0,   0,\n",
              "         0,   0,   0,   0,   0,   0,   0,   0,   0,   0,   0,   0,  49,\n",
              "        46,  32,   1,  25,   1,  25,  28, 233,  36], dtype=int32)"
            ]
          },
          "metadata": {
            "tags": []
          },
          "execution_count": 61
        }
      ]
    },
    {
      "cell_type": "code",
      "metadata": {
        "id": "R2SEGB_KCqWm",
        "colab_type": "code",
        "colab": {}
      },
      "source": [
        "h_model = HAN(embedding_matrix, max_sent_length=100, max_sent_num=25, word_embed_dim=100, sent_embed_dim=100)"
      ],
      "execution_count": null,
      "outputs": []
    },
    {
      "cell_type": "code",
      "metadata": {
        "id": "fR6iBKaQNqu9",
        "colab_type": "code",
        "colab": {
          "base_uri": "https://localhost:8080/",
          "height": 238
        },
        "outputId": "5578c449-df9d-42fe-a83d-bc24438fe66f"
      },
      "source": [
        "embedding_matrix"
      ],
      "execution_count": null,
      "outputs": [
        {
          "output_type": "execute_result",
          "data": {
            "text/plain": [
              "array([[ 0.        ,  0.        ,  0.        , ...,  0.        ,\n",
              "         0.        ,  0.        ],\n",
              "       [-0.038194  , -0.24487001,  0.72812003, ..., -0.1459    ,\n",
              "         0.82779998,  0.27061999],\n",
              "       [-0.071953  ,  0.23127   ,  0.023731  , ..., -0.71894997,\n",
              "         0.86894   ,  0.19539   ],\n",
              "       ...,\n",
              "       [-0.44023001,  0.45736   , -0.60290003, ...,  0.31625   ,\n",
              "        -0.34459999,  0.37222001],\n",
              "       [ 0.27896385,  0.4541968 ,  0.59905021, ...,  0.9652432 ,\n",
              "         0.63709193,  0.94702447],\n",
              "       [-0.35043001,  1.06710005, -0.039229  , ..., -0.10144   ,\n",
              "        -0.45436999, -0.35457999]])"
            ]
          },
          "metadata": {
            "tags": []
          },
          "execution_count": 35
        }
      ]
    },
    {
      "cell_type": "code",
      "metadata": {
        "id": "IZJy0gKpDSwS",
        "colab_type": "code",
        "colab": {}
      },
      "source": [
        "word_tokenizer.fit_on_texts(data['review1'])"
      ],
      "execution_count": null,
      "outputs": []
    },
    {
      "cell_type": "code",
      "metadata": {
        "id": "Vo8f1AGGDXpL",
        "colab_type": "code",
        "colab": {}
      },
      "source": [
        "word_index = word_tokenizer.word_index"
      ],
      "execution_count": null,
      "outputs": []
    },
    {
      "cell_type": "code",
      "metadata": {
        "id": "umujLEkMDcEu",
        "colab_type": "code",
        "colab": {}
      },
      "source": [
        "word_index"
      ],
      "execution_count": null,
      "outputs": []
    },
    {
      "cell_type": "code",
      "metadata": {
        "id": "8KAlw4_2-Hmt",
        "colab_type": "code",
        "colab": {
          "base_uri": "https://localhost:8080/",
          "height": 136
        },
        "outputId": "aa35abba-60db-4360-a469-9c711d9613cb"
      },
      "source": [
        "for i, review in enumerate(reviews):\n",
        "  for j in range(len(review)):\n",
        "      if not pd.isnull(review[j]):\n",
        "        word_tokenizer.fit_on_texts(review[j])\n",
        "        sentences = sent_tokenize(review[j])\n",
        "        tokenized_sentences = word_tokenizer.texts_to_sequences(\n",
        "          sentences\n",
        "        )\n",
        "        tokenized_sentences = pad_sequences(\n",
        "            tokenized_sentences, maxlen=max_sent_length\n",
        "        )\n",
        "\n",
        "        pad_size = max_sent_num - tokenized_sentences.shape[0]\n",
        "\n",
        "        if pad_size < 0:\n",
        "            tokenized_sentences = tokenized_sentences[0:max_sent_num]\n",
        "        else:\n",
        "            tokenized_sentences = np.pad(\n",
        "                tokenized_sentences, ((0,pad_size),(0,0)),\n",
        "                mode='constant', constant_values=0\n",
        "            )"
      ],
      "execution_count": null,
      "outputs": [
        {
          "output_type": "execute_result",
          "data": {
            "text/plain": [
              "array([[ 0,  0,  0, ..., 11,  7,  9],\n",
              "       [ 0,  0,  0, ...,  0,  0, 11],\n",
              "       [ 0,  0,  0, ...,  6, 14,  6],\n",
              "       ...,\n",
              "       [ 0,  0,  0, ...,  0,  0,  0],\n",
              "       [ 0,  0,  0, ...,  0,  0,  0],\n",
              "       [ 0,  0,  0, ...,  0,  0,  0]], dtype=int32)"
            ]
          },
          "metadata": {
            "tags": []
          },
          "execution_count": 127
        }
      ]
    },
    {
      "cell_type": "code",
      "metadata": {
        "id": "gfT6Zjsy_1Xx",
        "colab_type": "code",
        "colab": {}
      },
      "source": [
        "for i, review in enumerate(reviews):\n",
        "  for j in range(len(review)):\n",
        "       print(review[j])"
      ],
      "execution_count": null,
      "outputs": []
    },
    {
      "cell_type": "code",
      "metadata": {
        "id": "LFXXceC2Aiaq",
        "colab_type": "code",
        "colab": {}
      },
      "source": [
        "word_tokenizer.fit_on_texts(reviews[0][0])"
      ],
      "execution_count": null,
      "outputs": []
    },
    {
      "cell_type": "code",
      "metadata": {
        "id": "r4ZBG0RSAwR4",
        "colab_type": "code",
        "colab": {}
      },
      "source": [
        "sentences = sent_tokenize(reviews[0][0])"
      ],
      "execution_count": null,
      "outputs": []
    },
    {
      "cell_type": "code",
      "metadata": {
        "id": "tAJz7j_3CTaR",
        "colab_type": "code",
        "colab": {}
      },
      "source": [
        "tokenized_sentences = word_tokenizer.texts_to_sequences(\n",
        "          sentences\n",
        "        )\n",
        "tokenized_sentences = pad_sequences(\n",
        "            tokenized_sentences, maxlen=max_sent_length\n",
        "        )\n",
        "\n",
        "pad_size = max_sent_num - tokenized_sentences.shape[0]"
      ],
      "execution_count": null,
      "outputs": []
    },
    {
      "cell_type": "code",
      "metadata": {
        "id": "syMuBFNtCZ7a",
        "colab_type": "code",
        "colab": {
          "base_uri": "https://localhost:8080/",
          "height": 136
        },
        "outputId": "f8de0a66-f6f0-4a38-9a92-482728a64c15"
      },
      "source": [
        "tokenized_sentences"
      ],
      "execution_count": null,
      "outputs": [
        {
          "output_type": "execute_result",
          "data": {
            "text/plain": [
              "array([[ 0,  0,  0, ...,  0,  0,  0],\n",
              "       [ 0,  0,  0, ...,  0,  7,  7],\n",
              "       [ 0,  0,  0, ...,  0,  7,  7],\n",
              "       ...,\n",
              "       [ 0,  0,  0, ...,  0, 15,  3],\n",
              "       [ 0,  0,  0, ...,  5,  5, 11],\n",
              "       [ 0,  0,  0, ...,  0,  0,  7]], dtype=int32)"
            ]
          },
          "metadata": {
            "tags": []
          },
          "execution_count": 142
        }
      ]
    },
    {
      "cell_type": "code",
      "metadata": {
        "id": "-l4H0-MtA3V3",
        "colab_type": "code",
        "colab": {
          "base_uri": "https://localhost:8080/",
          "height": 136
        },
        "outputId": "55316ef8-421a-4350-ce7b-0141678a806b"
      },
      "source": [
        "X[1,0]"
      ],
      "execution_count": null,
      "outputs": [
        {
          "output_type": "execute_result",
          "data": {
            "text/plain": [
              "array([[0, 0, 0, ..., 0, 0, 6],\n",
              "       [0, 0, 0, ..., 0, 0, 0],\n",
              "       [0, 0, 0, ..., 0, 0, 0],\n",
              "       ...,\n",
              "       [0, 0, 0, ..., 0, 0, 0],\n",
              "       [0, 0, 0, ..., 0, 0, 0],\n",
              "       [0, 0, 0, ..., 0, 0, 0]], dtype=int32)"
            ]
          },
          "metadata": {
            "tags": []
          },
          "execution_count": 138
        }
      ]
    },
    {
      "cell_type": "code",
      "metadata": {
        "id": "vcqAgqGt2ADl",
        "colab_type": "code",
        "colab": {}
      },
      "source": [
        "word_tokenizer = Tokenizer(num_words=MAX_VOC_SIZE)"
      ],
      "execution_count": null,
      "outputs": []
    },
    {
      "cell_type": "code",
      "metadata": {
        "id": "OfiQAdWT2oD8",
        "colab_type": "code",
        "colab": {}
      },
      "source": [
        "word_tokenizer.word_index"
      ],
      "execution_count": null,
      "outputs": []
    },
    {
      "cell_type": "code",
      "metadata": {
        "id": "kXP_iuZP4Yx8",
        "colab_type": "code",
        "colab": {
          "base_uri": "https://localhost:8080/",
          "height": 34
        },
        "outputId": "b45c2177-5198-4c07-f5fa-220c5bab4809"
      },
      "source": [
        "len(review)"
      ],
      "execution_count": null,
      "outputs": [
        {
          "output_type": "execute_result",
          "data": {
            "text/plain": [
              "5"
            ]
          },
          "metadata": {
            "tags": []
          },
          "execution_count": 83
        }
      ]
    },
    {
      "cell_type": "code",
      "metadata": {
        "id": "5W3GGCzI5sws",
        "colab_type": "code",
        "colab": {}
      },
      "source": [
        "word_tokenizer = Tokenizer(num_words=MAX_VOC_SIZE, split='  ', oov_token='<unw>', filters=' ')"
      ],
      "execution_count": null,
      "outputs": []
    },
    {
      "cell_type": "code",
      "metadata": {
        "id": "3G8unykd4H8T",
        "colab_type": "code",
        "colab": {}
      },
      "source": [
        "i=0\n",
        "j=0\n",
        "g=reviews[i][j]"
      ],
      "execution_count": null,
      "outputs": []
    },
    {
      "cell_type": "code",
      "metadata": {
        "id": "EbqplPzl8Dgc",
        "colab_type": "code",
        "colab": {}
      },
      "source": [
        "X"
      ],
      "execution_count": null,
      "outputs": []
    },
    {
      "cell_type": "code",
      "metadata": {
        "id": "2VzfhYCZ4nmU",
        "colab_type": "code",
        "colab": {}
      },
      "source": [
        " word_tokenizer.fit_on_texts(g)"
      ],
      "execution_count": null,
      "outputs": []
    },
    {
      "cell_type": "code",
      "metadata": {
        "id": "8BngNHpO43AF",
        "colab_type": "code",
        "colab": {}
      },
      "source": [
        "word_index = word_tokenizer.word_index"
      ],
      "execution_count": null,
      "outputs": []
    },
    {
      "cell_type": "code",
      "metadata": {
        "id": "kcdtIoEq56Em",
        "colab_type": "code",
        "colab": {
          "base_uri": "https://localhost:8080/",
          "height": 34
        },
        "outputId": "7185cbe9-fe43-48e0-faa6-c87e18bcf952"
      },
      "source": [
        "len(word_index)"
      ],
      "execution_count": null,
      "outputs": [
        {
          "output_type": "execute_result",
          "data": {
            "text/plain": [
              "38"
            ]
          },
          "metadata": {
            "tags": []
          },
          "execution_count": 105
        }
      ]
    },
    {
      "cell_type": "code",
      "metadata": {
        "id": "ulxH8fHJ48EA",
        "colab_type": "code",
        "colab": {
          "base_uri": "https://localhost:8080/",
          "height": 34
        },
        "outputId": "56d8c6a1-e825-46f6-e881-9a3d77f0de92"
      },
      "source": [
        "len(word_index)"
      ],
      "execution_count": null,
      "outputs": [
        {
          "output_type": "execute_result",
          "data": {
            "text/plain": [
              "37"
            ]
          },
          "metadata": {
            "tags": []
          },
          "execution_count": 93
        }
      ]
    },
    {
      "cell_type": "code",
      "metadata": {
        "id": "-9yH89fT35Xj",
        "colab_type": "code",
        "colab": {
          "base_uri": "https://localhost:8080/",
          "height": 34
        },
        "outputId": "0c37873d-f7d7-4ffa-d1c7-96118906ed74"
      },
      "source": [
        "review[j]"
      ],
      "execution_count": null,
      "outputs": [
        {
          "output_type": "execute_result",
          "data": {
            "text/plain": [
              "nan"
            ]
          },
          "metadata": {
            "tags": []
          },
          "execution_count": 79
        }
      ]
    },
    {
      "cell_type": "code",
      "metadata": {
        "id": "bwUKYAKJGZeo",
        "colab_type": "code",
        "colab": {
          "base_uri": "https://localhost:8080/",
          "height": 34
        },
        "outputId": "0f34ca63-a316-471a-fc0d-cd3929658ead"
      },
      "source": [
        "X_train.shape"
      ],
      "execution_count": null,
      "outputs": [
        {
          "output_type": "execute_result",
          "data": {
            "text/plain": [
              "(178, 5, 25, 100)"
            ]
          },
          "metadata": {
            "tags": []
          },
          "execution_count": 36
        }
      ]
    },
    {
      "cell_type": "code",
      "metadata": {
        "id": "WjT2GvQURsG1",
        "colab_type": "code",
        "colab": {
          "base_uri": "https://localhost:8080/",
          "height": 54
        },
        "outputId": "df2e8198-ab91-4eee-8048-9af3c535e876"
      },
      "source": [
        "word_tokenizer.word_index.items()"
      ],
      "execution_count": null,
      "outputs": [
        {
          "output_type": "execute_result",
          "data": {
            "text/plain": [
              "dict_items([('e', 1), ('t', 2), ('h', 3), ('o', 4), ('i', 5), ('s', 6), ('a', 7), ('n', 8), ('r', 9), ('l', 10), ('g', 11), ('d', 12), ('u', 13), ('c', 14), ('w', 15), ('k', 16), ('m', 17), (\"'\", 18), ('f', 19), ('y', 20), ('p', 21), ('b', 22), ('x', 23), ('v', 24), ('j', 25), ('q', 26), ('\\x97', 27), ('ã', 28), ('z', 29), ('\\x96', 30), ('\\x9d', 31), ('\\x8f', 32), ('\\x95', 33), ('ñ', 34), ('\\x81', 35), ('¾', 36), ('ê', 37), ('«', 38)])"
            ]
          },
          "metadata": {
            "tags": []
          },
          "execution_count": 48
        }
      ]
    },
    {
      "cell_type": "code",
      "metadata": {
        "id": "Ri5683D5HdYI",
        "colab_type": "code",
        "colab": {}
      },
      "source": [
        "import numpy as np\n",
        "max_doc_length = 30\n",
        "max_doc_num = 5\n",
        "max_sent_length = 100\n",
        "max_sent_num = 50\n",
        "MAX_VOC_SIZE = 20000\n",
        "GLOVE_DIM = 100\n",
        "TEST_SPLIT = 0.1\n",
        "\n",
        "\n",
        "X = np.zeros((len(data), max_doc_num , max_sent_num, max_sent_length), dtype='int32')"
      ],
      "execution_count": null,
      "outputs": []
    },
    {
      "cell_type": "code",
      "metadata": {
        "id": "hmV5alfo7IFs",
        "colab_type": "code",
        "colab": {
          "base_uri": "https://localhost:8080/",
          "height": 34
        },
        "outputId": "c00b1f54-01a0-4434-dded-0037f7501831"
      },
      "source": [
        "X[0,0].shape"
      ],
      "execution_count": null,
      "outputs": [
        {
          "output_type": "execute_result",
          "data": {
            "text/plain": [
              "(25, 100)"
            ]
          },
          "metadata": {
            "tags": []
          },
          "execution_count": 31
        }
      ]
    },
    {
      "cell_type": "code",
      "metadata": {
        "id": "ZmIDMYnsRfaB",
        "colab_type": "code",
        "colab": {
          "base_uri": "https://localhost:8080/",
          "height": 34
        },
        "outputId": "f14a4240-696c-415c-ae09-37072dbdc7b8"
      },
      "source": [
        "embedding_matrix.shape[1]"
      ],
      "execution_count": null,
      "outputs": [
        {
          "output_type": "execute_result",
          "data": {
            "text/plain": [
              "100"
            ]
          },
          "metadata": {
            "tags": []
          },
          "execution_count": 45
        }
      ]
    },
    {
      "cell_type": "code",
      "metadata": {
        "id": "yxnv94SyWZJY",
        "colab_type": "code",
        "colab": {}
      },
      "source": [
        "from han.Modified_HAN import HAN"
      ],
      "execution_count": null,
      "outputs": []
    },
    {
      "cell_type": "code",
      "metadata": {
        "id": "X6Fvsm5wGSpd",
        "colab_type": "code",
        "colab": {
          "base_uri": "https://localhost:8080/",
          "height": 283
        },
        "outputId": "ed4d0072-7172-4e3d-b73b-ffaad47cd0b5"
      },
      "source": [
        "#####################################################\n",
        "# Model Training                                    #\n",
        "#####################################################\n",
        "logger.info(\"Training the model.\")\n",
        "\n",
        "\n",
        "\n",
        "\n",
        "\n",
        "#han_model = HAN(embedding_matrix, max_sent_length=100,\n",
        "                 #max_sent_num=20, word_embed_dim=100, sent_embed_dim=100)\n",
        "  \n",
        "han_model =HAN(embedding_matrix, max_sent_length=100,\n",
        "                 max_sent_num=25, max_doc_num=5, word_embed_dim=100, sent_embed_dim=100, doc_embed_dim=100)\n",
        "\n",
        "\n",
        "#han_model.summary()\n",
        "\n",
        "han_model.compile(\n",
        "    optimizer='adagrad', loss='categorical_crossentropy',\n",
        "    metrics=['acc']\n",
        ")\n",
        "\n",
        "\n",
        "\n",
        "\n",
        "\n",
        "checkpoint_saver = ModelCheckpoint(\n",
        "    checkpoint_path='/content/model.{epoch:02d}-{val_loss:.2f}.hdf5', \n",
        "    verbose=1, save_best_only=True\n",
        ")\n",
        "\n",
        "han_model.fit(\n",
        "    X_train, y_train, batch_size=20, epochs=20,\n",
        "    validation_data=(X_test, y_test),\n",
        "    callbacks=[checkpoint_saver]\n",
        ")\n"
      ],
      "execution_count": null,
      "outputs": [
        {
          "output_type": "stream",
          "text": [
            "2020-08-04 14:04:08,595 - default - INFO - Training the model.\n",
            "2020-08-04 14:04:08,595 - default - INFO - Training the model.\n"
          ],
          "name": "stdout"
        },
        {
          "output_type": "error",
          "ename": "TypeError",
          "evalue": "ignored",
          "traceback": [
            "\u001b[0;31m---------------------------------------------------------------------------\u001b[0m",
            "\u001b[0;31mTypeError\u001b[0m                                 Traceback (most recent call last)",
            "\u001b[0;32m<ipython-input-8-fcc35de0d88b>\u001b[0m in \u001b[0;36m<module>\u001b[0;34m()\u001b[0m\n\u001b[1;32m     12\u001b[0m \u001b[0;34m\u001b[0m\u001b[0m\n\u001b[1;32m     13\u001b[0m han_model =HAN(embedding_matrix, max_sent_length=100,\n\u001b[0;32m---> 14\u001b[0;31m                  max_sent_num=25, max_doc_num=5, word_embed_dim=100, sent_embed_dim=100, doc_embed_dim=100)\n\u001b[0m\u001b[1;32m     15\u001b[0m \u001b[0;34m\u001b[0m\u001b[0m\n\u001b[1;32m     16\u001b[0m \u001b[0;34m\u001b[0m\u001b[0m\n",
            "\u001b[0;31mTypeError\u001b[0m: __init__() got an unexpected keyword argument 'max_doc_num'"
          ]
        }
      ]
    },
    {
      "cell_type": "code",
      "metadata": {
        "id": "xp19qgHEL5T6",
        "colab_type": "code",
        "colab": {
          "base_uri": "https://localhost:8080/",
          "height": 34
        },
        "outputId": "86b2e550-7ce1-4a28-9662-8303b0fba3f1"
      },
      "source": [
        "X.shape"
      ],
      "execution_count": null,
      "outputs": [
        {
          "output_type": "execute_result",
          "data": {
            "text/plain": [
              "(198, 5, 25, 100)"
            ]
          },
          "metadata": {
            "tags": []
          },
          "execution_count": 18
        }
      ]
    },
    {
      "cell_type": "code",
      "metadata": {
        "id": "vbo5dLbWSEwC",
        "colab_type": "code",
        "colab": {}
      },
      "source": [
        "kernel_regularizer=keras.regularizers.l2(1e-4)"
      ],
      "execution_count": null,
      "outputs": []
    },
    {
      "cell_type": "code",
      "metadata": {
        "id": "XDhM7pWWDTDX",
        "colab_type": "code",
        "colab": {}
      },
      "source": [
        "from keras.layers import Concatenate"
      ],
      "execution_count": null,
      "outputs": []
    },
    {
      "cell_type": "code",
      "metadata": {
        "id": "seQTZBRRUnVR",
        "colab_type": "code",
        "colab": {
          "base_uri": "https://localhost:8080/",
          "height": 34
        },
        "outputId": "16b8eaf1-7424-4019-953d-4b2887f60053"
      },
      "source": [
        "SeqSelfAttention(attention_type=SeqSelfAttention.ATTENTION_TYPE_MUL,\n",
        "                       kernel_regularizer=keras.regularizers.l2(1e-4),\n",
        "                       bias_regularizer=keras.regularizers.l1(1e-4),\n",
        "                       attention_regularizer_weight=1e-4,\n",
        "                       name='Attention')"
      ],
      "execution_count": null,
      "outputs": [
        {
          "output_type": "execute_result",
          "data": {
            "text/plain": [
              "<keras_self_attention.seq_self_attention.SeqSelfAttention at 0x7fe854ccbdd8>"
            ]
          },
          "metadata": {
            "tags": []
          },
          "execution_count": 18
        }
      ]
    },
    {
      "cell_type": "code",
      "metadata": {
        "id": "zff9vpC0pTfj",
        "colab_type": "code",
        "colab": {}
      },
      "source": [
        "from han.Maryam_HAN_AUD import HAN"
      ],
      "execution_count": null,
      "outputs": []
    },
    {
      "cell_type": "code",
      "metadata": {
        "id": "WX4BthEBr5P0",
        "colab_type": "code",
        "colab": {}
      },
      "source": [
        "h_model = HAN(embedding_matrix, max_sent_length=100,\n",
        "                 max_sent_num=25, max_doc_num=5, word_embed_dim=100, sent_embed_dim=100, doc_embed_dim=100)\n"
      ],
      "execution_count": null,
      "outputs": []
    },
    {
      "cell_type": "code",
      "metadata": {
        "id": "Gr_pBc-HsCi3",
        "colab_type": "code",
        "colab": {}
      },
      "source": [
        "han_model.compile(\n",
        "    optimizer='adagrad', loss='categorical_crossentropy',\n",
        "    metrics=['acc']\n",
        ")\n"
      ],
      "execution_count": null,
      "outputs": []
    },
    {
      "cell_type": "code",
      "metadata": {
        "id": "2Axwjl-DsT1z",
        "colab_type": "code",
        "colab": {}
      },
      "source": [
        "checkpoint_saver = ModelCheckpoint(\n",
        "    checkpoint_path='/content/model.{epoch:02d}-{val_loss:.2f}.hdf5',\n",
        "    verbose=1, save_best_only=True\n",
        ")"
      ],
      "execution_count": null,
      "outputs": []
    },
    {
      "cell_type": "code",
      "metadata": {
        "id": "uUMVbCFvdiTM",
        "colab_type": "code",
        "colab": {}
      },
      "source": [
        "checkpoint_path='/content/model.{epoch:02d}-{val_loss:.2f}.hdf5'"
      ],
      "execution_count": null,
      "outputs": []
    },
    {
      "cell_type": "code",
      "metadata": {
        "id": "_fY9D8V86R9t",
        "colab_type": "code",
        "colab": {}
      },
      "source": [
        "X[0,3]"
      ],
      "execution_count": null,
      "outputs": []
    },
    {
      "cell_type": "code",
      "metadata": {
        "id": "eNIYcVTGdn1Y",
        "colab_type": "code",
        "colab": {}
      },
      "source": [
        "R=h_model.train_model(checkpoint_path, np.array(X_train), np.array(y_train), np.array(X_test), np.array(y_test), np.array(X_test), np.array(y_test), epochs=2,batch_size=10)"
      ],
      "execution_count": null,
      "outputs": []
    },
    {
      "cell_type": "code",
      "metadata": {
        "id": "peqxZuH9_8Hm",
        "colab_type": "code",
        "colab": {
          "base_uri": "https://localhost:8080/",
          "height": 34
        },
        "outputId": "40213d75-75c5-4a99-a4e8-2eb6e033a0c2"
      },
      "source": [
        "len(X)"
      ],
      "execution_count": null,
      "outputs": [
        {
          "output_type": "execute_result",
          "data": {
            "text/plain": [
              "198"
            ]
          },
          "metadata": {
            "tags": []
          },
          "execution_count": 14
        }
      ]
    },
    {
      "cell_type": "code",
      "metadata": {
        "id": "NyiIKRJQaJ6z",
        "colab_type": "code",
        "colab": {
          "base_uri": "https://localhost:8080/",
          "height": 718
        },
        "outputId": "ba5fcc3c-4748-47a0-f34e-adba5705bfdf"
      },
      "source": [
        "#####K-fold Cross Validation#####\n",
        "from sklearn.model_selection import StratifiedKFold\n",
        "TEST_SPLIT=0.1\n",
        "\n",
        "#X_train, X_test, y_train, y_test= train_test_split(X, y, test_size=TEST_SPLIT, random_state=0, stratify=y)\n",
        "\n",
        "kFold = StratifiedKFold(n_splits=10)\n",
        "scores = []\n",
        "idx = 0\n",
        "for train, test in kFold.split(X, target):\n",
        "  idx = idx+1\n",
        "  print(\"fold:\", idx)\n",
        "  X_tr=X[train]\n",
        "  y_tr=y[train]\n",
        "  X_test=X[test]\n",
        "  y_test=y[test]\n",
        "  X_train, X_val, y_train, y_val= train_test_split(X_tr, y_tr, test_size=TEST_SPLIT, random_state=0, stratify=y_tr)\n",
        "  R=h_model.train_model(checkpoint_path, np.array(X_train), np.array(y_train), np.array(X_val), np.array(y_val), np.array(X_test), np.array(y_test), epochs=20,batch_size=10)\n",
        "  scores.append(R)\n",
        "  del  X_train, X_val, y_train, y_val, X_test, y_test\n",
        "\n",
        "print(scores)\n",
        "#print(scores.mean())"
      ],
      "execution_count": null,
      "outputs": [
        {
          "output_type": "stream",
          "text": [
            "fold: 1\n",
            "Epoch 1/20\n"
          ],
          "name": "stdout"
        },
        {
          "output_type": "error",
          "ename": "InvalidArgumentError",
          "evalue": "ignored",
          "traceback": [
            "\u001b[0;31m---------------------------------------------------------------------------\u001b[0m",
            "\u001b[0;31mInvalidArgumentError\u001b[0m                      Traceback (most recent call last)",
            "\u001b[0;32m<ipython-input-8-f63060ca39b6>\u001b[0m in \u001b[0;36m<module>\u001b[0;34m()\u001b[0m\n\u001b[1;32m     16\u001b[0m   \u001b[0my_test\u001b[0m\u001b[0;34m=\u001b[0m\u001b[0my\u001b[0m\u001b[0;34m[\u001b[0m\u001b[0mtest\u001b[0m\u001b[0;34m]\u001b[0m\u001b[0;34m\u001b[0m\u001b[0;34m\u001b[0m\u001b[0m\n\u001b[1;32m     17\u001b[0m   \u001b[0mX_train\u001b[0m\u001b[0;34m,\u001b[0m \u001b[0mX_val\u001b[0m\u001b[0;34m,\u001b[0m \u001b[0my_train\u001b[0m\u001b[0;34m,\u001b[0m \u001b[0my_val\u001b[0m\u001b[0;34m=\u001b[0m \u001b[0mtrain_test_split\u001b[0m\u001b[0;34m(\u001b[0m\u001b[0mX_tr\u001b[0m\u001b[0;34m,\u001b[0m \u001b[0my_tr\u001b[0m\u001b[0;34m,\u001b[0m \u001b[0mtest_size\u001b[0m\u001b[0;34m=\u001b[0m\u001b[0mTEST_SPLIT\u001b[0m\u001b[0;34m,\u001b[0m \u001b[0mrandom_state\u001b[0m\u001b[0;34m=\u001b[0m\u001b[0;36m0\u001b[0m\u001b[0;34m,\u001b[0m \u001b[0mstratify\u001b[0m\u001b[0;34m=\u001b[0m\u001b[0my_tr\u001b[0m\u001b[0;34m)\u001b[0m\u001b[0;34m\u001b[0m\u001b[0;34m\u001b[0m\u001b[0m\n\u001b[0;32m---> 18\u001b[0;31m   \u001b[0mR\u001b[0m\u001b[0;34m=\u001b[0m\u001b[0mh_model\u001b[0m\u001b[0;34m.\u001b[0m\u001b[0mtrain_model\u001b[0m\u001b[0;34m(\u001b[0m\u001b[0mcheckpoint_path\u001b[0m\u001b[0;34m,\u001b[0m \u001b[0mnp\u001b[0m\u001b[0;34m.\u001b[0m\u001b[0marray\u001b[0m\u001b[0;34m(\u001b[0m\u001b[0mX_train\u001b[0m\u001b[0;34m)\u001b[0m\u001b[0;34m,\u001b[0m \u001b[0mnp\u001b[0m\u001b[0;34m.\u001b[0m\u001b[0marray\u001b[0m\u001b[0;34m(\u001b[0m\u001b[0my_train\u001b[0m\u001b[0;34m)\u001b[0m\u001b[0;34m,\u001b[0m \u001b[0mnp\u001b[0m\u001b[0;34m.\u001b[0m\u001b[0marray\u001b[0m\u001b[0;34m(\u001b[0m\u001b[0mX_val\u001b[0m\u001b[0;34m)\u001b[0m\u001b[0;34m,\u001b[0m \u001b[0mnp\u001b[0m\u001b[0;34m.\u001b[0m\u001b[0marray\u001b[0m\u001b[0;34m(\u001b[0m\u001b[0my_val\u001b[0m\u001b[0;34m)\u001b[0m\u001b[0;34m,\u001b[0m \u001b[0mnp\u001b[0m\u001b[0;34m.\u001b[0m\u001b[0marray\u001b[0m\u001b[0;34m(\u001b[0m\u001b[0mX_test\u001b[0m\u001b[0;34m)\u001b[0m\u001b[0;34m,\u001b[0m \u001b[0mnp\u001b[0m\u001b[0;34m.\u001b[0m\u001b[0marray\u001b[0m\u001b[0;34m(\u001b[0m\u001b[0my_test\u001b[0m\u001b[0;34m)\u001b[0m\u001b[0;34m,\u001b[0m \u001b[0mepochs\u001b[0m\u001b[0;34m=\u001b[0m\u001b[0;36m20\u001b[0m\u001b[0;34m,\u001b[0m\u001b[0mbatch_size\u001b[0m\u001b[0;34m=\u001b[0m\u001b[0;36m10\u001b[0m\u001b[0;34m)\u001b[0m\u001b[0;34m\u001b[0m\u001b[0;34m\u001b[0m\u001b[0m\n\u001b[0m\u001b[1;32m     19\u001b[0m   \u001b[0mscores\u001b[0m\u001b[0;34m.\u001b[0m\u001b[0mappend\u001b[0m\u001b[0;34m(\u001b[0m\u001b[0mR\u001b[0m\u001b[0;34m)\u001b[0m\u001b[0;34m\u001b[0m\u001b[0;34m\u001b[0m\u001b[0m\n\u001b[1;32m     20\u001b[0m   \u001b[0;32mdel\u001b[0m  \u001b[0mX_train\u001b[0m\u001b[0;34m,\u001b[0m \u001b[0mX_val\u001b[0m\u001b[0;34m,\u001b[0m \u001b[0my_train\u001b[0m\u001b[0;34m,\u001b[0m \u001b[0my_val\u001b[0m\u001b[0;34m,\u001b[0m \u001b[0mX_test\u001b[0m\u001b[0;34m,\u001b[0m \u001b[0my_test\u001b[0m\u001b[0;34m\u001b[0m\u001b[0;34m\u001b[0m\u001b[0m\n",
            "\u001b[0;32m/content/interpretable-han-for-document-classification-with-keras/han/selfattention_HAN_3.py\u001b[0m in \u001b[0;36mtrain_model\u001b[0;34m(self, checkpoint_path, X_train, y_train, X_val, y_val, X_test, y_test, optimizer, loss, metric, monitor, batch_size, epochs)\u001b[0m\n\u001b[1;32m    232\u001b[0m             \u001b[0mX_train\u001b[0m\u001b[0;34m,\u001b[0m \u001b[0my_train\u001b[0m\u001b[0;34m,\u001b[0m \u001b[0mbatch_size\u001b[0m\u001b[0;34m=\u001b[0m\u001b[0mbatch_size\u001b[0m\u001b[0;34m,\u001b[0m \u001b[0mepochs\u001b[0m\u001b[0;34m=\u001b[0m\u001b[0mepochs\u001b[0m\u001b[0;34m,\u001b[0m\u001b[0;34m\u001b[0m\u001b[0;34m\u001b[0m\u001b[0m\n\u001b[1;32m    233\u001b[0m             \u001b[0mvalidation_data\u001b[0m\u001b[0;34m=\u001b[0m\u001b[0;34m(\u001b[0m\u001b[0mX_val\u001b[0m\u001b[0;34m,\u001b[0m \u001b[0my_val\u001b[0m\u001b[0;34m)\u001b[0m\u001b[0;34m,\u001b[0m\u001b[0;34m\u001b[0m\u001b[0;34m\u001b[0m\u001b[0m\n\u001b[0;32m--> 234\u001b[0;31m             \u001b[0mcallbacks\u001b[0m\u001b[0;34m=\u001b[0m\u001b[0;34m[\u001b[0m\u001b[0mcheckpoint\u001b[0m\u001b[0;34m]\u001b[0m\u001b[0;34m\u001b[0m\u001b[0;34m\u001b[0m\u001b[0m\n\u001b[0m\u001b[1;32m    235\u001b[0m         )\n\u001b[1;32m    236\u001b[0m \u001b[0;34m\u001b[0m\u001b[0m\n",
            "\u001b[0;32m/usr/local/lib/python3.6/dist-packages/tensorflow/python/keras/engine/training.py\u001b[0m in \u001b[0;36m_method_wrapper\u001b[0;34m(self, *args, **kwargs)\u001b[0m\n\u001b[1;32m    106\u001b[0m   \u001b[0;32mdef\u001b[0m \u001b[0m_method_wrapper\u001b[0m\u001b[0;34m(\u001b[0m\u001b[0mself\u001b[0m\u001b[0;34m,\u001b[0m \u001b[0;34m*\u001b[0m\u001b[0margs\u001b[0m\u001b[0;34m,\u001b[0m \u001b[0;34m**\u001b[0m\u001b[0mkwargs\u001b[0m\u001b[0;34m)\u001b[0m\u001b[0;34m:\u001b[0m\u001b[0;34m\u001b[0m\u001b[0;34m\u001b[0m\u001b[0m\n\u001b[1;32m    107\u001b[0m     \u001b[0;32mif\u001b[0m \u001b[0;32mnot\u001b[0m \u001b[0mself\u001b[0m\u001b[0;34m.\u001b[0m\u001b[0m_in_multi_worker_mode\u001b[0m\u001b[0;34m(\u001b[0m\u001b[0;34m)\u001b[0m\u001b[0;34m:\u001b[0m  \u001b[0;31m# pylint: disable=protected-access\u001b[0m\u001b[0;34m\u001b[0m\u001b[0;34m\u001b[0m\u001b[0m\n\u001b[0;32m--> 108\u001b[0;31m       \u001b[0;32mreturn\u001b[0m \u001b[0mmethod\u001b[0m\u001b[0;34m(\u001b[0m\u001b[0mself\u001b[0m\u001b[0;34m,\u001b[0m \u001b[0;34m*\u001b[0m\u001b[0margs\u001b[0m\u001b[0;34m,\u001b[0m \u001b[0;34m**\u001b[0m\u001b[0mkwargs\u001b[0m\u001b[0;34m)\u001b[0m\u001b[0;34m\u001b[0m\u001b[0;34m\u001b[0m\u001b[0m\n\u001b[0m\u001b[1;32m    109\u001b[0m \u001b[0;34m\u001b[0m\u001b[0m\n\u001b[1;32m    110\u001b[0m     \u001b[0;31m# Running inside `run_distribute_coordinator` already.\u001b[0m\u001b[0;34m\u001b[0m\u001b[0;34m\u001b[0m\u001b[0;34m\u001b[0m\u001b[0m\n",
            "\u001b[0;32m/usr/local/lib/python3.6/dist-packages/tensorflow/python/keras/engine/training.py\u001b[0m in \u001b[0;36mfit\u001b[0;34m(self, x, y, batch_size, epochs, verbose, callbacks, validation_split, validation_data, shuffle, class_weight, sample_weight, initial_epoch, steps_per_epoch, validation_steps, validation_batch_size, validation_freq, max_queue_size, workers, use_multiprocessing)\u001b[0m\n\u001b[1;32m   1096\u001b[0m                 batch_size=batch_size):\n\u001b[1;32m   1097\u001b[0m               \u001b[0mcallbacks\u001b[0m\u001b[0;34m.\u001b[0m\u001b[0mon_train_batch_begin\u001b[0m\u001b[0;34m(\u001b[0m\u001b[0mstep\u001b[0m\u001b[0;34m)\u001b[0m\u001b[0;34m\u001b[0m\u001b[0;34m\u001b[0m\u001b[0m\n\u001b[0;32m-> 1098\u001b[0;31m               \u001b[0mtmp_logs\u001b[0m \u001b[0;34m=\u001b[0m \u001b[0mtrain_function\u001b[0m\u001b[0;34m(\u001b[0m\u001b[0miterator\u001b[0m\u001b[0;34m)\u001b[0m\u001b[0;34m\u001b[0m\u001b[0;34m\u001b[0m\u001b[0m\n\u001b[0m\u001b[1;32m   1099\u001b[0m               \u001b[0;32mif\u001b[0m \u001b[0mdata_handler\u001b[0m\u001b[0;34m.\u001b[0m\u001b[0mshould_sync\u001b[0m\u001b[0;34m:\u001b[0m\u001b[0;34m\u001b[0m\u001b[0;34m\u001b[0m\u001b[0m\n\u001b[1;32m   1100\u001b[0m                 \u001b[0mcontext\u001b[0m\u001b[0;34m.\u001b[0m\u001b[0masync_wait\u001b[0m\u001b[0;34m(\u001b[0m\u001b[0;34m)\u001b[0m\u001b[0;34m\u001b[0m\u001b[0;34m\u001b[0m\u001b[0m\n",
            "\u001b[0;32m/usr/local/lib/python3.6/dist-packages/tensorflow/python/eager/def_function.py\u001b[0m in \u001b[0;36m__call__\u001b[0;34m(self, *args, **kwds)\u001b[0m\n\u001b[1;32m    778\u001b[0m       \u001b[0;32melse\u001b[0m\u001b[0;34m:\u001b[0m\u001b[0;34m\u001b[0m\u001b[0;34m\u001b[0m\u001b[0m\n\u001b[1;32m    779\u001b[0m         \u001b[0mcompiler\u001b[0m \u001b[0;34m=\u001b[0m \u001b[0;34m\"nonXla\"\u001b[0m\u001b[0;34m\u001b[0m\u001b[0;34m\u001b[0m\u001b[0m\n\u001b[0;32m--> 780\u001b[0;31m         \u001b[0mresult\u001b[0m \u001b[0;34m=\u001b[0m \u001b[0mself\u001b[0m\u001b[0;34m.\u001b[0m\u001b[0m_call\u001b[0m\u001b[0;34m(\u001b[0m\u001b[0;34m*\u001b[0m\u001b[0margs\u001b[0m\u001b[0;34m,\u001b[0m \u001b[0;34m**\u001b[0m\u001b[0mkwds\u001b[0m\u001b[0;34m)\u001b[0m\u001b[0;34m\u001b[0m\u001b[0;34m\u001b[0m\u001b[0m\n\u001b[0m\u001b[1;32m    781\u001b[0m \u001b[0;34m\u001b[0m\u001b[0m\n\u001b[1;32m    782\u001b[0m       \u001b[0mnew_tracing_count\u001b[0m \u001b[0;34m=\u001b[0m \u001b[0mself\u001b[0m\u001b[0;34m.\u001b[0m\u001b[0m_get_tracing_count\u001b[0m\u001b[0;34m(\u001b[0m\u001b[0;34m)\u001b[0m\u001b[0;34m\u001b[0m\u001b[0;34m\u001b[0m\u001b[0m\n",
            "\u001b[0;32m/usr/local/lib/python3.6/dist-packages/tensorflow/python/eager/def_function.py\u001b[0m in \u001b[0;36m_call\u001b[0;34m(self, *args, **kwds)\u001b[0m\n\u001b[1;32m    838\u001b[0m         \u001b[0;31m# Lifting succeeded, so variables are initialized and we can run the\u001b[0m\u001b[0;34m\u001b[0m\u001b[0;34m\u001b[0m\u001b[0;34m\u001b[0m\u001b[0m\n\u001b[1;32m    839\u001b[0m         \u001b[0;31m# stateless function.\u001b[0m\u001b[0;34m\u001b[0m\u001b[0;34m\u001b[0m\u001b[0;34m\u001b[0m\u001b[0m\n\u001b[0;32m--> 840\u001b[0;31m         \u001b[0;32mreturn\u001b[0m \u001b[0mself\u001b[0m\u001b[0;34m.\u001b[0m\u001b[0m_stateless_fn\u001b[0m\u001b[0;34m(\u001b[0m\u001b[0;34m*\u001b[0m\u001b[0margs\u001b[0m\u001b[0;34m,\u001b[0m \u001b[0;34m**\u001b[0m\u001b[0mkwds\u001b[0m\u001b[0;34m)\u001b[0m\u001b[0;34m\u001b[0m\u001b[0;34m\u001b[0m\u001b[0m\n\u001b[0m\u001b[1;32m    841\u001b[0m     \u001b[0;32melse\u001b[0m\u001b[0;34m:\u001b[0m\u001b[0;34m\u001b[0m\u001b[0;34m\u001b[0m\u001b[0m\n\u001b[1;32m    842\u001b[0m       \u001b[0mcanon_args\u001b[0m\u001b[0;34m,\u001b[0m \u001b[0mcanon_kwds\u001b[0m \u001b[0;34m=\u001b[0m\u001b[0;31m \u001b[0m\u001b[0;31m\\\u001b[0m\u001b[0;34m\u001b[0m\u001b[0;34m\u001b[0m\u001b[0m\n",
            "\u001b[0;32m/usr/local/lib/python3.6/dist-packages/tensorflow/python/eager/function.py\u001b[0m in \u001b[0;36m__call__\u001b[0;34m(self, *args, **kwargs)\u001b[0m\n\u001b[1;32m   2827\u001b[0m     \u001b[0;32mwith\u001b[0m \u001b[0mself\u001b[0m\u001b[0;34m.\u001b[0m\u001b[0m_lock\u001b[0m\u001b[0;34m:\u001b[0m\u001b[0;34m\u001b[0m\u001b[0;34m\u001b[0m\u001b[0m\n\u001b[1;32m   2828\u001b[0m       \u001b[0mgraph_function\u001b[0m\u001b[0;34m,\u001b[0m \u001b[0margs\u001b[0m\u001b[0;34m,\u001b[0m \u001b[0mkwargs\u001b[0m \u001b[0;34m=\u001b[0m \u001b[0mself\u001b[0m\u001b[0;34m.\u001b[0m\u001b[0m_maybe_define_function\u001b[0m\u001b[0;34m(\u001b[0m\u001b[0margs\u001b[0m\u001b[0;34m,\u001b[0m \u001b[0mkwargs\u001b[0m\u001b[0;34m)\u001b[0m\u001b[0;34m\u001b[0m\u001b[0;34m\u001b[0m\u001b[0m\n\u001b[0;32m-> 2829\u001b[0;31m     \u001b[0;32mreturn\u001b[0m \u001b[0mgraph_function\u001b[0m\u001b[0;34m.\u001b[0m\u001b[0m_filtered_call\u001b[0m\u001b[0;34m(\u001b[0m\u001b[0margs\u001b[0m\u001b[0;34m,\u001b[0m \u001b[0mkwargs\u001b[0m\u001b[0;34m)\u001b[0m  \u001b[0;31m# pylint: disable=protected-access\u001b[0m\u001b[0;34m\u001b[0m\u001b[0;34m\u001b[0m\u001b[0m\n\u001b[0m\u001b[1;32m   2830\u001b[0m \u001b[0;34m\u001b[0m\u001b[0m\n\u001b[1;32m   2831\u001b[0m   \u001b[0;34m@\u001b[0m\u001b[0mproperty\u001b[0m\u001b[0;34m\u001b[0m\u001b[0;34m\u001b[0m\u001b[0m\n",
            "\u001b[0;32m/usr/local/lib/python3.6/dist-packages/tensorflow/python/eager/function.py\u001b[0m in \u001b[0;36m_filtered_call\u001b[0;34m(self, args, kwargs, cancellation_manager)\u001b[0m\n\u001b[1;32m   1846\u001b[0m                            resource_variable_ops.BaseResourceVariable))],\n\u001b[1;32m   1847\u001b[0m         \u001b[0mcaptured_inputs\u001b[0m\u001b[0;34m=\u001b[0m\u001b[0mself\u001b[0m\u001b[0;34m.\u001b[0m\u001b[0mcaptured_inputs\u001b[0m\u001b[0;34m,\u001b[0m\u001b[0;34m\u001b[0m\u001b[0;34m\u001b[0m\u001b[0m\n\u001b[0;32m-> 1848\u001b[0;31m         cancellation_manager=cancellation_manager)\n\u001b[0m\u001b[1;32m   1849\u001b[0m \u001b[0;34m\u001b[0m\u001b[0m\n\u001b[1;32m   1850\u001b[0m   \u001b[0;32mdef\u001b[0m \u001b[0m_call_flat\u001b[0m\u001b[0;34m(\u001b[0m\u001b[0mself\u001b[0m\u001b[0;34m,\u001b[0m \u001b[0margs\u001b[0m\u001b[0;34m,\u001b[0m \u001b[0mcaptured_inputs\u001b[0m\u001b[0;34m,\u001b[0m \u001b[0mcancellation_manager\u001b[0m\u001b[0;34m=\u001b[0m\u001b[0;32mNone\u001b[0m\u001b[0;34m)\u001b[0m\u001b[0;34m:\u001b[0m\u001b[0;34m\u001b[0m\u001b[0;34m\u001b[0m\u001b[0m\n",
            "\u001b[0;32m/usr/local/lib/python3.6/dist-packages/tensorflow/python/eager/function.py\u001b[0m in \u001b[0;36m_call_flat\u001b[0;34m(self, args, captured_inputs, cancellation_manager)\u001b[0m\n\u001b[1;32m   1922\u001b[0m       \u001b[0;31m# No tape is watching; skip to running the function.\u001b[0m\u001b[0;34m\u001b[0m\u001b[0;34m\u001b[0m\u001b[0;34m\u001b[0m\u001b[0m\n\u001b[1;32m   1923\u001b[0m       return self._build_call_outputs(self._inference_function.call(\n\u001b[0;32m-> 1924\u001b[0;31m           ctx, args, cancellation_manager=cancellation_manager))\n\u001b[0m\u001b[1;32m   1925\u001b[0m     forward_backward = self._select_forward_and_backward_functions(\n\u001b[1;32m   1926\u001b[0m         \u001b[0margs\u001b[0m\u001b[0;34m,\u001b[0m\u001b[0;34m\u001b[0m\u001b[0;34m\u001b[0m\u001b[0m\n",
            "\u001b[0;32m/usr/local/lib/python3.6/dist-packages/tensorflow/python/eager/function.py\u001b[0m in \u001b[0;36mcall\u001b[0;34m(self, ctx, args, cancellation_manager)\u001b[0m\n\u001b[1;32m    548\u001b[0m               \u001b[0minputs\u001b[0m\u001b[0;34m=\u001b[0m\u001b[0margs\u001b[0m\u001b[0;34m,\u001b[0m\u001b[0;34m\u001b[0m\u001b[0;34m\u001b[0m\u001b[0m\n\u001b[1;32m    549\u001b[0m               \u001b[0mattrs\u001b[0m\u001b[0;34m=\u001b[0m\u001b[0mattrs\u001b[0m\u001b[0;34m,\u001b[0m\u001b[0;34m\u001b[0m\u001b[0;34m\u001b[0m\u001b[0m\n\u001b[0;32m--> 550\u001b[0;31m               ctx=ctx)\n\u001b[0m\u001b[1;32m    551\u001b[0m         \u001b[0;32melse\u001b[0m\u001b[0;34m:\u001b[0m\u001b[0;34m\u001b[0m\u001b[0;34m\u001b[0m\u001b[0m\n\u001b[1;32m    552\u001b[0m           outputs = execute.execute_with_cancellation(\n",
            "\u001b[0;32m/usr/local/lib/python3.6/dist-packages/tensorflow/python/eager/execute.py\u001b[0m in \u001b[0;36mquick_execute\u001b[0;34m(op_name, num_outputs, inputs, attrs, ctx, name)\u001b[0m\n\u001b[1;32m     58\u001b[0m     \u001b[0mctx\u001b[0m\u001b[0;34m.\u001b[0m\u001b[0mensure_initialized\u001b[0m\u001b[0;34m(\u001b[0m\u001b[0;34m)\u001b[0m\u001b[0;34m\u001b[0m\u001b[0;34m\u001b[0m\u001b[0m\n\u001b[1;32m     59\u001b[0m     tensors = pywrap_tfe.TFE_Py_Execute(ctx._handle, device_name, op_name,\n\u001b[0;32m---> 60\u001b[0;31m                                         inputs, attrs, num_outputs)\n\u001b[0m\u001b[1;32m     61\u001b[0m   \u001b[0;32mexcept\u001b[0m \u001b[0mcore\u001b[0m\u001b[0;34m.\u001b[0m\u001b[0m_NotOkStatusException\u001b[0m \u001b[0;32mas\u001b[0m \u001b[0me\u001b[0m\u001b[0;34m:\u001b[0m\u001b[0;34m\u001b[0m\u001b[0;34m\u001b[0m\u001b[0m\n\u001b[1;32m     62\u001b[0m     \u001b[0;32mif\u001b[0m \u001b[0mname\u001b[0m \u001b[0;32mis\u001b[0m \u001b[0;32mnot\u001b[0m \u001b[0;32mNone\u001b[0m\u001b[0;34m:\u001b[0m\u001b[0;34m\u001b[0m\u001b[0;34m\u001b[0m\u001b[0m\n",
            "\u001b[0;31mInvalidArgumentError\u001b[0m:  indices[75,0] = -2147483648 is not in [0, 2175)\n\t [[node functional_5/time_distributed_3/functional_3/time_distributed_1/embedding/embedding_lookup (defined at /content/interpretable-han-for-document-classification-with-keras/han/selfattention_HAN_3.py:234) ]] [Op:__inference_train_function_30936]\n\nErrors may have originated from an input operation.\nInput Source operations connected to node functional_5/time_distributed_3/functional_3/time_distributed_1/embedding/embedding_lookup:\n functional_5/time_distributed_3/functional_3/time_distributed_1/functional_1/embedding/embedding_lookup/21368 (defined at /usr/lib/python3.6/contextlib.py:81)\n\nFunction call stack:\ntrain_function\n"
          ]
        }
      ]
    },
    {
      "cell_type": "code",
      "metadata": {
        "id": "m4otBmiE0kna",
        "colab_type": "code",
        "colab": {}
      },
      "source": [
        "import numpy as np\n",
        "from numpy import array\n",
        "scores=[([1.0851177745295417, 0.779411792755127], 0.88, 0.6470588235294118, 0.7457627118644068, 0.9143598615916955, array([[31,  3],\n",
        "       [12, 22]])), ([0.0001444856659518604, 1.0], 1.0, 1.0, 1.0, 1.0, array([[34,  0],\n",
        "       [ 0, 34]])), ([6.018970787526628e-05, 1.0], 1.0, 1.0, 1.0, 1.0, array([[34,  0],\n",
        "       [ 0, 34]])), ([0.00031656107645052514, 1.0], 1.0, 1.0, 1.0, 1.0, array([[34,  0],\n",
        "       [ 0, 34]])), ([0.0, 1.0], 1.0, 1.0, 1.0, 1.0, array([[34,  0],\n",
        "       [ 0, 34]])), ([0.0, 1.0], 1.0, 1.0, 1.0, 1.0, array([[34,  0],\n",
        "       [ 0, 34]])), ([0.0011297615502033748, 1.0], 1.0, 1.0, 1.0, 1.0, array([[33,  0],\n",
        "       [ 0, 34]])), ([9.32297939810391e-07, 1.0], 1.0, 1.0, 1.0, 1.0, array([[33,  0],\n",
        "       [ 0, 34]])), ([2.167248536732505e-05, 1.0], 1.0, 1.0, 1.0, 1.0, array([[34,  0],\n",
        "       [ 0, 33]])), ([0.08166163537038953, 0.9701492786407471], 1.0, 0.9393939393939394, 0.96875, 1.0, array([[34,  0],\n",
        "       [ 2, 31]]))]"
      ],
      "execution_count": null,
      "outputs": []
    },
    {
      "cell_type": "code",
      "metadata": {
        "id": "OhjFE8r-yP1H",
        "colab_type": "code",
        "colab": {
          "base_uri": "https://localhost:8080/",
          "height": 187
        },
        "outputId": "5a857d0c-f2b5-46e4-d887-7f5876bb8b5e"
      },
      "source": [
        "kFold = StratifiedKFold(n_splits=10)\n",
        "te=[]\n",
        "for train, test in kFold.split(X, target):\n",
        "  idx = idx+1\n",
        "  print(\"fold:\", idx)\n",
        "  X_tr=X[train]\n",
        "  y_tr=y[train]\n",
        "  X_test=X[test]\n",
        "  y_test=y[test]\n",
        "  te.append(y_test)"
      ],
      "execution_count": null,
      "outputs": [
        {
          "output_type": "stream",
          "text": [
            "fold: 21\n",
            "fold: 22\n",
            "fold: 23\n",
            "fold: 24\n",
            "fold: 25\n",
            "fold: 26\n",
            "fold: 27\n",
            "fold: 28\n",
            "fold: 29\n",
            "fold: 30\n"
          ],
          "name": "stdout"
        }
      ]
    },
    {
      "cell_type": "code",
      "metadata": {
        "id": "OD0dpxGky6BZ",
        "colab_type": "code",
        "colab": {
          "base_uri": "https://localhost:8080/",
          "height": 34
        },
        "outputId": "075c7750-03a0-4220-8adb-1878fe5b7a64"
      },
      "source": [
        "len(X)"
      ],
      "execution_count": null,
      "outputs": [
        {
          "output_type": "execute_result",
          "data": {
            "text/plain": [
              "388"
            ]
          },
          "metadata": {
            "tags": []
          },
          "execution_count": 15
        }
      ]
    },
    {
      "cell_type": "code",
      "metadata": {
        "id": "Nk4cDgrcGmbJ",
        "colab_type": "code",
        "colab": {}
      },
      "source": [
        "#####Leave one out Cross Validation#####\n",
        "from sklearn.model_selection import LeaveOneOut\n",
        "TEST_SPLIT=0.1\n",
        "\n",
        "#X_train, X_test, y_train, y_test= train_test_split(X, y, test_size=TEST_SPLIT, random_state=0, stratify=y)\n",
        "\n",
        "loo = LeaveOneOut()\n",
        "scores_loo = []\n",
        "idx = 0\n",
        "for train, test in loo.split(X, target):\n",
        "  idx = idx+1\n",
        "  print(\"fold:\", idx)\n",
        "  X_tr=X[train]\n",
        "  y_tr=y[train]\n",
        "  X_test=X[test]\n",
        "  y_test=y[test]\n",
        "  X_train, X_val, y_train, y_val= train_test_split(X_tr, y_tr, test_size=TEST_SPLIT, random_state=0, stratify=y_tr)\n",
        "  R=h_model.train_model(checkpoint_path, np.array(X_train), np.array(y_train), np.array(X_val), np.array(y_val), np.array(X_test), np.array(y_test), epochs=10,batch_size=10)\n",
        "  scores_loo.append(R)\n",
        "  del R, X_train, X_val, y_train, y_val, X_test, y_test\n",
        "\n",
        "print(scores)\n",
        "#print(scores.mean())"
      ],
      "execution_count": null,
      "outputs": []
    },
    {
      "cell_type": "code",
      "metadata": {
        "id": "35UXLBUVL_2P",
        "colab_type": "code",
        "colab": {}
      },
      "source": [
        "scores1=[[0.7176164587338766, 0.7333333492279053], [0.28545160094896954, 0.8333333134651184], [0.5061388611793518, 0.8333333134651184], [0.21206119239073376, 0.9655172228813171], [0.4766228286356762, 0.931034505367279], [0.11713261439785647, 0.9655172228813171], [0.002322652272564953, 1.0], [0.021398916872667855, 1.0], [0.26799651132575397, 0.9655172228813171], [0.31740590050045786, 0.931034505367279]]"
      ],
      "execution_count": null,
      "outputs": []
    },
    {
      "cell_type": "code",
      "metadata": {
        "id": "7xqyRhbf52kc",
        "colab_type": "code",
        "colab": {
          "base_uri": "https://localhost:8080/",
          "height": 34
        },
        "outputId": "42c8d446-c42f-4451-9007-139288aedd6d"
      },
      "source": [
        "scores[1][0][1]"
      ],
      "execution_count": null,
      "outputs": [
        {
          "output_type": "execute_result",
          "data": {
            "text/plain": [
              "[0.014338556376363462, 1.0]"
            ]
          },
          "metadata": {
            "tags": []
          },
          "execution_count": 10
        }
      ]
    },
    {
      "cell_type": "code",
      "metadata": {
        "id": "V6tyrsqksn9p",
        "colab_type": "code",
        "colab": {}
      },
      "source": [
        "p=[]\n",
        "for i in range(10):\n",
        "  p.append(scores[i][0][1])\n"
      ],
      "execution_count": null,
      "outputs": []
    },
    {
      "cell_type": "code",
      "metadata": {
        "id": "CB4Nc5ZNuJCQ",
        "colab_type": "code",
        "colab": {
          "base_uri": "https://localhost:8080/",
          "height": 34
        },
        "outputId": "f76d224f-d3ca-4508-951e-90596717259a"
      },
      "source": [
        "np.mean(p)"
      ],
      "execution_count": null,
      "outputs": [
        {
          "output_type": "execute_result",
          "data": {
            "text/plain": [
              "0.9344736874103546"
            ]
          },
          "metadata": {
            "tags": []
          },
          "execution_count": 10
        }
      ]
    },
    {
      "cell_type": "code",
      "metadata": {
        "id": "tkrBu3LRbOAC",
        "colab_type": "code",
        "colab": {}
      },
      "source": [
        "import pandas as pd\n",
        "df=pd.DataFrame(scores) \n"
      ],
      "execution_count": null,
      "outputs": []
    },
    {
      "cell_type": "code",
      "metadata": {
        "id": "PJ4VBArObjv0",
        "colab_type": "code",
        "colab": {}
      },
      "source": [
        "df.to_csv('/content/CV_Result_balanced_Revised_trainable_Glove100.csv')"
      ],
      "execution_count": null,
      "outputs": []
    },
    {
      "cell_type": "code",
      "metadata": {
        "id": "e30P-nTWZ22H",
        "colab_type": "code",
        "colab": {
          "base_uri": "https://localhost:8080/",
          "height": 34
        },
        "outputId": "f4752f81-6e8d-4101-cfa4-ebaadb25a416"
      },
      "source": [
        "X_val.shape"
      ],
      "execution_count": null,
      "outputs": [
        {
          "output_type": "execute_result",
          "data": {
            "text/plain": [
              "(36, 5, 25, 100)"
            ]
          },
          "metadata": {
            "tags": []
          },
          "execution_count": 11
        }
      ]
    },
    {
      "cell_type": "code",
      "metadata": {
        "id": "LZzoqv_igTEQ",
        "colab_type": "code",
        "colab": {}
      },
      "source": [
        "X_train=X[train]\n",
        "y_train=to_categorical(y[train])"
      ],
      "execution_count": null,
      "outputs": []
    },
    {
      "cell_type": "code",
      "metadata": {
        "id": "q_af9VlAgkg_",
        "colab_type": "code",
        "colab": {
          "base_uri": "https://localhost:8080/",
          "height": 34
        },
        "outputId": "f0c3cd04-73ac-4644-be55-9019ffdfc8eb"
      },
      "source": [
        "y[train].shape"
      ],
      "execution_count": null,
      "outputs": [
        {
          "output_type": "execute_result",
          "data": {
            "text/plain": [
              "(180, 2)"
            ]
          },
          "metadata": {
            "tags": []
          },
          "execution_count": 36
        }
      ]
    },
    {
      "cell_type": "code",
      "metadata": {
        "id": "W1XSYpWfghRf",
        "colab_type": "code",
        "colab": {
          "base_uri": "https://localhost:8080/",
          "height": 34
        },
        "outputId": "eb9d4cd3-d7b8-4049-f5e6-1deb2a59cead"
      },
      "source": [
        "y_train.shape"
      ],
      "execution_count": null,
      "outputs": [
        {
          "output_type": "execute_result",
          "data": {
            "text/plain": [
              "(180, 2, 2)"
            ]
          },
          "metadata": {
            "tags": []
          },
          "execution_count": 34
        }
      ]
    },
    {
      "cell_type": "code",
      "metadata": {
        "id": "MdQUljxCgdK7",
        "colab_type": "code",
        "colab": {
          "base_uri": "https://localhost:8080/",
          "height": 34
        },
        "outputId": "3f2e2933-7b81-440d-fa6b-02516c9e2d89"
      },
      "source": [
        "X_train.shape"
      ],
      "execution_count": null,
      "outputs": [
        {
          "output_type": "execute_result",
          "data": {
            "text/plain": [
              "(180, 5, 25, 100)"
            ]
          },
          "metadata": {
            "tags": []
          },
          "execution_count": 33
        }
      ]
    },
    {
      "cell_type": "code",
      "metadata": {
        "id": "aFf6UvSRfX0L",
        "colab_type": "code",
        "colab": {
          "base_uri": "https://localhost:8080/",
          "height": 34
        },
        "outputId": "35ddc2dc-7007-4833-c470-bd58ad70df94"
      },
      "source": [
        "X_test.shape"
      ],
      "execution_count": null,
      "outputs": [
        {
          "output_type": "execute_result",
          "data": {
            "text/plain": [
              "(18, 5, 25, 100)"
            ]
          },
          "metadata": {
            "tags": []
          },
          "execution_count": 22
        }
      ]
    },
    {
      "cell_type": "code",
      "metadata": {
        "id": "0zLAki6OfZ8A",
        "colab_type": "code",
        "colab": {
          "base_uri": "https://localhost:8080/",
          "height": 34
        },
        "outputId": "a2aa1c4b-2758-4d3c-b06b-6b5f07886c58"
      },
      "source": [
        "X_val.shape"
      ],
      "execution_count": null,
      "outputs": [
        {
          "output_type": "execute_result",
          "data": {
            "text/plain": [
              "(20, 5, 25, 100)"
            ]
          },
          "metadata": {
            "tags": []
          },
          "execution_count": 23
        }
      ]
    },
    {
      "cell_type": "code",
      "metadata": {
        "id": "N1Z6tq1YfeTM",
        "colab_type": "code",
        "colab": {
          "base_uri": "https://localhost:8080/",
          "height": 34
        },
        "outputId": "70f86dce-940c-4ab4-d404-9c21d0049c3f"
      },
      "source": [
        "X_train.shape"
      ],
      "execution_count": null,
      "outputs": [
        {
          "output_type": "execute_result",
          "data": {
            "text/plain": [
              "(178, 5, 25, 100)"
            ]
          },
          "metadata": {
            "tags": []
          },
          "execution_count": 28
        }
      ]
    },
    {
      "cell_type": "code",
      "metadata": {
        "id": "vnvGKmJ5fnte",
        "colab_type": "code",
        "colab": {}
      },
      "source": [
        "X_train, X_val, y_train, y_val= train_test_split(X, y, test_size=TEST_SPLIT, random_state=1, stratify=y)"
      ],
      "execution_count": null,
      "outputs": []
    },
    {
      "cell_type": "code",
      "metadata": {
        "id": "kH2TydK-drbE",
        "colab_type": "code",
        "colab": {
          "base_uri": "https://localhost:8080/",
          "height": 170
        },
        "outputId": "f437d20e-98ee-4bf7-b7b3-e46bc6a4b843"
      },
      "source": [
        "target"
      ],
      "execution_count": null,
      "outputs": [
        {
          "output_type": "execute_result",
          "data": {
            "text/plain": [
              "array([0, 0, 0, 0, 0, 0, 0, 0, 0, 0, 0, 0, 0, 0, 0, 0, 0, 0, 0, 0, 0, 0,\n",
              "       0, 0, 0, 0, 0, 0, 0, 0, 0, 0, 0, 0, 0, 0, 0, 0, 0, 0, 0, 0, 0, 0,\n",
              "       0, 0, 0, 0, 0, 0, 0, 0, 0, 0, 0, 0, 0, 0, 0, 0, 0, 0, 0, 0, 0, 0,\n",
              "       0, 0, 0, 0, 0, 0, 0, 0, 0, 0, 0, 0, 0, 0, 0, 0, 0, 0, 0, 0, 0, 0,\n",
              "       0, 0, 0, 0, 0, 0, 0, 0, 0, 0, 0, 1, 1, 1, 1, 1, 1, 1, 1, 1, 1, 1,\n",
              "       1, 1, 1, 1, 1, 1, 1, 1, 1, 1, 1, 1, 1, 1, 1, 1, 1, 1, 1, 1, 1, 1,\n",
              "       1, 1, 1, 1, 1, 1, 1, 1, 1, 1, 1, 1, 1, 1, 1, 1, 1, 1, 1, 1, 1, 1,\n",
              "       1, 1, 1, 1, 1, 1, 1, 1, 1, 1, 1, 1, 1, 1, 1, 1, 1, 1, 1, 1, 1, 1,\n",
              "       1, 1, 1, 1, 1, 1, 1, 1, 1, 1, 1, 1, 1, 1, 1, 1, 1, 1, 1, 1, 1, 1])"
            ]
          },
          "metadata": {
            "tags": []
          },
          "execution_count": 17
        }
      ]
    },
    {
      "cell_type": "code",
      "metadata": {
        "id": "MCEOMVAK--I4",
        "colab_type": "code",
        "colab": {
          "base_uri": "https://localhost:8080/",
          "height": 1000
        },
        "outputId": "b9d982e8-41ed-4711-ae93-616cc27c77f4"
      },
      "source": [
        "h_model.show_doc_attention(X)[400:450]"
      ],
      "execution_count": null,
      "outputs": [
        {
          "output_type": "execute_result",
          "data": {
            "text/plain": [
              "array([[3.28459948e-01, 2.17424153e-04, 3.29607338e-01, 3.29167694e-01,\n",
              "        1.25475740e-02],\n",
              "       [2.51805276e-01, 3.40868457e-04, 2.55397111e-01, 2.55427420e-01,\n",
              "        2.37029359e-01],\n",
              "       [2.47840032e-01, 1.64494340e-04, 2.50586033e-01, 2.50802279e-01,\n",
              "        2.50607193e-01],\n",
              "       [2.47282594e-01, 1.31575056e-04, 2.51068383e-01, 2.51662523e-01,\n",
              "        2.49854863e-01],\n",
              "       [9.99923706e-01, 1.90937426e-05, 1.90937426e-05, 1.90937590e-05,\n",
              "        1.90937426e-05],\n",
              "       [9.99923706e-01, 1.90438404e-05, 1.90438586e-05, 1.90438586e-05,\n",
              "        1.90438586e-05],\n",
              "       [9.99923825e-01, 1.90412284e-05, 1.90412647e-05, 1.90412647e-05,\n",
              "        1.90412647e-05],\n",
              "       [9.99923706e-01, 1.90567771e-05, 1.90567953e-05, 1.90568135e-05,\n",
              "        1.90567953e-05],\n",
              "       [1.51919026e-03, 3.31666023e-01, 3.48481303e-03, 3.32320452e-01,\n",
              "        3.31009567e-01],\n",
              "       [1.08673397e-04, 2.50314295e-01, 2.50451118e-01, 2.50381380e-01,\n",
              "        2.48744518e-01],\n",
              "       [5.94192883e-04, 2.52742082e-01, 2.42326349e-01, 2.52388388e-01,\n",
              "        2.51949012e-01],\n",
              "       [2.17480003e-03, 3.40547204e-01, 2.95277056e-03, 3.39391023e-01,\n",
              "        3.14934254e-01],\n",
              "       [3.30949231e-04, 9.99007285e-01, 6.23930653e-04, 1.89410621e-05,\n",
              "        1.88956492e-05],\n",
              "       [3.55094700e-04, 5.04385591e-01, 4.95239228e-01, 1.00198076e-05,\n",
              "        1.00139041e-05],\n",
              "       [5.00746429e-01, 4.98770118e-01, 4.63163917e-04, 1.01495070e-05,\n",
              "        1.01495070e-05],\n",
              "       [1.57196671e-04, 5.05254686e-01, 4.94567961e-01, 1.00770294e-05,\n",
              "        1.00691523e-05],\n",
              "       [5.00521719e-01, 4.99447912e-01, 1.01226951e-05, 1.01226951e-05,\n",
              "        1.01226951e-05],\n",
              "       [5.01134098e-01, 4.98835564e-01, 1.01167334e-05, 1.01167334e-05,\n",
              "        1.01167334e-05],\n",
              "       [5.01012027e-01, 4.98957664e-01, 1.01034047e-05, 1.01034047e-05,\n",
              "        1.01034148e-05],\n",
              "       [5.00251949e-01, 4.99717653e-01, 1.01289988e-05, 1.01289988e-05,\n",
              "        1.01290088e-05],\n",
              "       [2.48828515e-01, 2.50063896e-01, 2.49994367e-01, 1.71067403e-03,\n",
              "        2.49402612e-01],\n",
              "       [1.61852935e-04, 3.32579464e-01, 3.33371103e-01, 2.04575551e-03,\n",
              "        3.31841916e-01],\n",
              "       [1.81155726e-01, 2.90064842e-01, 2.89746761e-01, 3.27031058e-03,\n",
              "        2.35762373e-01],\n",
              "       [3.36983328e-04, 3.32993239e-01, 3.33162546e-01, 5.51268505e-03,\n",
              "        3.27994525e-01],\n",
              "       [2.50252068e-01, 2.51314342e-01, 2.47878358e-01, 2.50550210e-01,\n",
              "        5.06295464e-06],\n",
              "       [4.40850884e-01, 4.82342243e-01, 7.66736269e-02, 1.23728329e-04,\n",
              "        9.53410836e-06],\n",
              "       [7.57053308e-03, 6.73120469e-03, 9.82168615e-01, 3.42254178e-03,\n",
              "        1.07070475e-04],\n",
              "       [2.99578309e-01, 4.45117176e-01, 2.55124778e-01, 1.70821746e-04,\n",
              "        8.83496705e-06],\n",
              "       [3.34164500e-01, 3.33516091e-01, 3.32305849e-01, 6.75621595e-06,\n",
              "        6.75622277e-06],\n",
              "       [3.48175764e-01, 3.45967054e-01, 3.05843204e-01, 6.94491837e-06,\n",
              "        6.94492473e-06],\n",
              "       [3.39818448e-01, 3.38379860e-01, 3.21788102e-01, 6.80154199e-06,\n",
              "        6.80155472e-06],\n",
              "       [3.44641328e-01, 3.43249083e-01, 3.12095791e-01, 6.88660975e-06,\n",
              "        6.88662294e-06],\n",
              "       [5.00241399e-01, 4.99728382e-01, 1.00895677e-05, 1.00895677e-05,\n",
              "        1.00895677e-05],\n",
              "       [4.99697059e-01, 5.00272572e-01, 1.00995530e-05, 1.00995530e-05,\n",
              "        1.00995530e-05],\n",
              "       [5.00039101e-01, 4.99930650e-01, 1.00919333e-05, 1.00919333e-05,\n",
              "        1.00919424e-05],\n",
              "       [5.00160575e-01, 4.99809176e-01, 1.00905918e-05, 1.00905918e-05,\n",
              "        1.00906118e-05],\n",
              "       [9.99923706e-01, 1.90503615e-05, 1.90503797e-05, 1.90504161e-05,\n",
              "        1.90503797e-05],\n",
              "       [9.99923706e-01, 1.90726842e-05, 1.90727042e-05, 1.90727205e-05,\n",
              "        1.90727042e-05],\n",
              "       [9.99923706e-01, 1.90803439e-05, 1.90803803e-05, 1.90803803e-05,\n",
              "        1.90803803e-05],\n",
              "       [9.99923706e-01, 1.90760511e-05, 1.90760693e-05, 1.90760875e-05,\n",
              "        1.90760693e-05],\n",
              "       [9.99923706e-01, 1.90933770e-05, 1.90933770e-05, 1.90933770e-05,\n",
              "        1.90933770e-05],\n",
              "       [9.99923706e-01, 1.90528153e-05, 1.90528517e-05, 1.90528517e-05,\n",
              "        1.90528517e-05],\n",
              "       [9.99923706e-01, 1.90902101e-05, 1.90902101e-05, 1.90902465e-05,\n",
              "        1.90902101e-05],\n",
              "       [9.99923706e-01, 1.90894079e-05, 1.90894443e-05, 1.90894443e-05,\n",
              "        1.90894443e-05],\n",
              "       [5.00626624e-01, 4.97939199e-01, 1.41398830e-03, 1.01066335e-05,\n",
              "        1.01066234e-05],\n",
              "       [3.34090024e-01, 3.32692325e-01, 3.33204180e-01, 6.76026548e-06,\n",
              "        6.76027821e-06],\n",
              "       [3.33976120e-01, 3.32841456e-01, 3.33168894e-01, 6.76389254e-06,\n",
              "        6.76389936e-06],\n",
              "       [3.33754182e-01, 3.33134085e-01, 3.33098203e-01, 6.76375748e-06,\n",
              "        6.76377022e-06],\n",
              "       [8.12877119e-02, 9.18496490e-01, 1.82463715e-04, 1.68753031e-05,\n",
              "        1.64443481e-05],\n",
              "       [4.99884784e-01, 4.99983966e-01, 1.10964262e-04, 1.01438100e-05,\n",
              "        1.01438100e-05]], dtype=float32)"
            ]
          },
          "metadata": {
            "tags": []
          },
          "execution_count": 16
        }
      ]
    },
    {
      "cell_type": "code",
      "metadata": {
        "id": "CbcwlBWdHY9h",
        "colab_type": "code",
        "colab": {}
      },
      "source": [
        "X[401]"
      ],
      "execution_count": null,
      "outputs": []
    },
    {
      "cell_type": "code",
      "metadata": {
        "id": "8waLbuvj3KjQ",
        "colab_type": "code",
        "colab": {
          "base_uri": "https://localhost:8080/",
          "height": 459
        },
        "outputId": "aef8b01e-0bdb-40ef-c132-578a18873c84"
      },
      "source": [
        "h_model.show_sent_attention(X[401])"
      ],
      "execution_count": null,
      "outputs": [
        {
          "output_type": "execute_result",
          "data": {
            "text/plain": [
              "array([[0.00694029, 0.04137528, 0.04137662, 0.04137725, 0.04137755,\n",
              "        0.04137766, 0.04137769, 0.04137769, 0.04137769, 0.04137768,\n",
              "        0.04137767, 0.04137766, 0.04137766, 0.04137766, 0.04137766,\n",
              "        0.04137766, 0.04137766, 0.04137766, 0.04137766, 0.04137766,\n",
              "        0.04137766, 0.04137765, 0.04137762, 0.04137757, 0.04137748],\n",
              "       [0.9140839 , 0.0036053 , 0.00360504, 0.00360448, 0.00360368,\n",
              "        0.00360268, 0.00360147, 0.00360004, 0.00359837, 0.00359646,\n",
              "        0.0035943 , 0.00359187, 0.00358915, 0.00358614, 0.0035828 ,\n",
              "        0.0035791 , 0.00357502, 0.00357048, 0.00356544, 0.00355982,\n",
              "        0.00355362, 0.00354696, 0.0035402 , 0.00353406, 0.00352963],\n",
              "       [0.8000124 , 0.00829191, 0.00827685, 0.00827797, 0.0082942 ,\n",
              "        0.00831698, 0.00833497, 0.00834375, 0.00834623, 0.00834623,\n",
              "        0.00834572, 0.00834532, 0.0083451 , 0.008345  , 0.00834496,\n",
              "        0.00834495, 0.00834495, 0.00834494, 0.00834491, 0.0083448 ,\n",
              "        0.0083445 , 0.00834387, 0.00834261, 0.00834036, 0.00833657],\n",
              "       [0.9580299 , 0.00174875, 0.00174875, 0.00174875, 0.00174875,\n",
              "        0.00174875, 0.00174875, 0.00174875, 0.00174875, 0.00174875,\n",
              "        0.00174875, 0.00174875, 0.00174875, 0.00174875, 0.00174875,\n",
              "        0.00174875, 0.00174875, 0.00174875, 0.00174875, 0.00174875,\n",
              "        0.00174875, 0.00174875, 0.00174875, 0.00174875, 0.00174875],\n",
              "       [0.7032984 , 0.01224087, 0.01225441, 0.01229685, 0.01233862,\n",
              "        0.01236409, 0.01237537, 0.01237934, 0.01238051, 0.01238082,\n",
              "        0.0123809 , 0.01238094, 0.01238095, 0.01238095, 0.01238094,\n",
              "        0.01238094, 0.01238095, 0.01238094, 0.0123809 , 0.01238075,\n",
              "        0.01238035, 0.01237947, 0.01237774, 0.01237461, 0.01236929]],\n",
              "      dtype=float32)"
            ]
          },
          "metadata": {
            "tags": []
          },
          "execution_count": 86
        }
      ]
    },
    {
      "cell_type": "code",
      "metadata": {
        "id": "jgrU7zlJqC3r",
        "colab_type": "code",
        "colab": {}
      },
      "source": [
        "h_model.show_doc_attention(X)"
      ],
      "execution_count": null,
      "outputs": []
    },
    {
      "cell_type": "code",
      "metadata": {
        "id": "h1SSHEoA-j9B",
        "colab_type": "code",
        "colab": {}
      },
      "source": [
        "h_model.show_doc_attention(X)"
      ],
      "execution_count": null,
      "outputs": []
    },
    {
      "cell_type": "code",
      "metadata": {
        "id": "UWF4Vu9uh1EP",
        "colab_type": "code",
        "colab": {}
      },
      "source": [
        "h_model.show_doc_attention(X)"
      ],
      "execution_count": null,
      "outputs": []
    },
    {
      "cell_type": "code",
      "metadata": {
        "id": "6it72NPaFDD7",
        "colab_type": "code",
        "colab": {}
      },
      "source": [
        "h_model.show_doc_attention(X)"
      ],
      "execution_count": null,
      "outputs": []
    },
    {
      "cell_type": "code",
      "metadata": {
        "id": "h6ZfVDEC-n9a",
        "colab_type": "code",
        "colab": {}
      },
      "source": [
        "h_model.show_doc_attention(X)"
      ],
      "execution_count": null,
      "outputs": []
    },
    {
      "cell_type": "code",
      "metadata": {
        "id": "efi_XTgv8vw6",
        "colab_type": "code",
        "colab": {}
      },
      "source": [
        "y"
      ],
      "execution_count": null,
      "outputs": []
    },
    {
      "cell_type": "code",
      "metadata": {
        "id": "oWhmCDDuuEo4",
        "colab_type": "code",
        "colab": {
          "base_uri": "https://localhost:8080/",
          "height": 122
        },
        "outputId": "a2dd0ab5-eb48-4e0f-9a3c-33bec228f6a2"
      },
      "source": [
        "from google.colab import drive\n",
        "drive.mount('/content/drive')"
      ],
      "execution_count": null,
      "outputs": [
        {
          "output_type": "stream",
          "text": [
            "Go to this URL in a browser: https://accounts.google.com/o/oauth2/auth?client_id=947318989803-6bn6qk8qdgf4n4g3pfee6491hc0brc4i.apps.googleusercontent.com&redirect_uri=urn%3Aietf%3Awg%3Aoauth%3A2.0%3Aoob&scope=email%20https%3A%2F%2Fwww.googleapis.com%2Fauth%2Fdocs.test%20https%3A%2F%2Fwww.googleapis.com%2Fauth%2Fdrive%20https%3A%2F%2Fwww.googleapis.com%2Fauth%2Fdrive.photos.readonly%20https%3A%2F%2Fwww.googleapis.com%2Fauth%2Fpeopleapi.readonly&response_type=code\n",
            "\n",
            "Enter your authorization code:\n",
            "··········\n",
            "Mounted at /content/drive\n"
          ],
          "name": "stdout"
        }
      ]
    },
    {
      "cell_type": "code",
      "metadata": {
        "id": "yO1Fu5hODYz9",
        "colab_type": "code",
        "colab": {
          "base_uri": "https://localhost:8080/",
          "height": 164
        },
        "outputId": "563732b6-ebaf-4220-cf8f-9f0a0304c2ba"
      },
      "source": [
        "model.show_doc_attention(X)"
      ],
      "execution_count": null,
      "outputs": [
        {
          "output_type": "error",
          "ename": "NameError",
          "evalue": "ignored",
          "traceback": [
            "\u001b[0;31m---------------------------------------------------------------------------\u001b[0m",
            "\u001b[0;31mNameError\u001b[0m                                 Traceback (most recent call last)",
            "\u001b[0;32m<ipython-input-15-0b5c734cacc2>\u001b[0m in \u001b[0;36m<module>\u001b[0;34m()\u001b[0m\n\u001b[0;32m----> 1\u001b[0;31m \u001b[0mmodel\u001b[0m\u001b[0;34m.\u001b[0m\u001b[0mshow_doc_attention\u001b[0m\u001b[0;34m(\u001b[0m\u001b[0mX\u001b[0m\u001b[0;34m)\u001b[0m\u001b[0;34m\u001b[0m\u001b[0;34m\u001b[0m\u001b[0m\n\u001b[0m",
            "\u001b[0;31mNameError\u001b[0m: name 'model' is not defined"
          ]
        }
      ]
    },
    {
      "cell_type": "code",
      "metadata": {
        "id": "jwrvhNjPWysn",
        "colab_type": "code",
        "colab": {}
      },
      "source": [
        "data"
      ],
      "execution_count": null,
      "outputs": []
    },
    {
      "cell_type": "code",
      "metadata": {
        "id": "vkD19s5TYDGJ",
        "colab_type": "code",
        "colab": {
          "base_uri": "https://localhost:8080/",
          "height": 136
        },
        "outputId": "45948e3d-e6ee-4e64-ac0f-121f4eece795"
      },
      "source": [
        "X[1,0]"
      ],
      "execution_count": null,
      "outputs": [
        {
          "output_type": "execute_result",
          "data": {
            "text/plain": [
              "array([[  0,   0,   0, ...,   0,   0, 221],\n",
              "       [  0,   0,   0, ...,   2,   2, 335],\n",
              "       [  0,   0,   0, ...,   6,  12,  20],\n",
              "       ...,\n",
              "       [  0,   0,   0, ...,   0,   0,   0],\n",
              "       [  0,   0,   0, ...,   0,   0,   0],\n",
              "       [  0,   0,   0, ...,   0,   0,   0]], dtype=int32)"
            ]
          },
          "metadata": {
            "tags": []
          },
          "execution_count": 15
        }
      ]
    },
    {
      "cell_type": "code",
      "metadata": {
        "id": "89XCE5Ta4vR8",
        "colab_type": "code",
        "colab": {}
      },
      "source": [
        "s=h_model.show_doc_attention(X)\n",
        "ss=pd.DataFrame(s)"
      ],
      "execution_count": null,
      "outputs": []
    },
    {
      "cell_type": "code",
      "metadata": {
        "id": "5i988Hx9Am-x",
        "colab_type": "code",
        "colab": {
          "base_uri": "https://localhost:8080/",
          "height": 34
        },
        "outputId": "a60fb1c7-28e6-4be6-dca3-61c4786a19fd"
      },
      "source": [
        "max(s[1])"
      ],
      "execution_count": null,
      "outputs": [
        {
          "output_type": "execute_result",
          "data": {
            "text/plain": [
              "0.37272504"
            ]
          },
          "metadata": {
            "tags": []
          },
          "execution_count": 37
        }
      ]
    },
    {
      "cell_type": "code",
      "metadata": {
        "id": "yYKp5DXcUAwo",
        "colab_type": "code",
        "colab": {}
      },
      "source": [
        "ss.to_csv('/content/selfattention_bach_10_epoch_30.csv')"
      ],
      "execution_count": null,
      "outputs": []
    },
    {
      "cell_type": "code",
      "metadata": {
        "id": "4YqghOG35WT8",
        "colab_type": "code",
        "colab": {}
      },
      "source": [
        "def train_model(self, checkpoint_path, X_train, y_train, X_test, y_test,\n",
        "                    optimizer='adagrad', loss='categorical_crossentropy',\n",
        "                    metric='acc', monitor='val_loss', batch_size=20, epochs=10):\n",
        "        \"\"\"Train the HAN model.\n",
        "\n",
        "        Args:\n",
        "            checkpoint_path: str, the path to save checkpoint file.\n",
        "            X_train: training dataset.\n",
        "            y_train: target of training dataset.\n",
        "            X_test: testing dataset.\n",
        "            y_test: target of testing dataset.\n",
        "            optimizer: optimizer for compiling, default is adagrad.\n",
        "            loss: loss function, default is categorical_crossentropy.\n",
        "            metric: measurement metric, default is acc (accuracy).\n",
        "            monitor: monitor of metric to pick up best weights, default is val_loss.\n",
        "            batch_size: batch size, default is 20.\n",
        "            epochs: number of epoch, default is 10.\n",
        "        \"\"\"\n",
        "        self.model.compile(\n",
        "            optimizer=optimizer,\n",
        "            loss=loss,\n",
        "            metrics=[metric]\n",
        "        )\n",
        "        checkpoint = ModelCheckpoint(\n",
        "            filepath=checkpoint_path,\n",
        "            monitor=monitor,\n",
        "            verbose=1, save_best_only=True\n",
        "        )\n",
        "\n",
        "        self.model.fit(\n",
        "            X_train, y_train, batch_size=batch_size, epochs=epochs,\n",
        "            validation_data=(X_test, y_test),\n",
        "            callbacks=[checkpoint]\n",
        "        )"
      ],
      "execution_count": null,
      "outputs": []
    },
    {
      "cell_type": "code",
      "metadata": {
        "id": "D5Wh4H6wFWEI",
        "colab_type": "code",
        "colab": {}
      },
      "source": [
        "X[0]"
      ],
      "execution_count": null,
      "outputs": []
    },
    {
      "cell_type": "code",
      "metadata": {
        "id": "_Lk1zZWXss2v",
        "colab_type": "code",
        "colab": {
          "base_uri": "https://localhost:8080/",
          "height": 612
        },
        "outputId": "2a31c72e-0ec1-46cd-9888-a36db114e4fe"
      },
      "source": [
        "h_model.show_sent_attention(X[0])"
      ],
      "execution_count": null,
      "outputs": [
        {
          "output_type": "execute_result",
          "data": {
            "text/plain": [
              "array([[1.2711183e-03, 2.4995416e-02, 2.3285067e-03, 4.0534887e-02,\n",
              "        4.0709660e-03, 5.7026031e-03, 1.8027538e-02, 8.5491491e-03,\n",
              "        3.1830990e-03, 5.0912420e-03, 5.9472322e-02, 5.9469193e-02,\n",
              "        5.9401728e-02, 5.9302811e-02, 5.9197027e-02, 5.9101038e-02,\n",
              "        5.9023213e-02, 5.8965765e-02, 5.8927495e-02, 5.8905728e-02,\n",
              "        5.8896959e-02, 5.8896933e-02, 5.8899909e-02, 5.8898777e-02,\n",
              "        5.8886629e-02],\n",
              "       [4.9262529e-04, 5.6191669e-03, 2.4096195e-03, 1.0628470e-03,\n",
              "        9.5585879e-04, 2.1444291e-02, 7.9078712e-03, 9.9329865e-03,\n",
              "        6.2938076e-01, 4.3339697e-03, 5.4131220e-03, 4.1264580e-03,\n",
              "        2.3772603e-02, 2.3769774e-02, 2.3737535e-02, 2.3691613e-02,\n",
              "        2.3643637e-02, 2.3601251e-02, 2.3568125e-02, 2.3544911e-02,\n",
              "        2.3530478e-02, 2.3522602e-02, 2.3518246e-02, 2.3513777e-02,\n",
              "        2.3505803e-02],\n",
              "       [4.0002376e-02, 4.0000983e-02, 4.0000316e-02, 4.0000010e-02,\n",
              "        3.9999910e-02, 3.9999884e-02, 3.9999913e-02, 3.9999943e-02,\n",
              "        3.9999969e-02, 4.0000003e-02, 4.0000025e-02, 4.0000036e-02,\n",
              "        4.0000051e-02, 4.0000066e-02, 4.0000070e-02, 4.0000066e-02,\n",
              "        4.0000036e-02, 3.9999992e-02, 3.9999891e-02, 3.9999764e-02,\n",
              "        3.9999586e-02, 3.9999396e-02, 3.9999243e-02, 3.9999198e-02,\n",
              "        3.9999332e-02],\n",
              "       [4.0002376e-02, 4.0000983e-02, 4.0000316e-02, 4.0000010e-02,\n",
              "        3.9999910e-02, 3.9999884e-02, 3.9999913e-02, 3.9999943e-02,\n",
              "        3.9999969e-02, 4.0000003e-02, 4.0000025e-02, 4.0000036e-02,\n",
              "        4.0000051e-02, 4.0000066e-02, 4.0000070e-02, 4.0000066e-02,\n",
              "        4.0000036e-02, 3.9999992e-02, 3.9999891e-02, 3.9999764e-02,\n",
              "        3.9999586e-02, 3.9999396e-02, 3.9999243e-02, 3.9999198e-02,\n",
              "        3.9999332e-02],\n",
              "       [4.0002376e-02, 4.0000983e-02, 4.0000316e-02, 4.0000010e-02,\n",
              "        3.9999910e-02, 3.9999884e-02, 3.9999913e-02, 3.9999943e-02,\n",
              "        3.9999969e-02, 4.0000003e-02, 4.0000025e-02, 4.0000036e-02,\n",
              "        4.0000051e-02, 4.0000066e-02, 4.0000070e-02, 4.0000066e-02,\n",
              "        4.0000036e-02, 3.9999992e-02, 3.9999891e-02, 3.9999764e-02,\n",
              "        3.9999586e-02, 3.9999396e-02, 3.9999243e-02, 3.9999198e-02,\n",
              "        3.9999332e-02]], dtype=float32)"
            ]
          },
          "metadata": {
            "tags": []
          },
          "execution_count": 12
        }
      ]
    },
    {
      "cell_type": "code",
      "metadata": {
        "id": "Ci8xA6v45DOM",
        "colab_type": "code",
        "colab": {}
      },
      "source": [
        "from pandas import Series, DataFrame\n",
        "f=pd.Series(reviews)\n",
        "#x=range(len(reviews))\n",
        "#x=reviews\n",
        "sent_tokenized_reviews=f.apply(lambda x: sent_tokenize(x)) "
      ],
      "execution_count": null,
      "outputs": []
    },
    {
      "cell_type": "code",
      "metadata": {
        "id": "nrfZjhE46xuq",
        "colab_type": "code",
        "colab": {}
      },
      "source": [
        "sent_att=model.show_sent_attention(X)"
      ],
      "execution_count": null,
      "outputs": []
    },
    {
      "cell_type": "code",
      "metadata": {
        "id": "7QuWpF_6sNap",
        "colab_type": "code",
        "colab": {}
      },
      "source": [
        "ff=model.sent_att_to_df(sent_tokenized_reviews, sent_att)"
      ],
      "execution_count": null,
      "outputs": []
    },
    {
      "cell_type": "code",
      "metadata": {
        "id": "V3PiZQPG8A-Q",
        "colab_type": "code",
        "colab": {
          "base_uri": "https://localhost:8080/",
          "height": 292
        },
        "outputId": "79070a7f-f90b-4c02-c090-e691b96fc0ac"
      },
      "source": [
        "m"
      ],
      "execution_count": null,
      "outputs": [
        {
          "output_type": "execute_result",
          "data": {
            "text/plain": [
              "[{'oh gee .': 0.06499318},\n",
              " {'[+ exc]       \\t\\tthe little girl is reachin(g) up to the &g cookie jar .': 0.06555986},\n",
              " {'[//] oh hes on the [/] &uh [x ] the stool .': 0.06416825},\n",
              " {'hes gonna [: going to] be trouble fallin(g) off &=laughs .': 0.06379382},\n",
              " {'[+ gram]       \\t\\t&=laughs and the  [//] lady is dryin(g) the dishes .': 0.06452245},\n",
              " {'and the &um sink overroll [: overflowed] [* n:k-ret] [//] overfilled .': 0.06467612},\n",
              " {'i_mean its all down on the floor .': 0.067387186},\n",
              " {'and i can see cups and &coff +//.': 0.06626212},\n",
              " {'there [//] i s(ee) that little boy with the cookie jar .': 0.06671091},\n",
              " {'and that little girl wants one .': 0.068040885},\n",
              " {'and  [//] as i said the waters running all over the floor .': 0.069634095},\n",
              " {'(..) and the girls dryin(g) the dishes .': 0.068921536},\n",
              " {'and the little boys fallin(g) off that there stool because hes up for the cookie jar .': 0.0692176},\n",
              " {'tryin(g) to get one for his sister .': 0.06773965},\n",
              " {'[+ gram]       \\t\\tand the water on the faucet is all over the floor &=laughs .': 0.068372265}]"
            ]
          },
          "metadata": {
            "tags": []
          },
          "execution_count": 116
        }
      ]
    },
    {
      "cell_type": "code",
      "metadata": {
        "id": "i1BbFClIZ03z",
        "colab_type": "code",
        "colab": {}
      },
      "source": [
        "#Sentence Attention in 3 level Hierarchichal Model\n",
        "from pandas import Series, DataFrame\n",
        "Total=[]\n",
        "sentence_attention=[]\n",
        "for i, review in enumerate(reviews):\n",
        "  T=[]\n",
        "  for j in range(len(review)):\n",
        "      #if not pd.isnull(reviews[i,j]):\n",
        "      if not pd.isnull(reviews[i,j]): #and s[i,j]==max(s[i]):\n",
        "        ii=i\n",
        "        #word_tokenizer.fit_on_texts(review[j])\n",
        "        sentences = sent_tokenize(reviews[ii,j])\n",
        "        T.append(sentences)\n",
        "  sent_att=h_model.show_sent_attention(X[i])\n",
        "  f=h_model.sent_att_to_df(T, sent_att)\n",
        "  Total.append(T)\n",
        "  sentence_attention.append(f['sent_att'])\n",
        "  \n",
        "        \n",
        "        \n",
        "        "
      ],
      "execution_count": null,
      "outputs": []
    },
    {
      "cell_type": "code",
      "metadata": {
        "id": "eZKbFWEgnxYD",
        "colab_type": "code",
        "colab": {
          "base_uri": "https://localhost:8080/",
          "height": 51
        },
        "outputId": "f4968bb5-dd52-4e18-aad4-6b26944ac9a5"
      },
      "source": [
        "s[156]"
      ],
      "execution_count": null,
      "outputs": [
        {
          "output_type": "execute_result",
          "data": {
            "text/plain": [
              "array([0.7521507 , 0.19259809, 0.02915419, 0.01264555, 0.01345147],\n",
              "      dtype=float32)"
            ]
          },
          "metadata": {
            "tags": []
          },
          "execution_count": 227
        }
      ]
    },
    {
      "cell_type": "code",
      "metadata": {
        "id": "Phv1byLZtNhz",
        "colab_type": "code",
        "colab": {
          "base_uri": "https://localhost:8080/",
          "height": 462
        },
        "outputId": "ee2fbe2d-90c2-4ec0-c926-1390374f5fa4"
      },
      "source": [
        "sentence_attention[156][0]"
      ],
      "execution_count": null,
      "outputs": [
        {
          "output_type": "execute_result",
          "data": {
            "text/plain": [
              "[{'[\"mother\\'s dryin(g) the dishes .': 0.037043337},\n",
              " {'\", \"Junior\\'s in the cookie jar handin(g) a cookie to his little sister .': 0.034988925},\n",
              " {'\", \"the water\\'s spilling out o(f) the sink .': 0.03690321},\n",
              " {'\", \\'the window is open .': 0.047277108},\n",
              " {\"', 'the door to the cupboard where the cookie jar is open and the [/] the top of the cookie jar is off .\": 0.049302753},\n",
              " {\"', 'cookie jar is quite full .\": 0.04521955},\n",
              " {\"[+ gram]', 'mother has two cups and a dish on the sink .\": 0.047427036},\n",
              " {\"', 'looks like a nice day .\": 0.044210713},\n",
              " {'[+ gram]\\', \"&uh action we\\'re lookin(g) for action .': 0.0417335},\n",
              " {'[+ exc]\", \"the kitchen stool that Junior\\'s on is about ready to fall over .': 0.045981713},\n",
              " {'\", \\'what else do we have ?': 0.039971348},\n",
              " {'[+ exc]\\', \"&uh that\\'s all the action I see .': 0.039674792},\n",
              " {'[+ exc]\", \\'oh &uh Sissy is holdin(g) her finger up to her mouth like +\"/.': 0.042781655},\n",
              " {'\\', \\'+\" don\\\\\\'t make any noise or mother (wi)ll turn around .': 0.03765908},\n",
              " {'\\', \"(.)': 0.037532166},\n",
              " {'I [//] (.)': 0.037306406},\n",
              " {\"I've already said he's reachin(g) a cookie to her and goin(g) for another one just before the stool falls down .\": 0.04030105},\n",
              " {'\", \\'his socks are droopin(g) .': 0.036871884},\n",
              " {\"', 'does that count &=laughs ?\": 0.036599904},\n",
              " {'[+ exc]\\', \"&uh I don\\'t see anything outside .': 0.035773337},\n",
              " {'\", \"&uh &uh the curtains don\\'t look like they\\'re blowin(g) or anything .': 0.03552522},\n",
              " {'\", \"mother\\'s just standin(g) lookin(g) .': 0.03546937},\n",
              " {'\", \"she\\'s gonna get her feet wet in a minute .': 0.040609475},\n",
              " {'\", \\'okay .': 0.03703546},\n",
              " {\"[+ exc]']\": 0.036801014}]"
            ]
          },
          "metadata": {
            "tags": []
          },
          "execution_count": 15
        }
      ]
    },
    {
      "cell_type": "code",
      "metadata": {
        "id": "QPyKlYQRFBkh",
        "colab_type": "code",
        "colab": {
          "base_uri": "https://localhost:8080/",
          "height": 360
        },
        "outputId": "38694498-6cbe-4b2b-dc51-1f47d6464f90"
      },
      "source": [
        "sentence_attention[11][0]"
      ],
      "execution_count": null,
      "outputs": [
        {
          "output_type": "execute_result",
          "data": {
            "text/plain": [
              "[{'[\"it\\'s a picture of a kitchen .': 0.042999215},\n",
              " {'\", \"there\\'s a child reaching on [: in] [* s:r] a cookie jar .': 0.036475677},\n",
              " {'\", \\'&um <a male> [//] a boy reaching into a cookie jar .': 0.038155355},\n",
              " {'[+ gram]\\', \"he\\'s falling .': 0.0403398},\n",
              " {'\", \\'the stool is falling .': 0.04757883},\n",
              " {'\\', \"&uh his [//] &uh &uh a [/] a female youngster maybe sister is reaching up and she\\'s got a finger to her lip .': 0.04430737},\n",
              " {'\", \\'the &uh mother is at the sink washing a dish .': 0.04865697},\n",
              " {\"', 'the water is spilling over from the sink .\": 0.052529953},\n",
              " {\"', 'the window is open looking out onto &uh shrubbery and a path to another house .\": 0.047894146},\n",
              " {\"', 'there are two [/] &di &uh <two dishes> [//] three dishes sitting <on the side of the> [//] &uh on the &si &cou sink counter .\": 0.0408146},\n",
              " {\"', 'and there are a number of &uh cabinets &uh in the picture &uh on the sink counter as it stretches around .\": 0.040007737},\n",
              " {'\\', \"and there\\'s the &uh cabinets above where the boy is reaching in .': 0.044228368},\n",
              " {'\", \\'mother is washing a dish .': 0.04708264},\n",
              " {\"', 'she is dressed in a &um oh &d dress and it appears she has an apron and a towel in her hand .\": 0.037249647},\n",
              " {'\\', \"as she\\'s washing she\\'s [//] one of her feet is &uh obviously in the water the other is somewhat obliterated .': 0.040086627},\n",
              " {'\", \\'the children are wearing [//] &um completely outfitted .': 0.03918097},\n",
              " {\"', 'the girl with &uh sandals of some kind and the boy it looks like maybe tennis shoes .\": 0.03480236},\n",
              " {\"', '+< xxx .\": 0.03377358},\n",
              " {\"[+ exc]']\": 0.03398703}]"
            ]
          },
          "metadata": {
            "tags": []
          },
          "execution_count": 102
        }
      ]
    },
    {
      "cell_type": "code",
      "metadata": {
        "id": "njWEjy0fDD9b",
        "colab_type": "code",
        "colab": {}
      },
      "source": [
        "sentence_attention[1][0]"
      ],
      "execution_count": null,
      "outputs": []
    },
    {
      "cell_type": "code",
      "metadata": {
        "id": "pEHwDqjoCnYs",
        "colab_type": "code",
        "colab": {
          "base_uri": "https://localhost:8080/",
          "height": 207
        },
        "outputId": "82b39d82-98d2-4038-a08e-02d827ce2568"
      },
      "source": [
        "sentence_attention[0][0]"
      ],
      "execution_count": null,
      "outputs": [
        {
          "output_type": "execute_result",
          "data": {
            "text/plain": [
              "[{\"['mhm .\": 0.03769996},\n",
              " {\"[+ exc]', '+< alright .\": 0.036536288},\n",
              " {'[+ exc] \\', \"there\\'s &um a young boy that\\'s getting a cookie jar .': 0.037362803},\n",
              " {'\", \"and it [//] he\\'s &uh in bad shape because &uh the thing is fallin(g) over .': 0.032872904},\n",
              " {'\", \"and in the picture the mother is washin(g) dishes and doesn\\'t see it .': 0.035311986},\n",
              " {'\", \\'and so <is the> [//] the water is overflowing in the sink .': 0.047380473},\n",
              " {'\\', \"and the dishes might <get falled [* +ed] over if you don\\'t> [//] fell [//] fall over there [/] there if you don\\'t get it .': 0.036047067},\n",
              " {'\", \"and it [//] there [//] it\\'s a picture of a kitchen window .': 0.046029784},\n",
              " {'\", \\'and the curtains are very &uh distinct .': 0.041872118},\n",
              " {\"', 'but the water is &flow still flowing .']\": 0.05210429}]"
            ]
          },
          "metadata": {
            "tags": []
          },
          "execution_count": 17
        }
      ]
    },
    {
      "cell_type": "code",
      "metadata": {
        "id": "vzoScgPYCBPV",
        "colab_type": "code",
        "colab": {}
      },
      "source": [
        "sentence_attention[2][0]"
      ],
      "execution_count": null,
      "outputs": []
    },
    {
      "cell_type": "code",
      "metadata": {
        "id": "9Sd4Dj0H98KT",
        "colab_type": "code",
        "colab": {}
      },
      "source": [
        "sentence_attention[3][4]"
      ],
      "execution_count": null,
      "outputs": []
    },
    {
      "cell_type": "code",
      "metadata": {
        "id": "4yrKUhDYI_6x",
        "colab_type": "code",
        "colab": {}
      },
      "source": [
        "sentence_attention[192][0]"
      ],
      "execution_count": null,
      "outputs": []
    },
    {
      "cell_type": "code",
      "metadata": {
        "id": "wfHByTWE84mw",
        "colab_type": "code",
        "colab": {}
      },
      "source": [
        "sentence_attention[5][0]"
      ],
      "execution_count": null,
      "outputs": []
    },
    {
      "cell_type": "code",
      "metadata": {
        "id": "RlMC_PMKuDuT",
        "colab_type": "code",
        "colab": {
          "base_uri": "https://localhost:8080/",
          "height": 360
        },
        "outputId": "ea8b80d8-3aac-4142-8c7f-daa6b29d6eab"
      },
      "source": [
        "sentence_attention[11][0]"
      ],
      "execution_count": null,
      "outputs": [
        {
          "output_type": "execute_result",
          "data": {
            "text/plain": [
              "[{'[\"it\\'s a picture of a kitchen .': 0.042999215},\n",
              " {'\", \"there\\'s a child reaching on [: in] [* s:r] a cookie jar .': 0.036475677},\n",
              " {'\", \\'&um <a male> [//] a boy reaching into a cookie jar .': 0.038155355},\n",
              " {'[+ gram]\\', \"he\\'s falling .': 0.0403398},\n",
              " {'\", \\'the stool is falling .': 0.04757883},\n",
              " {'\\', \"&uh his [//] &uh &uh a [/] a female youngster maybe sister is reaching up and she\\'s got a finger to her lip .': 0.04430737},\n",
              " {'\", \\'the &uh mother is at the sink washing a dish .': 0.04865697},\n",
              " {\"', 'the water is spilling over from the sink .\": 0.052529953},\n",
              " {\"', 'the window is open looking out onto &uh shrubbery and a path to another house .\": 0.047894146},\n",
              " {\"', 'there are two [/] &di &uh <two dishes> [//] three dishes sitting <on the side of the> [//] &uh on the &si &cou sink counter .\": 0.0408146},\n",
              " {\"', 'and there are a number of &uh cabinets &uh in the picture &uh on the sink counter as it stretches around .\": 0.040007737},\n",
              " {'\\', \"and there\\'s the &uh cabinets above where the boy is reaching in .': 0.044228368},\n",
              " {'\", \\'mother is washing a dish .': 0.04708264},\n",
              " {\"', 'she is dressed in a &um oh &d dress and it appears she has an apron and a towel in her hand .\": 0.037249647},\n",
              " {'\\', \"as she\\'s washing she\\'s [//] one of her feet is &uh obviously in the water the other is somewhat obliterated .': 0.040086627},\n",
              " {'\", \\'the children are wearing [//] &um completely outfitted .': 0.03918097},\n",
              " {\"', 'the girl with &uh sandals of some kind and the boy it looks like maybe tennis shoes .\": 0.03480236},\n",
              " {\"', '+< xxx .\": 0.03377358},\n",
              " {\"[+ exc]']\": 0.03398703}]"
            ]
          },
          "metadata": {
            "tags": []
          },
          "execution_count": 120
        }
      ]
    },
    {
      "cell_type": "code",
      "metadata": {
        "id": "t3bVA_8M4yZ_",
        "colab_type": "code",
        "colab": {}
      },
      "source": [
        "y_test"
      ],
      "execution_count": null,
      "outputs": []
    },
    {
      "cell_type": "code",
      "metadata": {
        "id": "_RkZ-s62YIzd",
        "colab_type": "code",
        "colab": {}
      },
      "source": [
        "sentence_attention[158][1]"
      ],
      "execution_count": null,
      "outputs": []
    },
    {
      "cell_type": "code",
      "metadata": {
        "id": "yYqHCamXZL_1",
        "colab_type": "code",
        "colab": {}
      },
      "source": [
        "sss=pd.DataFrame(sentence_attention)"
      ],
      "execution_count": null,
      "outputs": []
    },
    {
      "cell_type": "code",
      "metadata": {
        "id": "-l9eRpUCi_pu",
        "colab_type": "code",
        "colab": {}
      },
      "source": [
        "ssss=sss.to_csv('/content/Sentences_selfattention_batch_10_epoch_30.csv')"
      ],
      "execution_count": null,
      "outputs": []
    },
    {
      "cell_type": "code",
      "metadata": {
        "id": "DygXtzFshWVj",
        "colab_type": "code",
        "colab": {
          "base_uri": "https://localhost:8080/",
          "height": 68
        },
        "outputId": "64647ded-7aa9-4600-ad3c-c1cef079b672"
      },
      "source": [
        "f['sent_att']"
      ],
      "execution_count": null,
      "outputs": [
        {
          "output_type": "execute_result",
          "data": {
            "text/plain": [
              "0    [{'['okay .': 0.032152586}, {'[+ exc]', \"well ...\n",
              "1    [{'['<the woman is> [//] the [/] &um the mothe...\n",
              "Name: sent_att, dtype: object"
            ]
          },
          "metadata": {
            "tags": []
          },
          "execution_count": 23
        }
      ]
    },
    {
      "cell_type": "code",
      "metadata": {
        "id": "V7brwuqMhRLA",
        "colab_type": "code",
        "colab": {}
      },
      "source": [
        "#Word Attention in 3 level Hierarchichal Model\n",
        "\n",
        "model=h_model\n",
        "pp2=[]\n",
        "for i in range(99,198):\n",
        "  for j in range(len(X[i])): \n",
        "    if not pd.isnull(reviews[i,j]):\n",
        "      word_att=model.show_word_attention(X[i,j])\n",
        "      sent_tokenized_review=sent_tokenize(reviews[i,j])\n",
        "      fff=model.word_att_to_df(sent_tokenized_review, word_att)\n",
        "      s=len(fff['word_att'])\n",
        "      best=[]\n",
        "      for j in range(s):\n",
        "        dict=fff['word_att'][j]\n",
        "        dict1_cond = {k:v for (k,v) in dict.items() if v>0.03}\n",
        "        #dict1_cond = {k:max(v) for (k,v) in dict.items()}\n",
        "        best.append(dict1_cond)\n",
        "        #best.append(dict)\n",
        "  pp2.append(best)"
      ],
      "execution_count": null,
      "outputs": []
    },
    {
      "cell_type": "code",
      "metadata": {
        "id": "cMKHSKDtvNJD",
        "colab_type": "code",
        "colab": {}
      },
      "source": [
        "ss[0]"
      ],
      "execution_count": null,
      "outputs": []
    },
    {
      "cell_type": "code",
      "metadata": {
        "id": "9CS2mppyeSFk",
        "colab_type": "code",
        "colab": {
          "base_uri": "https://localhost:8080/",
          "height": 34
        },
        "outputId": "986091d0-3467-464a-e513-8463602ac8f2"
      },
      "source": [
        "i=11\n",
        "#j=0\n",
        "doc_att=h_model.show_doc_attention(X)\n",
        "for j in range(5):\n",
        "  if not pd.isnull(reviews[i,j]):\n",
        "    if doc_att[i][j]==max(doc_att[i]):\n",
        "      print(j)\n",
        "      word_att=h_model.show_word_attention(X[i,j])\n",
        "      sent_tokenized_review=sent_tokenize(reviews[i,j])\n",
        "\n",
        "#tokenized_sentences = word_tokenizer.texts_to_sequences(sent_tokenized_review)\n",
        "        "
      ],
      "execution_count": null,
      "outputs": [
        {
          "output_type": "stream",
          "text": [
            "0\n"
          ],
          "name": "stdout"
        }
      ]
    },
    {
      "cell_type": "code",
      "metadata": {
        "id": "H7R3-5WBOZRY",
        "colab_type": "code",
        "colab": {}
      },
      "source": [
        "word_att"
      ],
      "execution_count": null,
      "outputs": []
    },
    {
      "cell_type": "code",
      "metadata": {
        "id": "oWgpKCvvecKx",
        "colab_type": "code",
        "colab": {}
      },
      "source": [
        "import keras\n",
        "words=[]\n",
        "for i in range(len(sent_tokenized_review)):\n",
        "  w=keras.preprocessing.text.text_to_word_sequence(sent_tokenized_review[i])\n",
        "  words.append(w)\n",
        "  "
      ],
      "execution_count": null,
      "outputs": []
    },
    {
      "cell_type": "code",
      "metadata": {
        "id": "5661pzO0PLcn",
        "colab_type": "code",
        "colab": {}
      },
      "source": [
        "attention=[]\n",
        "wordset=[]\n",
        "for i in range(min(25,len(words))):\n",
        "   for j in range(len(words[i])):\n",
        "      if word_att[i][j]<0.003:\n",
        "        attention.append(word_att[i][j]*0)\n",
        "      if 0.003<=word_att[i][j]<0.006:\n",
        "        attention.append(word_att[i][j]*0)\n",
        "      if 0.006<=word_att[i][j]<0.008:\n",
        "        attention.append(word_att[i][j]*10)\n",
        "      if 0.008<=word_att[i][j]<0.009:\n",
        "        attention.append(word_att[i][j]*500)\n",
        "      if 0.009<=word_att[i][j]<0.01:\n",
        "        attention.append(word_att[i][j]*1000)\n",
        "      if 0.01<=word_att[i][j]<0.013:\n",
        "        attention.append(word_att[i][j]*1500)\n",
        "      if 0.013<=word_att[i][j]:\n",
        "        attention.append(word_att[i][j]*6000)\n",
        "      wordset.append(words[i][j])\n",
        "    "
      ],
      "execution_count": null,
      "outputs": []
    },
    {
      "cell_type": "code",
      "metadata": {
        "id": "iEbapgSqwISj",
        "colab_type": "code",
        "colab": {
          "base_uri": "https://localhost:8080/",
          "height": 360
        },
        "outputId": "3cf994df-10d7-41a1-f5f4-55a5b0e960bb"
      },
      "source": [
        "sentence_attention[11][0]"
      ],
      "execution_count": null,
      "outputs": [
        {
          "output_type": "execute_result",
          "data": {
            "text/plain": [
              "[{'[\"it\\'s a picture of a kitchen .': 0.042999215},\n",
              " {'\", \"there\\'s a child reaching on [: in] [* s:r] a cookie jar .': 0.036475677},\n",
              " {'\", \\'&um <a male> [//] a boy reaching into a cookie jar .': 0.038155355},\n",
              " {'[+ gram]\\', \"he\\'s falling .': 0.0403398},\n",
              " {'\", \\'the stool is falling .': 0.04757883},\n",
              " {'\\', \"&uh his [//] &uh &uh a [/] a female youngster maybe sister is reaching up and she\\'s got a finger to her lip .': 0.04430737},\n",
              " {'\", \\'the &uh mother is at the sink washing a dish .': 0.04865697},\n",
              " {\"', 'the water is spilling over from the sink .\": 0.052529953},\n",
              " {\"', 'the window is open looking out onto &uh shrubbery and a path to another house .\": 0.047894146},\n",
              " {\"', 'there are two [/] &di &uh <two dishes> [//] three dishes sitting <on the side of the> [//] &uh on the &si &cou sink counter .\": 0.0408146},\n",
              " {\"', 'and there are a number of &uh cabinets &uh in the picture &uh on the sink counter as it stretches around .\": 0.040007737},\n",
              " {'\\', \"and there\\'s the &uh cabinets above where the boy is reaching in .': 0.044228368},\n",
              " {'\", \\'mother is washing a dish .': 0.04708264},\n",
              " {\"', 'she is dressed in a &um oh &d dress and it appears she has an apron and a towel in her hand .\": 0.037249647},\n",
              " {'\\', \"as she\\'s washing she\\'s [//] one of her feet is &uh obviously in the water the other is somewhat obliterated .': 0.040086627},\n",
              " {'\", \\'the children are wearing [//] &um completely outfitted .': 0.03918097},\n",
              " {\"', 'the girl with &uh sandals of some kind and the boy it looks like maybe tennis shoes .\": 0.03480236},\n",
              " {\"', '+< xxx .\": 0.03377358},\n",
              " {\"[+ exc]']\": 0.03398703}]"
            ]
          },
          "metadata": {
            "tags": []
          },
          "execution_count": 24
        }
      ]
    },
    {
      "cell_type": "code",
      "metadata": {
        "id": "P0ORqjwe_JDL",
        "colab_type": "code",
        "colab": {}
      },
      "source": [
        "attention\n"
      ],
      "execution_count": null,
      "outputs": []
    },
    {
      "cell_type": "code",
      "metadata": {
        "id": "AZqdeCqL4X0V",
        "colab_type": "code",
        "colab": {
          "base_uri": "https://localhost:8080/",
          "height": 34
        },
        "outputId": "e3e8ab8e-e57f-4f39-ae8c-9528b77e1f38"
      },
      "source": [
        "np.sum(attention)"
      ],
      "execution_count": null,
      "outputs": [
        {
          "output_type": "execute_result",
          "data": {
            "text/plain": [
              "2.4048467"
            ]
          },
          "metadata": {
            "tags": []
          },
          "execution_count": 20
        }
      ]
    },
    {
      "cell_type": "code",
      "metadata": {
        "id": "jy-ksZxaVfgF",
        "colab_type": "code",
        "colab": {}
      },
      "source": [
        "ww=[]\n",
        "for i in range(198):\n",
        "  for j in range(5):\n",
        "    if not pd.isnull(reviews[i,j]):\n",
        "      sent_tokenized_review=sent_tokenize(reviews[i,j])\n",
        "      for ii in range(len(sent_tokenized_review)):\n",
        "        w=keras.preprocessing.text.text_to_word_sequence(sent_tokenized_review[ii])\n",
        "        ww.append(len(w))\n",
        "    "
      ],
      "execution_count": null,
      "outputs": []
    },
    {
      "cell_type": "code",
      "metadata": {
        "id": "VfFexKaaP6ju",
        "colab_type": "code",
        "colab": {
          "base_uri": "https://localhost:8080/",
          "height": 34
        },
        "outputId": "52f96402-f69f-4736-e3bd-b52cb141826c"
      },
      "source": [
        "ww"
      ],
      "execution_count": null,
      "outputs": [
        {
          "output_type": "execute_result",
          "data": {
            "text/plain": [
              "[]"
            ]
          },
          "metadata": {
            "tags": []
          },
          "execution_count": 150
        }
      ]
    },
    {
      "cell_type": "code",
      "metadata": {
        "id": "Qc-mjXL4L1FR",
        "colab_type": "code",
        "colab": {
          "base_uri": "https://localhost:8080/",
          "height": 34
        },
        "outputId": "ad101c14-b008-453e-ca31-4afb3e45d551"
      },
      "source": [
        "cd /content/Text-Attention-Heatmap-Visualization\n"
      ],
      "execution_count": null,
      "outputs": [
        {
          "output_type": "stream",
          "text": [
            "/content/Text-Attention-Heatmap-Visualization\n"
          ],
          "name": "stdout"
        }
      ]
    },
    {
      "cell_type": "code",
      "metadata": {
        "id": "7kz2sg_OMFXT",
        "colab_type": "code",
        "colab": {}
      },
      "source": [
        "from text_attention import generate"
      ],
      "execution_count": null,
      "outputs": []
    },
    {
      "cell_type": "code",
      "metadata": {
        "id": "vT1ZcGWMCjw2",
        "colab_type": "code",
        "colab": {}
      },
      "source": [
        "from text_attention import generate\n",
        "color='red'\n",
        "generate(wordset, attention, \"sample.tex\", color)"
      ],
      "execution_count": null,
      "outputs": []
    },
    {
      "cell_type": "code",
      "metadata": {
        "id": "G7R4tdOIeZXY",
        "colab_type": "code",
        "colab": {}
      },
      "source": [
        "word_AD=pd.DataFrame(pp)\n",
        "word_AD.to_csv('/content/new_word_AD_just_selfattention.csv')"
      ],
      "execution_count": null,
      "outputs": []
    },
    {
      "cell_type": "code",
      "metadata": {
        "id": "--U_qhJzAbyu",
        "colab_type": "code",
        "colab": {}
      },
      "source": [
        "word_H=pd.DataFrame(pp2)\n",
        "word_H.to_csv('/content/new_word_H_just_selfattention.csv')"
      ],
      "execution_count": null,
      "outputs": []
    },
    {
      "cell_type": "code",
      "metadata": {
        "id": "KPWPC817C6JP",
        "colab_type": "code",
        "colab": {}
      },
      "source": [
        "AD_word_list=[]\n",
        "for i in range(99):\n",
        "  for k in pp[i]:\n",
        "    for key,value in k.items():\n",
        "      AD_word_list.append(key)\n",
        "    "
      ],
      "execution_count": null,
      "outputs": []
    },
    {
      "cell_type": "code",
      "metadata": {
        "id": "yauX-N2e5YRU",
        "colab_type": "code",
        "colab": {}
      },
      "source": [
        "pp"
      ],
      "execution_count": null,
      "outputs": []
    },
    {
      "cell_type": "code",
      "metadata": {
        "id": "-Sv7h1m8-3d9",
        "colab_type": "code",
        "colab": {}
      },
      "source": [
        "import heapq\n",
        "result = {}\n",
        "for i in range(99):\n",
        "  for k in pp[i]:\n",
        "    result.update(k)\n",
        "   "
      ],
      "execution_count": null,
      "outputs": []
    },
    {
      "cell_type": "code",
      "metadata": {
        "id": "f0mZNnTvG9NE",
        "colab_type": "code",
        "colab": {}
      },
      "source": [
        "sorted(result.values())"
      ],
      "execution_count": null,
      "outputs": []
    },
    {
      "cell_type": "code",
      "metadata": {
        "id": "q5nc0UHkBulN",
        "colab_type": "code",
        "colab": {}
      },
      "source": [
        "heapq.nlargest(50, result, key=result.get)"
      ],
      "execution_count": null,
      "outputs": []
    },
    {
      "cell_type": "code",
      "metadata": {
        "id": "zXLd_HCp4-gX",
        "colab_type": "code",
        "colab": {}
      },
      "source": [
        "result1 = {}\n",
        "for i in range(99):\n",
        "  for k in pp2[i]:\n",
        "    result1.update(k)\n",
        "   "
      ],
      "execution_count": null,
      "outputs": []
    },
    {
      "cell_type": "code",
      "metadata": {
        "id": "05oGthOkE-ZD",
        "colab_type": "code",
        "colab": {}
      },
      "source": [
        "heapq.nlargest(50, result1, key=result1.get)"
      ],
      "execution_count": null,
      "outputs": []
    },
    {
      "cell_type": "code",
      "metadata": {
        "id": "A47LFrYVFCAX",
        "colab_type": "code",
        "colab": {}
      },
      "source": [
        "H_word_list=[]\n",
        "for i in range(99):\n",
        "  for k in pp2[i]:\n",
        "    for key,value in k.items():\n",
        "      H_word_list.append(key)"
      ],
      "execution_count": null,
      "outputs": []
    },
    {
      "cell_type": "code",
      "metadata": {
        "id": "HzquURCez0id",
        "colab_type": "code",
        "colab": {
          "base_uri": "https://localhost:8080/",
          "height": 490
        },
        "outputId": "3e22e5e0-0869-4e92-f1c2-a0c526c20888"
      },
      "source": [
        "import matplotlib.pyplot as plt\n",
        "import seaborn as sns\n",
        "from wordcloud import WordCloud \n",
        "\n",
        "\n",
        "\n",
        "#convert list to string and generate\n",
        "unique_string=(\" \").join(AD_word_list)\n",
        "wordcloud = WordCloud(background_color='white',width = 1000, height = 500).generate(unique_string)\n",
        "plt.figure(figsize=(15,8))\n",
        "plt.imshow(wordcloud)\n",
        "plt.axis(\"off\")\n",
        "plt.savefig(\"/content/AD_word_cloud\"+\".png\", bbox_inches='tight')\n",
        "plt.show()\n",
        "plt.close()"
      ],
      "execution_count": null,
      "outputs": [
        {
          "output_type": "display_data",
          "data": {
            "image/png": "[encoded data removed]",
            "text/plain": [
              "<Figure size 1080x576 with 1 Axes>"
            ]
          },
          "metadata": {
            "tags": []
          }
        }
      ]
    },
    {
      "cell_type": "code",
      "metadata": {
        "id": "j3KUectYLaKL",
        "colab_type": "code",
        "colab": {
          "base_uri": "https://localhost:8080/",
          "height": 490
        },
        "outputId": "2ee02f89-628a-4538-cad2-1fa7ccddaf77"
      },
      "source": [
        "import matplotlib.pyplot as plt\n",
        "import seaborn as sns\n",
        "from wordcloud import WordCloud \n",
        "\n",
        "#convert list to string and generate\n",
        "unique_string=(\" \").join(H_word_list)\n",
        "wordcloud = WordCloud(background_color='white',width = 1000, height = 500).generate(unique_string)\n",
        "plt.figure(figsize=(15,8))\n",
        "plt.imshow(wordcloud)\n",
        "plt.axis(\"off\")\n",
        "plt.savefig(\"/content/H_word_cloud\"+\".png\", bbox_inches='tight')\n",
        "plt.show()\n",
        "plt.close()"
      ],
      "execution_count": null,
      "outputs": [
        {
          "output_type": "display_data",
          "data": {
            "image/png": "[encoded data removed]",
            "text/plain": [
              "<Figure size 1080x576 with 1 Axes>"
            ]
          },
          "metadata": {
            "tags": []
          }
        }
      ]
    },
    {
      "cell_type": "code",
      "metadata": {
        "id": "MZbWMa0gFSi1",
        "colab_type": "code",
        "colab": {
          "base_uri": "https://localhost:8080/",
          "height": 490
        },
        "outputId": "806591cb-7b16-40b0-a8c1-0ec486ffac7f"
      },
      "source": [
        "import matplotlib.pyplot as plt\n",
        "import seaborn as sns\n",
        "from wordcloud import WordCloud \n",
        "\n",
        "#convert list to string and generate\n",
        "unique_string=(\" \").join(H_word_list)\n",
        "wordcloud = WordCloud(background_color='white',width = 1000, height = 500).generate(unique_string)\n",
        "plt.figure(figsize=(15,8))\n",
        "plt.imshow(wordcloud)\n",
        "plt.axis(\"off\")\n",
        "plt.savefig(\"/content/H_word_cloud\"+\".png\", bbox_inches='tight')\n",
        "plt.show()\n",
        "plt.close()"
      ],
      "execution_count": null,
      "outputs": [
        {
          "output_type": "display_data",
          "data": {
            "image/png": "[encoded data removed]",
            "text/plain": [
              "<Figure size 1080x576 with 1 Axes>"
            ]
          },
          "metadata": {
            "tags": []
          }
        }
      ]
    },
    {
      "cell_type": "code",
      "metadata": {
        "id": "c2ko3sOVGqzv",
        "colab_type": "code",
        "colab": {}
      },
      "source": [
        "import matplotlib.pyplot as plt\n",
        "import seaborn as sns\n",
        "from wordcloud import WordCloud \n",
        "\n",
        "\n",
        "\n",
        "#convert list to string and generate\n",
        "unique_string=(\" \").join(AD_word_list)\n",
        "wordcloud = WordCloud(background_color='white',width = 1000, height = 500).generate(unique_string)\n",
        "plt.figure(figsize=(15,8))\n",
        "plt.imshow(wordcloud)\n",
        "plt.axis(\"off\")\n",
        "plt.savefig(\"/content/AD2_word_cloud\"+\".png\", bbox_inches='tight')\n",
        "plt.show()\n",
        "plt.close()"
      ],
      "execution_count": null,
      "outputs": []
    },
    {
      "cell_type": "code",
      "metadata": {
        "id": "1pPOOCg14xs6",
        "colab_type": "code",
        "colab": {}
      },
      "source": [
        "import matplotlib.pyplot as plt\n",
        "import seaborn as sns\n",
        "from wordcloud import WordCloud \n",
        "\n",
        "\n",
        "\n",
        "#convert list to string and generate\n",
        "unique_string=(\" \").join(AD_word_list)\n",
        "wordcloud = WordCloud(background_color='white',width = 1000, height = 500).generate(unique_string)\n",
        "plt.figure(figsize=(15,8))\n",
        "plt.imshow(wordcloud)\n",
        "plt.axis(\"off\")\n",
        "plt.savefig(\"/content/AD2_word_cloud\"+\".png\", bbox_inches='tight')\n",
        "plt.show()\n",
        "plt.close()"
      ],
      "execution_count": null,
      "outputs": []
    },
    {
      "cell_type": "code",
      "metadata": {
        "id": "icOdYs6us07x",
        "colab_type": "code",
        "colab": {}
      },
      "source": [
        "import matplotlib.pyplot as plt\n",
        "import seaborn as sns\n",
        "from wordcloud import WordCloud \n",
        "\n",
        "\n",
        "\n",
        "#convert list to string and generate\n",
        "unique_string=(\" \").join(AD_word_list)\n",
        "wordcloud = WordCloud(background_color='white',width = 1000, height = 500).generate(unique_string)\n",
        "plt.figure(figsize=(15,8))\n",
        "plt.imshow(wordcloud)\n",
        "plt.axis(\"off\")\n",
        "plt.savefig(\"/content/AD2_word_cloud\"+\".png\", bbox_inches='tight')\n",
        "plt.show()\n",
        "plt.close()"
      ],
      "execution_count": null,
      "outputs": []
    },
    {
      "cell_type": "code",
      "metadata": {
        "id": "VaHfvRO--4jc",
        "colab_type": "code",
        "colab": {}
      },
      "source": [
        "import matplotlib.pyplot as plt\n",
        "import seaborn as sns\n",
        "from wordcloud import WordCloud \n",
        "\n",
        "\n",
        "\n",
        "#convert list to string and generate\n",
        "unique_string=(\" \").join(AD_word_list)\n",
        "wordcloud = WordCloud(background_color='white',width = 1000, height = 500).generate(unique_string)\n",
        "plt.figure(figsize=(15,8))\n",
        "plt.imshow(wordcloud)\n",
        "plt.axis(\"off\")\n",
        "plt.savefig(\"/content/AD2_word_cloud\"+\".png\", bbox_inches='tight')\n",
        "plt.show()\n",
        "plt.close()"
      ],
      "execution_count": null,
      "outputs": []
    },
    {
      "cell_type": "code",
      "metadata": {
        "id": "61yblY9uGT-x",
        "colab_type": "code",
        "colab": {}
      },
      "source": [
        "import matplotlib.pyplot as plt\n",
        "import seaborn as sns\n",
        "from wordcloud import WordCloud \n",
        "\n",
        "\n",
        "\n",
        "#convert list to string and generate\n",
        "unique_string=(\" \").join(AD_word_list)\n",
        "wordcloud = WordCloud(background_color='white',width = 1000, height = 500).generate(unique_string)\n",
        "plt.figure(figsize=(15,8))\n",
        "plt.imshow(wordcloud)\n",
        "plt.axis(\"off\")\n",
        "plt.savefig(\"/content/AD2_word_cloud\"+\".png\", bbox_inches='tight')\n",
        "plt.show()\n",
        "plt.close()"
      ],
      "execution_count": null,
      "outputs": []
    },
    {
      "cell_type": "code",
      "metadata": {
        "id": "ryqJHo67pE5g",
        "colab_type": "code",
        "colab": {}
      },
      "source": [
        "#doc_att_to_df(reviews, doc_att) function works well here\n",
        "doc_att=model.show_doc_attention(X)\n",
        "#f=model.doc_att_to_df(reviews, doc_att)\n",
        " \n",
        "  \n",
        "  \n",
        "docs_atts = []\n",
        "for review, atts in zip(reviews, doc_att):\n",
        "    doc_list = []\n",
        "    for doc, att in zip(review, atts):\n",
        "        doc_list.append({doc: att})\n",
        "    docs_atts.append(doc_list)\n",
        "    \n",
        "b=pd.DataFrame([(x, y) for x, y in zip(docs_atts,reviews)],\n",
        "                            columns=[\"doc_att\", \"transcript\"])"
      ],
      "execution_count": null,
      "outputs": []
    },
    {
      "cell_type": "code",
      "metadata": {
        "id": "Lx-d5Y0gHPku",
        "colab_type": "code",
        "colab": {}
      },
      "source": [
        "# Run this cell to mount your Google Drive.\n",
        "from google.colab import drive\n",
        "drive.mount('/content/drive')"
      ],
      "execution_count": null,
      "outputs": []
    },
    {
      "cell_type": "code",
      "metadata": {
        "id": "cpbKEMC8GpHt",
        "colab_type": "code",
        "colab": {}
      },
      "source": [
        ""
      ],
      "execution_count": null,
      "outputs": []
    },
    {
      "cell_type": "code",
      "metadata": {
        "id": "8Rg-1mAKpIw7",
        "colab_type": "code",
        "colab": {
          "base_uri": "https://localhost:8080/",
          "height": 34
        },
        "outputId": "b2f8655e-af48-4a22-e4b5-29e9cc251e84"
      },
      "source": [
        "b[\"doc_att\"][0][4]"
      ],
      "execution_count": null,
      "outputs": [
        {
          "output_type": "execute_result",
          "data": {
            "text/plain": [
              "{nan: 0.14067493}"
            ]
          },
          "metadata": {
            "tags": []
          },
          "execution_count": 26
        }
      ]
    },
    {
      "cell_type": "code",
      "metadata": {
        "id": "jkn4rlbbrLwt",
        "colab_type": "code",
        "colab": {
          "base_uri": "https://localhost:8080/",
          "height": 136
        },
        "outputId": "5c8414d2-f1dd-4edb-8477-0249b7fcb77a"
      },
      "source": [
        "X[0,4]"
      ],
      "execution_count": null,
      "outputs": [
        {
          "output_type": "execute_result",
          "data": {
            "text/plain": [
              "array([[0, 0, 0, ..., 0, 0, 0],\n",
              "       [0, 0, 0, ..., 0, 0, 0],\n",
              "       [0, 0, 0, ..., 0, 0, 0],\n",
              "       ...,\n",
              "       [0, 0, 0, ..., 0, 0, 0],\n",
              "       [0, 0, 0, ..., 0, 0, 0],\n",
              "       [0, 0, 0, ..., 0, 0, 0]], dtype=int32)"
            ]
          },
          "metadata": {
            "tags": []
          },
          "execution_count": 27
        }
      ]
    },
    {
      "cell_type": "code",
      "metadata": {
        "id": "m10TMDokpBIg",
        "colab_type": "code",
        "colab": {
          "base_uri": "https://localhost:8080/",
          "height": 164
        },
        "outputId": "d51638ed-11a0-4507-c4ff-2d462f2e7145"
      },
      "source": [
        "f=model.doc_att_to_df(reviews, doc_att)"
      ],
      "execution_count": null,
      "outputs": [
        {
          "output_type": "error",
          "ename": "TypeError",
          "evalue": "ignored",
          "traceback": [
            "\u001b[0;31m---------------------------------------------------------------------------\u001b[0m",
            "\u001b[0;31mTypeError\u001b[0m                                 Traceback (most recent call last)",
            "\u001b[0;32m<ipython-input-16-8727609a025b>\u001b[0m in \u001b[0;36m<module>\u001b[0;34m()\u001b[0m\n\u001b[0;32m----> 1\u001b[0;31m \u001b[0mf\u001b[0m\u001b[0;34m=\u001b[0m\u001b[0mmodel\u001b[0m\u001b[0;34m.\u001b[0m\u001b[0mdoc_att_to_df\u001b[0m\u001b[0;34m(\u001b[0m\u001b[0mreviews\u001b[0m\u001b[0;34m,\u001b[0m \u001b[0mdoc_att\u001b[0m\u001b[0;34m)\u001b[0m\u001b[0;34m\u001b[0m\u001b[0;34m\u001b[0m\u001b[0m\n\u001b[0m",
            "\u001b[0;31mTypeError\u001b[0m: doc_att_to_df() takes 2 positional arguments but 3 were given"
          ]
        }
      ]
    },
    {
      "cell_type": "code",
      "metadata": {
        "id": "owDq3MTilVpb",
        "colab_type": "code",
        "colab": {}
      },
      "source": [
        "h=zip(reviews, doc_att)"
      ],
      "execution_count": null,
      "outputs": []
    },
    {
      "cell_type": "code",
      "metadata": {
        "id": "SyXH8FR4lYck",
        "colab_type": "code",
        "colab": {}
      },
      "source": [
        "for x, y in zip(reviews, doc_att):\n",
        "  print(y)"
      ],
      "execution_count": null,
      "outputs": []
    },
    {
      "cell_type": "code",
      "metadata": {
        "id": "e8IV9yzHtO06",
        "colab_type": "code",
        "colab": {}
      },
      "source": [
        "ppp=[]\n",
        "sent_att=han_model.show_sent_attention(X)\n",
        "ff=han_model.sent_att_to_df(sent_tokenized_reviews, sent_att)\n",
        "for i in range(len(ff)):  \n",
        "  m=ff['sent_att'][i]\n",
        "  s=len(m)\n",
        "  best_sent=[]\n",
        "  for j in range(s):\n",
        "    dict_sent=m[j]\n",
        "    dict1_sent_cond = {k:v for (k,v) in dict_sent.items() if v>0.05}\n",
        "    best_sent.append(dict1_sent_cond)\n",
        "  ppp.append(best_sent)"
      ],
      "execution_count": null,
      "outputs": []
    },
    {
      "cell_type": "code",
      "metadata": {
        "id": "5_D2vmEPr057",
        "colab_type": "code",
        "colab": {}
      },
      "source": [
        "import csv\n",
        "with open('/content/sentences.csv', 'w', encoding='utf8', newline='') as output_file:\n",
        "  writer = csv.writer(output_file)\n",
        "  for i in range(len(ppp)):\n",
        "      for d in ppp[i]:\n",
        "        writer.writerows(d.items())"
      ],
      "execution_count": null,
      "outputs": []
    },
    {
      "cell_type": "markdown",
      "metadata": {
        "id": "Vxqd8wl5wm7t",
        "colab_type": "text"
      },
      "source": [
        ""
      ]
    },
    {
      "cell_type": "code",
      "metadata": {
        "id": "zYLELrF-8gIk",
        "colab_type": "code",
        "colab": {
          "base_uri": "https://localhost:8080/",
          "height": 241
        },
        "outputId": "2cc4567c-4abd-4168-8d3a-4341ab36a16a"
      },
      "source": [
        "ff['sent_att'][0]"
      ],
      "execution_count": null,
      "outputs": [
        {
          "output_type": "execute_result",
          "data": {
            "text/plain": [
              "[{'mhm .': 0.07009367},\n",
              " {'theres a young boy &uh going in a cookie jar .': 0.06934017},\n",
              " {'and theres a [/] &lit a girl [//] young girl .': 0.068205275},\n",
              " {'and im sayin(g) hes a boy (be)cause  [//] &hard its hardly [//] hard to tell anymore .': 0.066409886},\n",
              " {'&uh and hes [/] hes in the &c &t cookie jar .': 0.06655046},\n",
              " {'and theres a &s stool that he is on and it already is starting to fall over .': 0.06707223},\n",
              " {'and so is the water in the sink &uh is &ev overflowing in the sink .': 0.06499306},\n",
              " {'[+ gram]       \\t\\t&hm i [/] i dont know about the [//] this hickey here i [//] whether thats more than what i said .': 0.06253441},\n",
              " {'[+ es]       \\t\\t&uh like  [//] &uh the [/] the mother is near the girl .': 0.06341243},\n",
              " {'and shes [//] &uh &w &uh &h she has [/] &uh has +/.': 0.06158267},\n",
              " {'oh &uh i [/] i cant think of the +...       \\t\\tshe has &uh the shes tryin(g) to wipe [/] &uh wipe dishes .': 0.063897125},\n",
              " {'oh &a and stop the water from going out .': 0.069147855}]"
            ]
          },
          "metadata": {
            "tags": []
          },
          "execution_count": 120
        }
      ]
    },
    {
      "cell_type": "code",
      "metadata": {
        "id": "6F7lbBm7IFCV",
        "colab_type": "code",
        "colab": {}
      },
      "source": [
        "def best(s):\n",
        "  best=[]\n",
        "  for i in range(s):\n",
        "    dict=fff['word_att'][i]\n",
        "    dict1_cond = {k:v for (k,v) in dict.items() if v>0.05}\n",
        "    best.append(dict1_cond)\n",
        "  return(best)\n",
        "  "
      ],
      "execution_count": null,
      "outputs": []
    },
    {
      "cell_type": "code",
      "metadata": {
        "id": "XipbSRTuFyr0",
        "colab_type": "code",
        "colab": {}
      },
      "source": [
        "pp=[]\n",
        "for i in range(len(X)):\n",
        "  word_att=han_model.show_word_attention(X[i])\n",
        "  sent_tokenized_review=sent_tokenize(reviews[i])\n",
        "  fff=han_model.word_att_to_df(sent_tokenized_review, word_att)\n",
        "  s=len(fff['word_att'])\n",
        "  best=[]\n",
        "  for j in range(s):\n",
        "    dict=fff['word_att'][j]\n",
        "    dict1_cond = {k:v for (k,v) in dict.items() if v>0.1}\n",
        "    best.append(dict1_cond)  \n",
        "  pp.append(best)\n",
        "  "
      ],
      "execution_count": null,
      "outputs": []
    },
    {
      "cell_type": "code",
      "metadata": {
        "id": "uZISaS75zkkv",
        "colab_type": "code",
        "colab": {}
      },
      "source": [
        "import csv\n",
        "with open('/content/words_34_loss.csv', 'w', encoding='utf8', newline='') as output_file2:\n",
        "  writer = csv.writer(output_file2)\n",
        "  for i in range(len(pp)):\n",
        "      for d in pp[i]:\n",
        "        writer.writerows(d.items())"
      ],
      "execution_count": null,
      "outputs": []
    },
    {
      "cell_type": "code",
      "metadata": {
        "id": "GbhH1--I8dsQ",
        "colab_type": "code",
        "colab": {
          "base_uri": "https://localhost:8080/",
          "height": 289
        },
        "outputId": "fa7bd2cf-a2f5-4273-b013-efc1e5f3d0b9"
      },
      "source": [
        "ropp=[]\n",
        "for i in range(len(X)):\n",
        "  word_att=han_model.show_word_attention(X[i])\n",
        "  sent_tokenized_review=sent_tokenize(reviews[i])\n",
        "  fff=han_model.word_att_to_df(sent_tokenized_review, word_att)\n",
        "  s=len(fff['word_att'])\n",
        "  p=best(s)  \n",
        "  pp.append(p)"
      ],
      "execution_count": null,
      "outputs": [
        {
          "output_type": "execute_result",
          "data": {
            "text/plain": [
              "0     {'[//]': 0.009576102, 'the': 0.012396692, '[/]...\n",
              "1     {'and': 0.013599173, '[//]': 0.006044331, 'the...\n",
              "2     {'and': 0.014781531, '&um': 0.010422792, 'the'...\n",
              "3     {'and': 0.012727314, 'the': 0.019267486, 'girl...\n",
              "4     {'+': 0.010792856, 'be': 0.015355665, 'quiet':...\n",
              "5     {'and': 0.009878057, 'shes': 0.014713961, 'put...\n",
              "6     {'and': 0.01232259, '&um': 0.016946793, '(.)':...\n",
              "7     {'the': 0.012095548, 'window': 0.011825117, 'i...\n",
              "8     {'&hm': 0.008840613, '[x': 0.009673381, ']': 0...\n",
              "9                                  {'(.)': 0.010205833}\n",
              "10    {'shes': 0.016656881, 'doesnt': 0.02068565, '&...\n",
              "11    {'oh': 0.012966979, 'whats': 0.008705806, '[/]...\n",
              "12    {'[+': 0.009339924, 'exc]': 0.009637584, 'you'...\n",
              "13    {'[+': 0.010792555, 'exc]': 0.014020711, '&=in...\n",
              "14    {'and': 0.013823127, '&uh': 0.018706853, '(..)...\n",
              "Name: word_att, dtype: object"
            ]
          },
          "metadata": {
            "tags": []
          },
          "execution_count": 53
        }
      ]
    },
    {
      "cell_type": "code",
      "metadata": {
        "id": "sYJbPYR3Cs5-",
        "colab_type": "code",
        "colab": {}
      },
      "source": [
        "s=len(fff['word_att'])"
      ],
      "execution_count": null,
      "outputs": []
    },
    {
      "cell_type": "code",
      "metadata": {
        "id": "mxIvX1ZkC6ze",
        "colab_type": "code",
        "colab": {
          "base_uri": "https://localhost:8080/",
          "height": 289
        },
        "outputId": "82b7c2fb-d459-470a-8cbe-1834305a41f4"
      },
      "source": [
        "fff['word_att']"
      ],
      "execution_count": null,
      "outputs": [
        {
          "output_type": "execute_result",
          "data": {
            "text/plain": [
              "0     {'the': 0.0014939226, 'little': 0.0018655589, ...\n",
              "1     {'+': 0.0018560443, 'dont': 0.001523802, 'tell...\n",
              "2     {'shes': 0.0015977765, 'reaching': 0.001540410...\n",
              "3     {'the': 0.0040582404, 'boys': 0.0011084798, 'g...\n",
              "4     {'the': 0.007874616, 'lid': 0.001550833, 'fell...\n",
              "5     {'the': 0.0010331507, 'stools': 0.0010965014, ...\n",
              "6        {'its': 0.0015171305, 'slanted': 0.0060882745}\n",
              "7     {'the': 0.0010271764, 'ladys': 0.0011405487, '...\n",
              "8     {'waters': 0.00095810986, 'running': 0.0009816...\n",
              "9     {'faucets': 0.0033912226, 'are': 0.0019351074,...\n",
              "10    {'&um': 0.0010503697, 'dishes': 0.0012058289, ...\n",
              "11    {'the': 0.0012898118, 'windows': 0.008619143, ...\n",
              "12    {'waters': 0.0012797619, 'goin(g)': 0.00216195...\n",
              "13    {'the': 0.0010397776, 'lady': 0.0009727547, 'h...\n",
              "14    {'looks': 0.0010389292, 'like': 0.0010088837, ...\n",
              "Name: word_att, dtype: object"
            ]
          },
          "metadata": {
            "tags": []
          },
          "execution_count": 20
        }
      ]
    },
    {
      "cell_type": "code",
      "metadata": {
        "id": "y1i7qk60Cyxt",
        "colab_type": "code",
        "colab": {}
      },
      "source": [
        "\n",
        "  "
      ],
      "execution_count": null,
      "outputs": []
    },
    {
      "cell_type": "code",
      "metadata": {
        "id": "3CaYyBC2D3fY",
        "colab_type": "code",
        "colab": {
          "base_uri": "https://localhost:8080/",
          "height": 221
        },
        "outputId": "4fa66eef-eb6e-4e29-f4ba-38e6d1bbeacc"
      },
      "source": [
        "best(s)"
      ],
      "execution_count": null,
      "outputs": [
        {
          "output_type": "execute_result",
          "data": {
            "text/plain": [
              "[{},\n",
              " {'is': 0.2390077},\n",
              " {},\n",
              " {},\n",
              " {},\n",
              " {},\n",
              " {'[/]': 0.17062724, 'exc]': 0.1885049, 'im': 0.16309081},\n",
              " {},\n",
              " {},\n",
              " {},\n",
              " {},\n",
              " {'exc]': 0.17771411}]"
            ]
          },
          "metadata": {
            "tags": []
          },
          "execution_count": 40
        }
      ]
    },
    {
      "cell_type": "code",
      "metadata": {
        "id": "udPS5E-6-lKH",
        "colab_type": "code",
        "colab": {}
      },
      "source": [
        "v=fff['word_att'][2].values()"
      ],
      "execution_count": null,
      "outputs": []
    },
    {
      "cell_type": "code",
      "metadata": {
        "id": "rqPJaH7R_7Uy",
        "colab_type": "code",
        "colab": {}
      },
      "source": [
        "dict=fff['word_att'][2]"
      ],
      "execution_count": null,
      "outputs": []
    },
    {
      "cell_type": "code",
      "metadata": {
        "id": "ME82wt5FALIo",
        "colab_type": "code",
        "colab": {
          "base_uri": "https://localhost:8080/",
          "height": 34
        },
        "outputId": "4bd5536a-4e94-48fc-928f-b048298ddc4b"
      },
      "source": [
        "dict[list(dict)[1]]"
      ],
      "execution_count": null,
      "outputs": [
        {
          "output_type": "execute_result",
          "data": {
            "text/plain": [
              "0.0013756149"
            ]
          },
          "metadata": {
            "tags": []
          },
          "execution_count": 205
        }
      ]
    },
    {
      "cell_type": "markdown",
      "metadata": {
        "id": "zm1vzPA4A0m0",
        "colab_type": "text"
      },
      "source": [
        "Pooyan's Work"
      ]
    },
    {
      "cell_type": "code",
      "metadata": {
        "id": "zbR-uf557M0t",
        "colab_type": "code",
        "colab": {}
      },
      "source": [
        "from keras import Sequential\n",
        "from keras.utils import Sequence\n",
        "from keras.layers import LSTM, Dense, Masking\n",
        "import numpy as np\n",
        "\n",
        "\n",
        "class MyBatchGenerator(Sequence):\n",
        "    'Generates data for Keras'\n",
        "    def __init__(self, X, y, batch_size=1, shuffle=True):\n",
        "        'Initialization'\n",
        "        self.X = X\n",
        "        self.y = y\n",
        "        self.batch_size = batch_size\n",
        "        self.shuffle = shuffle\n",
        "        self.on_epoch_end()\n",
        "\n",
        "    def __len__(self):\n",
        "        'Denotes the number of batches per epoch'\n",
        "        return int(np.floor(len(self.y)/self.batch_size))\n",
        "\n",
        "    def __getitem__(self, index):\n",
        "        return self.__data_generation(index)\n",
        "\n",
        "    def on_epoch_end(self):\n",
        "        'Shuffles indexes after each epoch'\n",
        "        self.indexes = np.arange(len(self.y))\n",
        "        if self.shuffle == True:\n",
        "            np.random.shuffle(self.indexes)\n",
        "\n",
        "    def __data_generation(self, index):\n",
        "        Xb = np.empty((self.batch_size, *X[index].shape))\n",
        "        yb = np.empty((self.batch_size, *y[index].shape))\n",
        "        # naively use the same sample over and over again\n",
        "        for s in range(0, self.batch_size):\n",
        "            Xb[s] = X[index]\n",
        "            yb[s] = y[index]\n",
        "        return Xb, yb\n",
        "\n",
        "\n",
        "# Parameters\n",
        "N = 1000\n",
        "halfN = int(N/2)\n",
        "dimension = 2\n",
        "lstm_units = 3\n",
        "\n",
        "# Data\n",
        "np.random.seed(123)  # to generate the same numbers\n",
        "# create sequence lengths between 1 to 10\n",
        "seq_lens = np.random.randint(1, 10, halfN)\n",
        "X_zero = np.array([np.random.normal(0, 1, size=(seq_len, dimension)) for seq_len in seq_lens])\n",
        "y_zero = np.zeros((halfN, 1))\n",
        "X_one = np.array([np.random.normal(1, 1, size=(seq_len, dimension)) for seq_len in seq_lens])\n",
        "y_one = np.ones((halfN, 1))\n",
        "p = np.random.permutation(N)  # to shuffle zero and one classes\n",
        "X = np.concatenate((X_zero, X_one))[p]\n",
        "y = np.concatenate((y_zero, y_one))[p]\n",
        "\n",
        "# Batch = 1\n",
        "model = Sequential()\n",
        "model.add(LSTM(lstm_units, input_shape=(None, dimension)))\n",
        "model.add(Dense(1, activation='sigmoid'))\n",
        "model.compile(loss='binary_crossentropy', optimizer='rmsprop', metrics=['accuracy'])\n",
        "print(model.summary())\n",
        "model.fit_generator(MyBatchGenerator(X, y, batch_size=1), epochs=2)\n",
        "\n",
        "# Padding and Masking\n",
        "special_value = -10.0\n",
        "max_seq_len = max(seq_lens)\n",
        "Xpad = np.full((N, max_seq_len, dimension), fill_value=special_value)\n",
        "for s, x in enumerate(X):\n",
        "    seq_len = x.shape[0]\n",
        "    Xpad[s, 0:seq_len, :] = x\n",
        "model2 = Sequential()\n",
        "model2.add(Masking(mask_value=special_value, input_shape=(max_seq_len, dimension)))\n",
        "model2.add(LSTM(lstm_units))\n",
        "model2.add(Dense(1, activation='sigmoid'))\n",
        "model2.compile(loss='binary_crossentropy', optimizer='rmsprop', metrics=['accuracy'])\n",
        "print(model2.summary())\n",
        "model2.fit(Xpad, y, epochs=50, batch_size=32)"
      ],
      "execution_count": null,
      "outputs": []
    },
    {
      "cell_type": "code",
      "metadata": {
        "id": "tw9cUc105MTo",
        "colab_type": "code",
        "colab": {}
      },
      "source": [
        "Xpad"
      ],
      "execution_count": null,
      "outputs": []
    },
    {
      "cell_type": "code",
      "metadata": {
        "id": "ugpj-z7C5atj",
        "colab_type": "code",
        "colab": {
          "base_uri": "https://localhost:8080/",
          "height": 34
        },
        "outputId": "7a5d7afb-a629-42b4-c922-5c74de57320e"
      },
      "source": [
        "X.shape"
      ],
      "execution_count": null,
      "outputs": [
        {
          "output_type": "execute_result",
          "data": {
            "text/plain": [
              "(1000,)"
            ]
          },
          "metadata": {
            "tags": []
          },
          "execution_count": 15
        }
      ]
    },
    {
      "cell_type": "code",
      "metadata": {
        "id": "sheV8p4c5sbB",
        "colab_type": "code",
        "colab": {
          "base_uri": "https://localhost:8080/",
          "height": 153
        },
        "outputId": "0163185f-dac1-4073-c6d4-bb1123d732c7"
      },
      "source": [
        "X[999]"
      ],
      "execution_count": null,
      "outputs": [
        {
          "output_type": "execute_result",
          "data": {
            "text/plain": [
              "array([[ 0.15211279,  0.97930251],\n",
              "       [ 2.68267849, -0.43800584],\n",
              "       [ 0.99125466,  1.277006  ],\n",
              "       [-0.97839058,  2.64066103],\n",
              "       [ 0.72703579,  2.72098833],\n",
              "       [-0.43870651,  0.18449066],\n",
              "       [ 1.24366478,  0.71601204],\n",
              "       [ 1.39604073,  1.82440503]])"
            ]
          },
          "metadata": {
            "tags": []
          },
          "execution_count": 17
        }
      ]
    },
    {
      "cell_type": "code",
      "metadata": {
        "id": "9VLrgS4a5ycV",
        "colab_type": "code",
        "colab": {}
      },
      "source": [
        "import pandas as pd\n",
        "#doc=pd.read_csv(\"/content/NEW_doc_attention_bach_10_epoch_20.csv\")\n",
        "#sent=pd.read_csv(\"/content/NEW_sentence_attention_batch_10_epoch_20.csv\")\n",
        "doc=pd.read_csv(\"/content/selfattention_bach_10_epoch_30.csv\")\n",
        "sent=pd.read_csv(\"/content/Sentences_selfattention_batch_10_epoch_30.csv\")"
      ],
      "execution_count": null,
      "outputs": []
    },
    {
      "cell_type": "code",
      "metadata": {
        "id": "98RfGx8wsizJ",
        "colab_type": "code",
        "colab": {}
      },
      "source": [
        "doc_1= doc.drop(doc.columns[[0]], axis=1)"
      ],
      "execution_count": null,
      "outputs": []
    },
    {
      "cell_type": "code",
      "metadata": {
        "id": "4h1bxEsmw8Kp",
        "colab_type": "code",
        "colab": {}
      },
      "source": [
        "sent_1=sent.drop(sent.columns[[0]], axis=1)"
      ],
      "execution_count": null,
      "outputs": []
    },
    {
      "cell_type": "code",
      "metadata": {
        "id": "FSPiL2zXpvS1",
        "colab_type": "code",
        "colab": {}
      },
      "source": [
        "id=doc_1.idxmax(axis = 1, skipna = True) "
      ],
      "execution_count": null,
      "outputs": []
    },
    {
      "cell_type": "code",
      "metadata": {
        "id": "KSC_Oc_kY-VG",
        "colab_type": "code",
        "colab": {}
      },
      "source": [
        "score=doc_1.max(axis = 1, skipna = True)"
      ],
      "execution_count": null,
      "outputs": []
    },
    {
      "cell_type": "code",
      "metadata": {
        "id": "wMBRUv1zZF4Y",
        "colab_type": "code",
        "colab": {}
      },
      "source": [
        "score"
      ],
      "execution_count": null,
      "outputs": []
    },
    {
      "cell_type": "code",
      "metadata": {
        "id": "vt1FnB6IrnhA",
        "colab_type": "code",
        "colab": {}
      },
      "source": [
        "import ast\n",
        "L=[]\n",
        "for i in range(len(id)):\n",
        "   k=ast.literal_eval(sent_1.iloc[0][int(id[i])])\n",
        "  \n",
        "                       "
      ],
      "execution_count": null,
      "outputs": []
    },
    {
      "cell_type": "code",
      "metadata": {
        "id": "e2qqtmGBTfbE",
        "colab_type": "code",
        "colab": {}
      },
      "source": [
        "dicts = {}\n",
        "keys = range(4)\n",
        "values = [\"Hi\", \"I\", \"am\", \"John\"]\n",
        "for i in keys:\n",
        "        dicts[i] = values[i]"
      ],
      "execution_count": null,
      "outputs": []
    },
    {
      "cell_type": "code",
      "metadata": {
        "id": "JQGJAfFBMkAe",
        "colab_type": "code",
        "colab": {}
      },
      "source": [
        "import ast\n",
        "L=[]\n",
        "V=[]\n",
        "dict_new={}\n",
        "for i in range(99,198):\n",
        "  if not pd.isnull(sent_1.iloc[i][int(id[i])]):\n",
        "    k=ast.literal_eval(sent_1.iloc[i][int(id[i])])\n",
        "    for dd in k:\n",
        "      for key, value in dd.items():\n",
        "        if value==max([max(d.values()) for d in k]):\n",
        "          #print(key)\n",
        "          dict_new[key]=[value,score[i]]\n",
        "          L.append(key)\n",
        "          V.append(value)\n",
        "    "
      ],
      "execution_count": null,
      "outputs": []
    },
    {
      "cell_type": "code",
      "metadata": {
        "id": "Yenzj4OiUw6a",
        "colab_type": "code",
        "colab": {}
      },
      "source": [
        "import heapq\n",
        "from operator import itemgetter\n",
        "top_sentences = heapq.nlargest(50, dict_new.items(), key=itemgetter(1))"
      ],
      "execution_count": null,
      "outputs": []
    },
    {
      "cell_type": "code",
      "metadata": {
        "id": "HQDRPJzKVmmM",
        "colab_type": "code",
        "colab": {}
      },
      "source": [
        "top_sentences"
      ],
      "execution_count": null,
      "outputs": []
    },
    {
      "cell_type": "code",
      "metadata": {
        "id": "25tE7ME9Xe7N",
        "colab_type": "code",
        "colab": {}
      },
      "source": [
        "r=pd.DataFrame(top_sentences)\n",
        "r.to_csv('/content/top-50-sent_H.csv')"
      ],
      "execution_count": null,
      "outputs": []
    },
    {
      "cell_type": "code",
      "metadata": {
        "id": "RZheyUaCXXvs",
        "colab_type": "code",
        "colab": {}
      },
      "source": [
        "ll=pd.DataFrame(L)\n",
        "ll.to_csv('/content/New.csv')"
      ],
      "execution_count": null,
      "outputs": []
    },
    {
      "cell_type": "code",
      "metadata": {
        "id": "wpYwee9oSG7H",
        "colab_type": "code",
        "colab": {
          "base_uri": "https://localhost:8080/",
          "height": 394
        },
        "outputId": "472f36bd-c40c-43f1-8aca-abe763e71bf1"
      },
      "source": [
        "ast.literal_eval(sent_1.iloc[1][int(id[1])])"
      ],
      "execution_count": null,
      "outputs": [
        {
          "output_type": "execute_result",
          "data": {
            "text/plain": [
              "[{'[\"here\\'s a cookie jar .': 0.047855776},\n",
              " {'\", \\'and the lid is off the cookie jar .': 0.058725305},\n",
              " {\"', 'the boy is about to come down on the floor .\": 0.15704773},\n",
              " {'\\', \\'and the girl +...\\', \"I don\\'t know that much about girls .': 0.05057688},\n",
              " {'\", \\'but anyway &uh the housewife is in the kitchen .': 0.04559091},\n",
              " {\"', 'and the [/] (.)\": 0.057068847},\n",
              " {'the sink is overflowing .': 0.10628169},\n",
              " {\"', 'and (..) the girl may be saying say \\x92¢\\\\x80\\\\x9chahaha, I told you so\\x92¢\\\\x80\\\\x9d or something like that .\": 0.035675008},\n",
              " {\"', 'and &uh I guess this must be the wife although it might not be because maybe that was an apron and &um maybe this was the &um +...', '<there is> [//] (.)\": 0.02043632},\n",
              " {'this [/] this should be a window .': 0.029528748},\n",
              " {\"', 'there .\": 0.028783243},\n",
              " {\"[+ exc]', 'the upper one is there .\": 0.042531315},\n",
              " {\"', '&uh it &um has a pathway .\": 0.02829235},\n",
              " {'\\', \"&uh we don\\'t know where the pathway is going to because we can\\'t see it down below .': 0.025557835},\n",
              " {'\", \"and looks like there\\'s some flowers in the bushes or something like that .': 0.03538625},\n",
              " {'\", \\'and here are some draperies .': 0.03283076},\n",
              " {\"', 'well this one in [//] on this side is .\": 0.030752352},\n",
              " {'\\', \"I don\\'t see it, the other side, but I &su suspect it [/] it would be the same thing there .': 0.020253059},\n",
              " {'\", \\'and &uh the [//] I guess I said that the [/] the water was coming down on the floor .': 0.018828679},\n",
              " {'\\', \"and &uh I don\\'t know the +...\", \\'here are two cup [/] cup [//] cups for coffee or something like that .': 0.018054938},\n",
              " {\"', 'and +...', '+< and +...']\": 0.018842805}]"
            ]
          },
          "metadata": {
            "tags": []
          },
          "execution_count": 130
        }
      ]
    },
    {
      "cell_type": "code",
      "metadata": {
        "id": "uGRitK8fQc3R",
        "colab_type": "code",
        "colab": {
          "base_uri": "https://localhost:8080/",
          "height": 34
        },
        "outputId": "15b964f8-306e-4020-d909-2f54f254c625"
      },
      "source": [
        "int(max([max(d.values()) for d in k]))"
      ],
      "execution_count": null,
      "outputs": [
        {
          "output_type": "execute_result",
          "data": {
            "text/plain": [
              "0"
            ]
          },
          "metadata": {
            "tags": []
          },
          "execution_count": 110
        }
      ]
    },
    {
      "cell_type": "code",
      "metadata": {
        "id": "sSnyZz32PtOW",
        "colab_type": "code",
        "colab": {}
      },
      "source": [
        "for i in range(len(L)):\n",
        "  for d in k:\n",
        "    for key, value in d.items():\n",
        "      if value==int(L[i]):\n",
        "        print(key)"
      ],
      "execution_count": null,
      "outputs": []
    },
    {
      "cell_type": "code",
      "metadata": {
        "id": "h-yWr2bdM1et",
        "colab_type": "code",
        "colab": {
          "base_uri": "https://localhost:8080/",
          "height": 34
        },
        "outputId": "e5d94a4d-6847-426b-f816-0d0e908a7c7c"
      },
      "source": [
        "sent_1.iloc[0][int(id[i])]"
      ],
      "execution_count": null,
      "outputs": [
        {
          "output_type": "execute_result",
          "data": {
            "text/plain": [
              "nan"
            ]
          },
          "metadata": {
            "tags": []
          },
          "execution_count": 98
        }
      ]
    },
    {
      "cell_type": "code",
      "metadata": {
        "id": "yymd_InCvmy6",
        "colab_type": "code",
        "colab": {
          "base_uri": "https://localhost:8080/",
          "height": 54
        },
        "outputId": "eded9460-0f07-44f0-e0aa-42cc2c44685d"
      },
      "source": [
        "import numpy as np\n",
        "sent_1.iloc[0][int(id[0])]\n"
      ],
      "execution_count": null,
      "outputs": [
        {
          "output_type": "execute_result",
          "data": {
            "text/plain": [
              "'[{\"[\\'mhm .\": 0.026100932}, {\"[+ exc]\\', \\'+< alright .\": 0.021291649}, {\\'[+ exc] \\\\\\', \"there\\\\\\'s &um a young boy that\\\\\\'s getting a cookie jar .\\': 0.018816004}, {\\'\", \"and it [//] he\\\\\\'s &uh in bad shape because &uh the thing is fallin(g) over .\\': 0.01568947}, {\\'\", \"and in the picture the mother is washin(g) dishes and doesn\\\\\\'t see it .\\': 0.021563172}, {\\'\", \\\\\\'and so <is the> [//] the water is overflowing in the sink .\\': 0.14822887}, {\\'\\\\\\', \"and the dishes might <get falled [* +ed] over if you don\\\\\\'t> [//] fell [//] fall over there [/] there if you don\\\\\\'t get it .\\': 0.037967518}, {\\'\", \"and it [//] there [//] it\\\\\\'s a picture of a kitchen window .\\': 0.11562494}, {\\'\", \\\\\\'and the curtains are very &uh distinct .\\': 0.050454184}, {\"\\', \\'but the water is &flow still flowing .\\']\": 0.1806674}]'"
            ]
          },
          "metadata": {
            "tags": []
          },
          "execution_count": 45
        }
      ]
    },
    {
      "cell_type": "code",
      "metadata": {
        "id": "03rp3G2mK_h2",
        "colab_type": "code",
        "colab": {}
      },
      "source": [
        "kk=max([max(d.values()) for d in k])"
      ],
      "execution_count": null,
      "outputs": []
    },
    {
      "cell_type": "code",
      "metadata": {
        "id": "byzBkPJCMH58",
        "colab_type": "code",
        "colab": {
          "base_uri": "https://localhost:8080/",
          "height": 34
        },
        "outputId": "b2209b2a-1258-451c-e2d7-0172adb60525"
      },
      "source": [
        "id[0]"
      ],
      "execution_count": null,
      "outputs": [
        {
          "output_type": "execute_result",
          "data": {
            "text/plain": [
              "'0'"
            ]
          },
          "metadata": {
            "tags": []
          },
          "execution_count": 90
        }
      ]
    },
    {
      "cell_type": "code",
      "metadata": {
        "id": "9iqiHQYTLVI4",
        "colab_type": "code",
        "colab": {
          "base_uri": "https://localhost:8080/",
          "height": 34
        },
        "outputId": "a3dfbc3a-7eaa-4d8b-c1c0-d67ebbdb229a"
      },
      "source": [
        "kk"
      ],
      "execution_count": null,
      "outputs": [
        {
          "output_type": "execute_result",
          "data": {
            "text/plain": [
              "0.1806674"
            ]
          },
          "metadata": {
            "tags": []
          },
          "execution_count": 83
        }
      ]
    },
    {
      "cell_type": "code",
      "metadata": {
        "id": "4etaEAfkzgSD",
        "colab_type": "code",
        "colab": {}
      },
      "source": [
        "import ast\n",
        "k=ast.literal_eval(sent_1.iloc[0][int(id[0])])"
      ],
      "execution_count": null,
      "outputs": []
    },
    {
      "cell_type": "code",
      "metadata": {
        "id": "twdalvNbvteW",
        "colab_type": "code",
        "colab": {
          "base_uri": "https://localhost:8080/",
          "height": 34
        },
        "outputId": "97131514-c244-4bb1-b62e-c1ebb5b73f09"
      },
      "source": [
        "k[0].values()"
      ],
      "execution_count": null,
      "outputs": [
        {
          "output_type": "execute_result",
          "data": {
            "text/plain": [
              "dict_values([0.026100932])"
            ]
          },
          "metadata": {
            "tags": []
          },
          "execution_count": 51
        }
      ]
    },
    {
      "cell_type": "code",
      "metadata": {
        "id": "nRBg8t-IwHEx",
        "colab_type": "code",
        "colab": {
          "base_uri": "https://localhost:8080/",
          "height": 34
        },
        "outputId": "72673e5d-db6a-48cd-ecb3-6605dc7e49a9"
      },
      "source": [
        "sent.iloc[0][0]"
      ],
      "execution_count": null,
      "outputs": [
        {
          "output_type": "execute_result",
          "data": {
            "text/plain": [
              "'sent_att'"
            ]
          },
          "metadata": {
            "tags": []
          },
          "execution_count": 35
        }
      ]
    },
    {
      "cell_type": "code",
      "metadata": {
        "id": "VhcX3ksCwj7L",
        "colab_type": "code",
        "colab": {
          "base_uri": "https://localhost:8080/",
          "height": 184
        },
        "outputId": "bc748e7e-5258-4092-d133-2b33b750c667"
      },
      "source": [
        "max(part.values() for part in k)"
      ],
      "execution_count": null,
      "outputs": [
        {
          "output_type": "error",
          "ename": "TypeError",
          "evalue": "ignored",
          "traceback": [
            "\u001b[0;31m---------------------------------------------------------------------------\u001b[0m",
            "\u001b[0;31mTypeError\u001b[0m                                 Traceback (most recent call last)",
            "\u001b[0;32m<ipython-input-58-91912984414b>\u001b[0m in \u001b[0;36m<module>\u001b[0;34m()\u001b[0m\n\u001b[0;32m----> 1\u001b[0;31m \u001b[0mmax\u001b[0m\u001b[0;34m(\u001b[0m\u001b[0mpart\u001b[0m\u001b[0;34m.\u001b[0m\u001b[0mvalues\u001b[0m\u001b[0;34m(\u001b[0m\u001b[0;34m)\u001b[0m \u001b[0;32mfor\u001b[0m \u001b[0mpart\u001b[0m \u001b[0;32min\u001b[0m \u001b[0mk\u001b[0m\u001b[0;34m)\u001b[0m\u001b[0;34m\u001b[0m\u001b[0;34m\u001b[0m\u001b[0m\n\u001b[0m",
            "\u001b[0;31mTypeError\u001b[0m: '>' not supported between instances of 'dict_values' and 'dict_values'"
          ]
        }
      ]
    },
    {
      "cell_type": "code",
      "metadata": {
        "id": "SSCckE7Z0bYY",
        "colab_type": "code",
        "colab": {
          "base_uri": "https://localhost:8080/",
          "height": 34
        },
        "outputId": "2733cf12-1683-4d9b-d531-f3a90674a81b"
      },
      "source": [
        "k[2].values()"
      ],
      "execution_count": null,
      "outputs": [
        {
          "output_type": "execute_result",
          "data": {
            "text/plain": [
              "dict_values([0.018816004])"
            ]
          },
          "metadata": {
            "tags": []
          },
          "execution_count": 57
        }
      ]
    },
    {
      "cell_type": "code",
      "metadata": {
        "id": "2bradSYY27sg",
        "colab_type": "code",
        "colab": {}
      },
      "source": [
        "kk=max([max(d.values()) for d in k])"
      ],
      "execution_count": null,
      "outputs": []
    },
    {
      "cell_type": "code",
      "metadata": {
        "id": "-G8_yTCf4juW",
        "colab_type": "code",
        "colab": {
          "base_uri": "https://localhost:8080/",
          "height": 187
        },
        "outputId": "699ddcd1-6120-46cf-e75c-fa89c04b2329"
      },
      "source": [
        "[d.values() for d in k]"
      ],
      "execution_count": null,
      "outputs": [
        {
          "output_type": "execute_result",
          "data": {
            "text/plain": [
              "[dict_values([0.026100932]),\n",
              " dict_values([0.021291649]),\n",
              " dict_values([0.018816004]),\n",
              " dict_values([0.01568947]),\n",
              " dict_values([0.021563172]),\n",
              " dict_values([0.14822887]),\n",
              " dict_values([0.037967518]),\n",
              " dict_values([0.11562494]),\n",
              " dict_values([0.050454184]),\n",
              " dict_values([0.1806674])]"
            ]
          },
          "metadata": {
            "tags": []
          },
          "execution_count": 75
        }
      ]
    },
    {
      "cell_type": "code",
      "metadata": {
        "id": "3SCRv7t658n6",
        "colab_type": "code",
        "colab": {
          "base_uri": "https://localhost:8080/",
          "height": 54
        },
        "outputId": "6cead615-b5a4-4085-d3cd-12efba1d9798"
      },
      "source": [
        "k[4]"
      ],
      "execution_count": null,
      "outputs": [
        {
          "output_type": "execute_result",
          "data": {
            "text/plain": [
              "{'\", \"and in the picture the mother is washin(g) dishes and doesn\\'t see it .': 0.021563172}"
            ]
          },
          "metadata": {
            "tags": []
          },
          "execution_count": 73
        }
      ]
    },
    {
      "cell_type": "code",
      "metadata": {
        "id": "-UbZ0-Wu6FoM",
        "colab_type": "code",
        "colab": {}
      },
      "source": [
        ""
      ],
      "execution_count": null,
      "outputs": []
    },
    {
      "cell_type": "code",
      "metadata": {
        "id": "X-5IJoKzARNo",
        "colab_type": "code",
        "colab": {
          "base_uri": "https://localhost:8080/",
          "height": 34
        },
        "outputId": "6fd5c4ad-7982-4a89-ce17-38ae609039a1"
      },
      "source": [
        "L[0]"
      ],
      "execution_count": null,
      "outputs": [
        {
          "output_type": "execute_result",
          "data": {
            "text/plain": [
              "0.1806674"
            ]
          },
          "metadata": {
            "tags": []
          },
          "execution_count": 101
        }
      ]
    },
    {
      "cell_type": "code",
      "metadata": {
        "id": "lfPFDfJVPZwp",
        "colab_type": "code",
        "colab": {}
      },
      "source": [
        "sent = '''the USS Ronald Reagan - an aircraft carrier docked in Japan - during his tour of the region, vowing to \"defeat any attack and meet any use of conventional or nuclear weapons with an overwhelming and effective American response\".\n",
        "North Korea and the US have ratcheted up tensions in recent weeks and the movement of the strike group had raised the question of a pre-emptive strike by the US.\n",
        "On Wednesday, Mr Pence described the country as the \"most dangerous and urgent threat to peace and security\" in the Asia-Pacific.'''"
      ],
      "execution_count": null,
      "outputs": []
    },
    {
      "cell_type": "code",
      "metadata": {
        "id": "VzO-b0MjUldX",
        "colab_type": "code",
        "colab": {
          "base_uri": "https://localhost:8080/",
          "height": 34
        },
        "outputId": "6c30e2df-96ab-4373-caa2-6aebba1f444a"
      },
      "source": [
        "cd /content/Text-Attention-Heatmap-Visualization"
      ],
      "execution_count": null,
      "outputs": [
        {
          "output_type": "stream",
          "text": [
            "/content/Text-Attention-Heatmap-Visualization\n"
          ],
          "name": "stdout"
        }
      ]
    },
    {
      "cell_type": "code",
      "metadata": {
        "id": "YINXfLm4UPpw",
        "colab_type": "code",
        "colab": {}
      },
      "source": [
        "words = sent.split()\n",
        "word_num = len(words)\n",
        "attention = [(x+1.)/word_num*100 for x in range(word_num)]\n",
        "import random\n",
        "random.seed(42)\n",
        "random.shuffle(attention)\n",
        "color = 'red'\n"
      ],
      "execution_count": null,
      "outputs": []
    },
    {
      "cell_type": "code",
      "metadata": {
        "id": "WQbiDQVYUW_u",
        "colab_type": "code",
        "colab": {}
      },
      "source": [
        "from text_attention import generate\n",
        "generate(words, attention, \"sample.tex\", color)"
      ],
      "execution_count": null,
      "outputs": []
    },
    {
      "cell_type": "code",
      "metadata": {
        "id": "OKNOreb3U4lb",
        "colab_type": "code",
        "colab": {
          "base_uri": "https://localhost:8080/",
          "height": 136
        },
        "outputId": "cf588aa4-71c5-46e7-d8f8-53285257fbe2"
      },
      "source": [
        "#Data Augmentation\n",
        "!git clone https://github.com/jasonwei20/eda_nlp.git"
      ],
      "execution_count": null,
      "outputs": [
        {
          "output_type": "stream",
          "text": [
            "Cloning into 'eda_nlp'...\n",
            "remote: Enumerating objects: 30, done.\u001b[K\n",
            "remote: Counting objects: 100% (30/30), done.\u001b[K\n",
            "remote: Compressing objects: 100% (30/30), done.\u001b[K\n",
            "remote: Total 379 (delta 18), reused 1 (delta 0), pack-reused 349\u001b[K\n",
            "Receiving objects: 100% (379/379), 20.41 MiB | 24.30 MiB/s, done.\n",
            "Resolving deltas: 100% (181/181), done.\n"
          ],
          "name": "stdout"
        }
      ]
    },
    {
      "cell_type": "code",
      "metadata": {
        "id": "uxYEuHjg-21E",
        "colab_type": "code",
        "colab": {
          "base_uri": "https://localhost:8080/",
          "height": 68
        },
        "outputId": "f242b55c-00bf-4a48-df14-ef6cf0846368"
      },
      "source": [
        "import nltk\n",
        "nltk.download('wordnet')"
      ],
      "execution_count": null,
      "outputs": [
        {
          "output_type": "stream",
          "text": [
            "[nltk_data] Downloading package wordnet to /root/nltk_data...\n",
            "[nltk_data]   Unzipping corpora/wordnet.zip.\n"
          ],
          "name": "stdout"
        },
        {
          "output_type": "execute_result",
          "data": {
            "text/plain": [
              "True"
            ]
          },
          "metadata": {
            "tags": []
          },
          "execution_count": 2
        }
      ]
    },
    {
      "cell_type": "code",
      "metadata": {
        "id": "7MbPeokpI8CV",
        "colab_type": "code",
        "colab": {}
      },
      "source": [
        "import pandas as pd\n",
        "dataframe = pd.read_csv(\"/content/Revised_Dementia.csv\",delimiter=\"\\t\", encoding='latin-1')\n",
        "df=dataframe.fillna('ENGINE')\n",
        "#dataframe.to_csv(\"New_Control_2.csv\", encoding='latin-1', index=False)"
      ],
      "execution_count": null,
      "outputs": []
    },
    {
      "cell_type": "code",
      "metadata": {
        "id": "lK-qlV_Vfs3X",
        "colab_type": "code",
        "colab": {}
      },
      "source": [
        "Review1_Dementia=pd.concat([df['sentiment'], df['review1']], axis=1)\n",
        "Review2_Dementia=pd.concat([df['sentiment'], df['review2']], axis=1)\n",
        "Review3_Dementia=pd.concat([df['sentiment'], df['review3']], axis=1)\n",
        "Review4_Dementia=pd.concat([df['sentiment'], df['review4']], axis=1)\n",
        "Review5_Dementia=pd.concat([df['sentiment'], df['review5']], axis=1)"
      ],
      "execution_count": null,
      "outputs": []
    },
    {
      "cell_type": "code",
      "metadata": {
        "id": "AOSlktzAhvFT",
        "colab_type": "code",
        "colab": {}
      },
      "source": [
        "Review1_Dementia.to_csv('/content/review1_Dementia.txt',sep='\\t', encoding='latin1',index=False,header=False)\n",
        "Review2_Dementia.to_csv('/content/review2_Dementia.txt', sep='\\t',encoding='latin1',index=False,header=False)\n",
        "Review3_Dementia.to_csv('/content/review3_Dementia.txt', sep='\\t',encoding='latin1',index=False,header=False)\n",
        "Review4_Dementia.to_csv('/content/review4_Dementia.txt', sep='\\t',encoding='latin1',index=False,header=False)\n",
        "Review5_Dementia.to_csv('/content/review5_Dementia.txt', sep='\\t',encoding='latin1',index=False,header=False)"
      ],
      "execution_count": null,
      "outputs": []
    },
    {
      "cell_type": "code",
      "metadata": {
        "id": "_BaCuWCCi_TS",
        "colab_type": "code",
        "colab": {}
      },
      "source": [
        "!python /content/eda_nlp/code/augment.py --input=/content/review1_Dementia.txt --output=/content/review1_Dementia_augmented.txt --num_aug=1 --alpha=0.1\n",
        "!python /content/eda_nlp/code/augment.py --input=/content/review2_Dementia.txt --output=/content/review2_Dementia_augmented.txt --num_aug=1 --alpha=0.1\n",
        "!python /content/eda_nlp/code/augment.py --input=/content/review3_Dementia.txt --output=/content/review3_Dementia_augmented.txt --num_aug=1 --alpha=0.1\n",
        "!python /content/eda_nlp/code/augment.py --input=/content/review4_Dementia.txt --output=/content/review4_Dementia_augmented.txt --num_aug=1 --alpha=0.1\n",
        "!python /content/eda_nlp/code/augment.py --input=/content/review5_Dementia.txt --output=/content/review5_Dementia_augmented.txt --num_aug=1 --alpha=0.1"
      ],
      "execution_count": null,
      "outputs": []
    },
    {
      "cell_type": "code",
      "metadata": {
        "id": "FQfH8K5vvWk-",
        "colab_type": "code",
        "colab": {}
      },
      "source": [
        "import pandas as pd\n",
        "dataframe = pd.read_csv(\"/content/Revised_Control.csv\",delimiter=\",\", encoding='latin-1')\n",
        "df=dataframe.fillna('ENGINE')\n",
        "#dataframe.to_csv(\"New_Control_2.csv\", encoding='latin-1', index=False)"
      ],
      "execution_count": null,
      "outputs": []
    },
    {
      "cell_type": "code",
      "metadata": {
        "id": "7f6-aL21xCDd",
        "colab_type": "code",
        "colab": {}
      },
      "source": [
        "dataframe"
      ],
      "execution_count": null,
      "outputs": []
    },
    {
      "cell_type": "code",
      "metadata": {
        "id": "W3F2SMt1wJw1",
        "colab_type": "code",
        "colab": {}
      },
      "source": [
        "Review1_Control=pd.concat([df['sentiment'], df['review1']], axis=1)\n",
        "Review2_Control=pd.concat([df['sentiment'], df['review2']], axis=1)\n",
        "Review3_Control=pd.concat([df['sentiment'], df['review3']], axis=1)\n",
        "Review4_Control=pd.concat([df['sentiment'], df['review4']], axis=1)\n",
        "Review5_Control=pd.concat([df['sentiment'], df['review5']], axis=1)"
      ],
      "execution_count": null,
      "outputs": []
    },
    {
      "cell_type": "code",
      "metadata": {
        "id": "6rOZO39_wItW",
        "colab_type": "code",
        "colab": {}
      },
      "source": [
        "Review1_Control.to_csv('/content/review1_Control.txt',sep='\\t', encoding='latin1',index=False,header=False)\n",
        "Review2_Control.to_csv('/content/review2_Control.txt', sep='\\t',encoding='latin1',index=False,header=False)\n",
        "Review3_Control.to_csv('/content/review3_Control.txt', sep='\\t',encoding='latin1',index=False,header=False)\n",
        "Review4_Control.to_csv('/content/review4_Control.txt', sep='\\t',encoding='latin1',index=False,header=False)\n",
        "Review5_Control.to_csv('/content/review5_Control.txt', sep='\\t',encoding='latin1',index=False,header=False)"
      ],
      "execution_count": null,
      "outputs": []
    },
    {
      "cell_type": "code",
      "metadata": {
        "id": "df7CKYBGyFUb",
        "colab_type": "code",
        "colab": {}
      },
      "source": [
        "Review1_Control"
      ],
      "execution_count": null,
      "outputs": []
    },
    {
      "cell_type": "code",
      "metadata": {
        "id": "iX98pi3DwO47",
        "colab_type": "code",
        "colab": {
          "base_uri": "https://localhost:8080/",
          "height": 122
        },
        "outputId": "32301b52-b1ae-47f5-d73a-4f0d8a339ba6"
      },
      "source": [
        "!python /content/eda_nlp/code/augment.py --input=/content/review1_Control.txt --output=/content/review1_Control_augmented.txt --num_aug=3 --alpha=0.1\n",
        "!python /content/eda_nlp/code/augment.py --input=/content/review2_Control.txt --output=/content/review2_Control_augmented.txt --num_aug=3 --alpha=0.1\n",
        "!python /content/eda_nlp/code/augment.py --input=/content/review3_Control.txt --output=/content/review3_Control_augmented.txt --num_aug=3 --alpha=0.1\n",
        "!python /content/eda_nlp/code/augment.py --input=/content/review4_Control.txt --output=/content/review4_Control_augmented.txt --num_aug=3 --alpha=0.1\n",
        "!python /content/eda_nlp/code/augment.py --input=/content/review5_Control.txt --output=/content/review5_Control_augmented.txt --num_aug=3 --alpha=0.1"
      ],
      "execution_count": null,
      "outputs": [
        {
          "output_type": "stream",
          "text": [
            "generated augmented sentences with eda for /content/review1_Control.txt to /content/review1_Control_augmented.txt with num_aug=3\n",
            "generated augmented sentences with eda for /content/review2_Control.txt to /content/review2_Control_augmented.txt with num_aug=3\n",
            "generated augmented sentences with eda for /content/review3_Control.txt to /content/review3_Control_augmented.txt with num_aug=3\n",
            "generated augmented sentences with eda for /content/review4_Control.txt to /content/review4_Control_augmented.txt with num_aug=3\n",
            "generated augmented sentences with eda for /content/review5_Control.txt to /content/review5_Control_augmented.txt with num_aug=3\n"
          ],
          "name": "stdout"
        }
      ]
    },
    {
      "cell_type": "code",
      "metadata": {
        "id": "kD3n1BWKy4Wx",
        "colab_type": "code",
        "colab": {}
      },
      "source": [
        "review1_Control_augmented=pd.read_csv('/content/review1_Control_augmented.txt', delimiter='\\t',usecols=[1])\n",
        "review2_Control_augmented=pd.read_csv('/content/review2_Control_augmented.txt', delimiter='\\t',usecols=[1])\n",
        "review3_Control_augmented=pd.read_csv('/content/review3_Control_augmented.txt', delimiter='\\t',usecols=[1])\n",
        "review4_Control_augmented=pd.read_csv('/content/review4_Control_augmented.txt', delimiter='\\t',usecols=[1])\n",
        "review5_Control_augmented=pd.read_csv('/content/review5_Control_augmented.txt', delimiter='\\t',usecols=[1])"
      ],
      "execution_count": null,
      "outputs": []
    },
    {
      "cell_type": "code",
      "metadata": {
        "id": "hrtoA97H2gnP",
        "colab_type": "code",
        "colab": {}
      },
      "source": [
        "review1_Dementia_augmented=pd.read_csv('/content/review1_Dementia_augmented.txt', delimiter='\\t',usecols=[1])\n",
        "review2_Dementia_augmented=pd.read_csv('/content/review2_Dementia_augmented.txt', delimiter='\\t',usecols=[1])\n",
        "review3_Dementia_augmented=pd.read_csv('/content/review3_Dementia_augmented.txt', delimiter='\\t',usecols=[1])\n",
        "review4_Dementia_augmented=pd.read_csv('/content/review4_Dementia_augmented.txt', delimiter='\\t',usecols=[1])\n",
        "review5_Dementia_augmented=pd.read_csv('/content/review5_Dementia_augmented.txt', delimiter='\\t',usecols=[1])"
      ],
      "execution_count": null,
      "outputs": []
    },
    {
      "cell_type": "code",
      "metadata": {
        "id": "xqI_6Bg22uKw",
        "colab_type": "code",
        "colab": {}
      },
      "source": [
        "Control_augmented=\n",
        "Dementia_augmented="
      ],
      "execution_count": null,
      "outputs": []
    },
    {
      "cell_type": "code",
      "metadata": {
        "id": "eY63UmMl3LOf",
        "colab_type": "code",
        "colab": {}
      },
      "source": [
        "import numpy as np\n",
        "Control_augmented=pd.concat([review1_Control_augmented, review2_Control_augmented, review3_Control_augmented,review4_Control_augmented, review5_Control_augmented], axis= 1)\n",
        "#Dementia_augmented=pd.concat([review1_Dementia_augmented, review2_Dementia_augmented, review3_Dementia_augmented,review4_Dementia_augmented, review5_Dementia_augmented], axis= 1)"
      ],
      "execution_count": null,
      "outputs": []
    },
    {
      "cell_type": "code",
      "metadata": {
        "id": "M3zbN-gm5G0T",
        "colab_type": "code",
        "colab": {}
      },
      "source": [
        "Control_augmented.to_csv('/content/Control_augmented.csv')\n",
        "#Dementia_augmented.to_csv('/content/Dementia_augmented.csv')"
      ],
      "execution_count": null,
      "outputs": []
    },
    {
      "cell_type": "code",
      "metadata": {
        "id": "DpI3fmO54Xys",
        "colab_type": "code",
        "colab": {
          "base_uri": "https://localhost:8080/",
          "height": 34
        },
        "outputId": "49ccb121-c18f-4e38-acef-46e4274c2114"
      },
      "source": [
        "len(Dementia_augmented)"
      ],
      "execution_count": null,
      "outputs": [
        {
          "output_type": "execute_result",
          "data": {
            "text/plain": [
              "387"
            ]
          },
          "metadata": {
            "tags": []
          },
          "execution_count": 108
        }
      ]
    },
    {
      "cell_type": "code",
      "metadata": {
        "id": "a2sj71Icy3TR",
        "colab_type": "code",
        "colab": {}
      },
      "source": [
        "Total_augmented=pd.concat(Dementia_augmented, Control_augmented)"
      ],
      "execution_count": null,
      "outputs": []
    },
    {
      "cell_type": "code",
      "metadata": {
        "id": "mUjAD0-ss_uz",
        "colab_type": "code",
        "colab": {}
      },
      "source": [
        "DF=dataframe.replace('OK', None)\n",
        "DF.to_csv('/content/review4_augmented.csv')"
      ],
      "execution_count": null,
      "outputs": []
    },
    {
      "cell_type": "code",
      "metadata": {
        "id": "niAwG0xSMzag",
        "colab_type": "code",
        "colab": {}
      },
      "source": [
        "df=pd.read_csv('/content/Total_augmented_3_layers.csv', encoding='latin-1')"
      ],
      "execution_count": null,
      "outputs": []
    },
    {
      "cell_type": "code",
      "metadata": {
        "id": "Q_yw0sZd-Bsx",
        "colab_type": "code",
        "colab": {}
      },
      "source": [
        "df = df.replace(r'engine', np.nan, regex=True)\n",
        "df = df.replace(r'locomotive', np.nan, regex=True)\n",
        "df = df.replace(r'railway', np.nan, regex=True)"
      ],
      "execution_count": null,
      "outputs": []
    },
    {
      "cell_type": "code",
      "metadata": {
        "id": "U7LrTg1MnUSO",
        "colab_type": "code",
        "colab": {}
      },
      "source": [
        "df.to_csv('/content/Final_Total_augmented_3_layers.csv')"
      ],
      "execution_count": null,
      "outputs": []
    },
    {
      "cell_type": "code",
      "metadata": {
        "id": "yZn6L8n7nyci",
        "colab_type": "code",
        "colab": {}
      },
      "source": [
        ""
      ],
      "execution_count": null,
      "outputs": []
    }
  ]
}